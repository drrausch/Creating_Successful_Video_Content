{
 "cells": [
  {
   "cell_type": "code",
   "execution_count": 1,
   "metadata": {},
   "outputs": [],
   "source": [
    "import pandas as pd\n",
    "import numpy as np \n",
    "import matplotlib.pyplot as plt\n",
    "import seaborn as sns"
   ]
  },
  {
   "cell_type": "markdown",
   "metadata": {},
   "source": [
    "### Import Awards Data csv"
   ]
  },
  {
   "cell_type": "code",
   "execution_count": 2,
   "metadata": {
    "scrolled": true
   },
   "outputs": [
    {
     "data": {
      "text/html": [
       "<div>\n",
       "<style scoped>\n",
       "    .dataframe tbody tr th:only-of-type {\n",
       "        vertical-align: middle;\n",
       "    }\n",
       "\n",
       "    .dataframe tbody tr th {\n",
       "        vertical-align: top;\n",
       "    }\n",
       "\n",
       "    .dataframe thead th {\n",
       "        text-align: right;\n",
       "    }\n",
       "</style>\n",
       "<table border=\"1\" class=\"dataframe\">\n",
       "  <thead>\n",
       "    <tr style=\"text-align: right;\">\n",
       "      <th></th>\n",
       "      <th>Network</th>\n",
       "      <th>Award Year</th>\n",
       "      <th>Show Nominations</th>\n",
       "      <th>Actor Nominations</th>\n",
       "      <th>Total Nominations</th>\n",
       "    </tr>\n",
       "    <tr>\n",
       "      <th>Titles</th>\n",
       "      <th></th>\n",
       "      <th></th>\n",
       "      <th></th>\n",
       "      <th></th>\n",
       "      <th></th>\n",
       "    </tr>\n",
       "  </thead>\n",
       "  <tbody>\n",
       "    <tr>\n",
       "      <th>A Black Lady Sketch Show</th>\n",
       "      <td>NaN</td>\n",
       "      <td>2020</td>\n",
       "      <td>0</td>\n",
       "      <td>1</td>\n",
       "      <td>1</td>\n",
       "    </tr>\n",
       "    <tr>\n",
       "      <th>Atlanta</th>\n",
       "      <td>FX Networks</td>\n",
       "      <td>2018</td>\n",
       "      <td>5</td>\n",
       "      <td>4</td>\n",
       "      <td>9</td>\n",
       "    </tr>\n",
       "    <tr>\n",
       "      <th>Atlanta</th>\n",
       "      <td>FX Networks</td>\n",
       "      <td>2017</td>\n",
       "      <td>4</td>\n",
       "      <td>2</td>\n",
       "      <td>6</td>\n",
       "    </tr>\n",
       "    <tr>\n",
       "      <th>Barry</th>\n",
       "      <td>HBO</td>\n",
       "      <td>2019</td>\n",
       "      <td>4</td>\n",
       "      <td>5</td>\n",
       "      <td>9</td>\n",
       "    </tr>\n",
       "    <tr>\n",
       "      <th>Barry</th>\n",
       "      <td>HBO</td>\n",
       "      <td>2018</td>\n",
       "      <td>4</td>\n",
       "      <td>2</td>\n",
       "      <td>6</td>\n",
       "    </tr>\n",
       "  </tbody>\n",
       "</table>\n",
       "</div>"
      ],
      "text/plain": [
       "                              Network  Award Year  Show Nominations  \\\n",
       "Titles                                                                \n",
       "A Black Lady Sketch Show          NaN        2020                 0   \n",
       "Atlanta                   FX Networks        2018                 5   \n",
       "Atlanta                   FX Networks        2017                 4   \n",
       "Barry                             HBO        2019                 4   \n",
       "Barry                             HBO        2018                 4   \n",
       "\n",
       "                          Actor Nominations  Total Nominations  \n",
       "Titles                                                          \n",
       "A Black Lady Sketch Show                  1                  1  \n",
       "Atlanta                                   4                  9  \n",
       "Atlanta                                   2                  6  \n",
       "Barry                                     5                  9  \n",
       "Barry                                     2                  6  "
      ]
     },
     "execution_count": 2,
     "metadata": {},
     "output_type": "execute_result"
    }
   ],
   "source": [
    "awards_df = pd.read_csv('awards_df.csv')\n",
    "awards_df.set_index('Titles', inplace=True)\n",
    "awards_df.rename(columns={'Nominations': 'Show Nominations'}, inplace=True)\n",
    "awards_df.head()"
   ]
  },
  {
   "cell_type": "code",
   "execution_count": 3,
   "metadata": {
    "scrolled": false
   },
   "outputs": [],
   "source": [
    "#sns.catplot(data=awards_df, x='Network', kind='count', hue='Network',dodge=False, aspect=2);"
   ]
  },
  {
   "cell_type": "code",
   "execution_count": 4,
   "metadata": {
    "scrolled": false
   },
   "outputs": [],
   "source": [
    "#show nominations by network/ year\n",
    "#sns.catplot(data=awards_df, x='Network', y='Nominations', \n",
    "            #hue='Award Year',dodge=False, aspect=2, kind='bar', \n",
    "            #palette='CMRmap');"
   ]
  },
  {
   "cell_type": "code",
   "execution_count": 5,
   "metadata": {},
   "outputs": [
    {
     "data": {
      "text/html": [
       "<div>\n",
       "<style scoped>\n",
       "    .dataframe tbody tr th:only-of-type {\n",
       "        vertical-align: middle;\n",
       "    }\n",
       "\n",
       "    .dataframe tbody tr th {\n",
       "        vertical-align: top;\n",
       "    }\n",
       "\n",
       "    .dataframe thead th {\n",
       "        text-align: right;\n",
       "    }\n",
       "</style>\n",
       "<table border=\"1\" class=\"dataframe\">\n",
       "  <thead>\n",
       "    <tr style=\"text-align: right;\">\n",
       "      <th></th>\n",
       "      <th>Award Year</th>\n",
       "      <th>Show Nominations</th>\n",
       "      <th>Actor Nominations</th>\n",
       "      <th>Total Nominations</th>\n",
       "    </tr>\n",
       "    <tr>\n",
       "      <th>Network</th>\n",
       "      <th></th>\n",
       "      <th></th>\n",
       "      <th></th>\n",
       "      <th></th>\n",
       "    </tr>\n",
       "  </thead>\n",
       "  <tbody>\n",
       "    <tr>\n",
       "      <th>HBO</th>\n",
       "      <td>34315</td>\n",
       "      <td>32</td>\n",
       "      <td>56</td>\n",
       "      <td>88</td>\n",
       "    </tr>\n",
       "    <tr>\n",
       "      <th>Netflix</th>\n",
       "      <td>46428</td>\n",
       "      <td>21</td>\n",
       "      <td>38</td>\n",
       "      <td>59</td>\n",
       "    </tr>\n",
       "    <tr>\n",
       "      <th>Prime Video</th>\n",
       "      <td>8076</td>\n",
       "      <td>12</td>\n",
       "      <td>23</td>\n",
       "      <td>35</td>\n",
       "    </tr>\n",
       "    <tr>\n",
       "      <th>NBC</th>\n",
       "      <td>18169</td>\n",
       "      <td>8</td>\n",
       "      <td>21</td>\n",
       "      <td>29</td>\n",
       "    </tr>\n",
       "    <tr>\n",
       "      <th>FX Networks</th>\n",
       "      <td>16149</td>\n",
       "      <td>15</td>\n",
       "      <td>12</td>\n",
       "      <td>27</td>\n",
       "    </tr>\n",
       "    <tr>\n",
       "      <th>ABC</th>\n",
       "      <td>12111</td>\n",
       "      <td>4</td>\n",
       "      <td>14</td>\n",
       "      <td>18</td>\n",
       "    </tr>\n",
       "    <tr>\n",
       "      <th>Hulu</th>\n",
       "      <td>12114</td>\n",
       "      <td>7</td>\n",
       "      <td>11</td>\n",
       "      <td>18</td>\n",
       "    </tr>\n",
       "    <tr>\n",
       "      <th>Pop TV</th>\n",
       "      <td>4039</td>\n",
       "      <td>5</td>\n",
       "      <td>6</td>\n",
       "      <td>11</td>\n",
       "    </tr>\n",
       "    <tr>\n",
       "      <th>BBC America</th>\n",
       "      <td>6057</td>\n",
       "      <td>2</td>\n",
       "      <td>7</td>\n",
       "      <td>9</td>\n",
       "    </tr>\n",
       "    <tr>\n",
       "      <th>AMC</th>\n",
       "      <td>6056</td>\n",
       "      <td>3</td>\n",
       "      <td>5</td>\n",
       "      <td>8</td>\n",
       "    </tr>\n",
       "    <tr>\n",
       "      <th>CBS</th>\n",
       "      <td>4037</td>\n",
       "      <td>2</td>\n",
       "      <td>0</td>\n",
       "      <td>2</td>\n",
       "    </tr>\n",
       "    <tr>\n",
       "      <th>Disney+</th>\n",
       "      <td>2020</td>\n",
       "      <td>1</td>\n",
       "      <td>1</td>\n",
       "      <td>2</td>\n",
       "    </tr>\n",
       "  </tbody>\n",
       "</table>\n",
       "</div>"
      ],
      "text/plain": [
       "             Award Year  Show Nominations  Actor Nominations  \\\n",
       "Network                                                        \n",
       "HBO               34315                32                 56   \n",
       "Netflix           46428                21                 38   \n",
       "Prime Video        8076                12                 23   \n",
       "NBC               18169                 8                 21   \n",
       "FX Networks       16149                15                 12   \n",
       "ABC               12111                 4                 14   \n",
       "Hulu              12114                 7                 11   \n",
       "Pop TV             4039                 5                  6   \n",
       "BBC America        6057                 2                  7   \n",
       "AMC                6056                 3                  5   \n",
       "CBS                4037                 2                  0   \n",
       "Disney+            2020                 1                  1   \n",
       "\n",
       "             Total Nominations  \n",
       "Network                         \n",
       "HBO                         88  \n",
       "Netflix                     59  \n",
       "Prime Video                 35  \n",
       "NBC                         29  \n",
       "FX Networks                 27  \n",
       "ABC                         18  \n",
       "Hulu                        18  \n",
       "Pop TV                      11  \n",
       "BBC America                  9  \n",
       "AMC                          8  \n",
       "CBS                          2  \n",
       "Disney+                      2  "
      ]
     },
     "execution_count": 5,
     "metadata": {},
     "output_type": "execute_result"
    }
   ],
   "source": [
    "awards_grouped = awards_df.reset_index().groupby(['Network']).sum()\n",
    "awards_grouped.sort_values('Total Nominations', inplace=True, ascending=False)\n",
    "awards_grouped"
   ]
  },
  {
   "cell_type": "code",
   "execution_count": 6,
   "metadata": {
    "scrolled": false
   },
   "outputs": [
    {
     "data": {
      "image/png": "[encoded data removed]",
      "text/plain": [
       "<Figure size 1080x576 with 1 Axes>"
      ]
     },
     "metadata": {
      "needs_background": "light"
     },
     "output_type": "display_data"
    }
   ],
   "source": [
    "#show nominations by network for the last 4 years\n",
    "fig, ax = plt.subplots(figsize=(15,8))\n",
    "\n",
    "sns.barplot(data=awards_grouped.reset_index(),x='Network', y='Total Nominations',\n",
    "           dodge=False, palette='inferno');\n",
    "plt.title('Total Emmy Nominations by Network (2017-2020)')\n",
    "plt.savefig('images/TotalNominationsAllNetworks.png')"
   ]
  },
  {
   "cell_type": "code",
   "execution_count": 7,
   "metadata": {
    "scrolled": true
   },
   "outputs": [],
   "source": [
    "#total nominations by network/ year\n",
    "#sns.catplot(data=awards_df, x='Network', y='Total Nominations',\n",
    "            #hue='Award Year',dodge=False, aspect=2, kind='bar',\n",
    "            #palette='CMRmap');"
   ]
  },
  {
   "cell_type": "code",
   "execution_count": 8,
   "metadata": {},
   "outputs": [
    {
     "data": {
      "text/html": [
       "<div>\n",
       "<style scoped>\n",
       "    .dataframe tbody tr th:only-of-type {\n",
       "        vertical-align: middle;\n",
       "    }\n",
       "\n",
       "    .dataframe tbody tr th {\n",
       "        vertical-align: top;\n",
       "    }\n",
       "\n",
       "    .dataframe thead th {\n",
       "        text-align: right;\n",
       "    }\n",
       "</style>\n",
       "<table border=\"1\" class=\"dataframe\">\n",
       "  <thead>\n",
       "    <tr style=\"text-align: right;\">\n",
       "      <th></th>\n",
       "      <th>Network</th>\n",
       "      <th>Award Year</th>\n",
       "      <th>Show Nominations</th>\n",
       "      <th>Actor Nominations</th>\n",
       "      <th>Total Nominations</th>\n",
       "    </tr>\n",
       "    <tr>\n",
       "      <th>Titles</th>\n",
       "      <th></th>\n",
       "      <th></th>\n",
       "      <th></th>\n",
       "      <th></th>\n",
       "      <th></th>\n",
       "    </tr>\n",
       "  </thead>\n",
       "  <tbody>\n",
       "    <tr>\n",
       "      <th>Barry</th>\n",
       "      <td>HBO</td>\n",
       "      <td>2019</td>\n",
       "      <td>4</td>\n",
       "      <td>5</td>\n",
       "      <td>9</td>\n",
       "    </tr>\n",
       "    <tr>\n",
       "      <th>Barry</th>\n",
       "      <td>HBO</td>\n",
       "      <td>2018</td>\n",
       "      <td>4</td>\n",
       "      <td>2</td>\n",
       "      <td>6</td>\n",
       "    </tr>\n",
       "    <tr>\n",
       "      <th>Bodyguard</th>\n",
       "      <td>Netflix</td>\n",
       "      <td>2019</td>\n",
       "      <td>1</td>\n",
       "      <td>0</td>\n",
       "      <td>1</td>\n",
       "    </tr>\n",
       "  </tbody>\n",
       "</table>\n",
       "</div>"
      ],
      "text/plain": [
       "           Network  Award Year  Show Nominations  Actor Nominations  \\\n",
       "Titles                                                                \n",
       "Barry          HBO        2019                 4                  5   \n",
       "Barry          HBO        2018                 4                  2   \n",
       "Bodyguard  Netflix        2019                 1                  0   \n",
       "\n",
       "           Total Nominations  \n",
       "Titles                        \n",
       "Barry                      9  \n",
       "Barry                      6  \n",
       "Bodyguard                  1  "
      ]
     },
     "execution_count": 8,
     "metadata": {},
     "output_type": "execute_result"
    }
   ],
   "source": [
    "top_networks = ['HBO','Prime Video', 'Netflix']\n",
    "top_networks_boolean = awards_df.Network.isin(top_networks)\n",
    "top_networks_df = awards_df[top_networks_boolean]\n",
    "\n",
    "top_networks_df.head(3)"
   ]
  },
  {
   "cell_type": "code",
   "execution_count": 9,
   "metadata": {
    "scrolled": false
   },
   "outputs": [],
   "source": [
    "top_networks_grouped = top_networks_df.reset_index().groupby(['Network']).sum()"
   ]
  },
  {
   "cell_type": "code",
   "execution_count": 10,
   "metadata": {
    "scrolled": true
   },
   "outputs": [],
   "source": [
    "#sns.scatterplot(data=top_networks_df.reset_index(), \n",
    " #               x='Nominations', y='Actor Nominations', hue='Network')"
   ]
  },
  {
   "cell_type": "code",
   "execution_count": 11,
   "metadata": {},
   "outputs": [],
   "source": [
    "#sns.heatmap(top_networks_grouped)"
   ]
  },
  {
   "cell_type": "code",
   "execution_count": 12,
   "metadata": {
    "scrolled": true
   },
   "outputs": [],
   "source": [
    "#sns.jointplot(data=top_networks_df.reset_index(),x='Nominations', y='Actor Nominations', \n",
    " #          hue='Network',kind='kde');"
   ]
  },
  {
   "cell_type": "code",
   "execution_count": 13,
   "metadata": {},
   "outputs": [],
   "source": [
    "#sns.displot(data=top_networks_df,x='Nominations', y='Actor Nominations', \n",
    " #          hue='Network', palette='inferno')"
   ]
  },
  {
   "cell_type": "code",
   "execution_count": 14,
   "metadata": {
    "scrolled": true
   },
   "outputs": [
    {
     "data": {
      "text/html": [
       "<div>\n",
       "<style scoped>\n",
       "    .dataframe tbody tr th:only-of-type {\n",
       "        vertical-align: middle;\n",
       "    }\n",
       "\n",
       "    .dataframe tbody tr th {\n",
       "        vertical-align: top;\n",
       "    }\n",
       "\n",
       "    .dataframe thead th {\n",
       "        text-align: right;\n",
       "    }\n",
       "</style>\n",
       "<table border=\"1\" class=\"dataframe\">\n",
       "  <thead>\n",
       "    <tr style=\"text-align: right;\">\n",
       "      <th></th>\n",
       "      <th>Network</th>\n",
       "      <th>Award Year</th>\n",
       "      <th>Show Nominations</th>\n",
       "      <th>Actor Nominations</th>\n",
       "      <th>Total Nominations</th>\n",
       "    </tr>\n",
       "    <tr>\n",
       "      <th>Titles</th>\n",
       "      <th></th>\n",
       "      <th></th>\n",
       "      <th></th>\n",
       "      <th></th>\n",
       "      <th></th>\n",
       "    </tr>\n",
       "  </thead>\n",
       "  <tbody>\n",
       "    <tr>\n",
       "      <th>Barry</th>\n",
       "      <td>HBO</td>\n",
       "      <td>2019</td>\n",
       "      <td>4</td>\n",
       "      <td>5</td>\n",
       "      <td>9</td>\n",
       "    </tr>\n",
       "    <tr>\n",
       "      <th>Barry</th>\n",
       "      <td>HBO</td>\n",
       "      <td>2018</td>\n",
       "      <td>4</td>\n",
       "      <td>2</td>\n",
       "      <td>6</td>\n",
       "    </tr>\n",
       "    <tr>\n",
       "      <th>Bodyguard</th>\n",
       "      <td>Netflix</td>\n",
       "      <td>2019</td>\n",
       "      <td>1</td>\n",
       "      <td>0</td>\n",
       "      <td>1</td>\n",
       "    </tr>\n",
       "    <tr>\n",
       "      <th>Curb Your Enthusiasm</th>\n",
       "      <td>HBO</td>\n",
       "      <td>2020</td>\n",
       "      <td>1</td>\n",
       "      <td>0</td>\n",
       "      <td>1</td>\n",
       "    </tr>\n",
       "    <tr>\n",
       "      <th>Curb Your Enthusiasm</th>\n",
       "      <td>HBO</td>\n",
       "      <td>2018</td>\n",
       "      <td>1</td>\n",
       "      <td>3</td>\n",
       "      <td>4</td>\n",
       "    </tr>\n",
       "  </tbody>\n",
       "</table>\n",
       "</div>"
      ],
      "text/plain": [
       "                      Network  Award Year  Show Nominations  \\\n",
       "Titles                                                        \n",
       "Barry                     HBO        2019                 4   \n",
       "Barry                     HBO        2018                 4   \n",
       "Bodyguard             Netflix        2019                 1   \n",
       "Curb Your Enthusiasm      HBO        2020                 1   \n",
       "Curb Your Enthusiasm      HBO        2018                 1   \n",
       "\n",
       "                      Actor Nominations  Total Nominations  \n",
       "Titles                                                      \n",
       "Barry                                 5                  9  \n",
       "Barry                                 2                  6  \n",
       "Bodyguard                             0                  1  \n",
       "Curb Your Enthusiasm                  0                  1  \n",
       "Curb Your Enthusiasm                  3                  4  "
      ]
     },
     "execution_count": 14,
     "metadata": {},
     "output_type": "execute_result"
    }
   ],
   "source": [
    "top_networks_df.head()"
   ]
  },
  {
   "cell_type": "code",
   "execution_count": 15,
   "metadata": {},
   "outputs": [],
   "source": [
    "hbo_df = top_networks_df.loc[top_networks_df['Network'] == 'HBO']\n",
    "netflix_df = top_networks_df.loc[top_networks_df['Network'] == 'Netflix']\n",
    "prime_df = top_networks_df.loc[top_networks_df['Network'] == 'Prime Video']"
   ]
  },
  {
   "cell_type": "code",
   "execution_count": 16,
   "metadata": {},
   "outputs": [
    {
     "data": {
      "image/png": "[encoded data removed]",
      "text/plain": [
       "<Figure size 1080x360 with 3 Axes>"
      ]
     },
     "metadata": {
      "needs_background": "light"
     },
     "output_type": "display_data"
    }
   ],
   "source": [
    "sns.displot(data=top_networks_df,x='Show Nominations', y='Actor Nominations', \n",
    "            col='Network', palette='inferno');\n",
    "plt.savefig('NominationsByNetwork')"
   ]
  },
  {
   "cell_type": "code",
   "execution_count": 17,
   "metadata": {},
   "outputs": [],
   "source": [
    "#f, axes = plt.subplots(1,3)\n",
    "\n",
    "#sns.displot(data=hbo_df,x='Nominations', y='Actor Nominations');"
   ]
  },
  {
   "cell_type": "code",
   "execution_count": 18,
   "metadata": {},
   "outputs": [],
   "source": [
    "#sns.displot(data=netflix_df,x='Nominations', y='Actor Nominations');"
   ]
  },
  {
   "cell_type": "code",
   "execution_count": 19,
   "metadata": {
    "scrolled": true
   },
   "outputs": [],
   "source": [
    "#sns.displot(data=prime_df,x='Nominations', y='Actor Nominations');"
   ]
  },
  {
   "cell_type": "code",
   "execution_count": 20,
   "metadata": {},
   "outputs": [],
   "source": [
    "# top 3 nominated networks, total nominations over years\n",
    "#plt.figure(figsize=(10,6))\n",
    "\n",
    "#sns.lineplot(data=top_networks_grouped.reset_index(), x='Award Year', y='Total Nominations',\n",
    " #           hue='Network', \n",
    "  #          palette='CMRmap');"
   ]
  },
  {
   "cell_type": "code",
   "execution_count": 21,
   "metadata": {},
   "outputs": [],
   "source": [
    "#sns.catplot(data=top_networks_df.reset_index(), x='Network', \n",
    "            #kind='count', palette='CMRmap', height=7, hue='index', ci=False,\n",
    "            #dodge=False, legend=True);"
   ]
  },
  {
   "cell_type": "code",
   "execution_count": 22,
   "metadata": {},
   "outputs": [],
   "source": [
    "#top_networks_df.reset_index().groupby(['Network','index']).sum().unstack().plot(kind='bar', \n",
    " #                                                                               stacked=True, legend=False)"
   ]
  },
  {
   "cell_type": "code",
   "execution_count": 23,
   "metadata": {},
   "outputs": [],
   "source": [
    "years = ['2019','2020']\n",
    "years_boolean = top_networks_df[\"Award Year\"].isin(years)\n",
    "top_networks_grouped1 = top_networks_df[years_boolean]\n",
    "top_networks_years = top_networks_grouped1.groupby(['Network', 'Titles']).sum().unstack()"
   ]
  },
  {
   "cell_type": "code",
   "execution_count": 24,
   "metadata": {},
   "outputs": [
    {
     "data": {
      "text/plain": [
       "<matplotlib.colors.ListedColormap at 0x196794a14c0>"
      ]
     },
     "execution_count": 24,
     "metadata": {},
     "output_type": "execute_result"
    }
   ],
   "source": [
    "sns.color_palette('inferno',as_cmap=True)"
   ]
  },
  {
   "cell_type": "code",
   "execution_count": 25,
   "metadata": {
    "scrolled": false
   },
   "outputs": [
    {
     "data": {
      "image/png": "[encoded data removed]",
      "text/plain": [
       "<Figure size 432x288 with 1 Axes>"
      ]
     },
     "metadata": {
      "needs_background": "light"
     },
     "output_type": "display_data"
    }
   ],
   "source": [
    "#number of shows per top network, for award years 19 and 20 only\n",
    "top_networks_years.reset_index().plot(kind='bar', x='Network', y='Total Nominations', \n",
    "                                      stacked=True, colormap='flare_r', legend=False);\n",
    "plt.title('Nominated Shows for Top Networks in 2019 & 2020');\n",
    "plt.ylabel('Total Nominations');\n",
    "plt.savefig('TopNetworkShows')"
   ]
  },
  {
   "cell_type": "code",
   "execution_count": 26,
   "metadata": {
    "scrolled": true
   },
   "outputs": [],
   "source": [
    "#sns.displot(data=top_networks_df.reset_index(), x='Network',y='Total Nominations')"
   ]
  },
  {
   "cell_type": "code",
   "execution_count": 27,
   "metadata": {},
   "outputs": [],
   "source": [
    "#sns.displot(data=top_networks_df.reset_index(), y=\"Total Nominations\", hue='index', multiple=\"stack\", palette='inferno');"
   ]
  },
  {
   "cell_type": "code",
   "execution_count": 28,
   "metadata": {},
   "outputs": [],
   "source": [
    "import plotly.express as px"
   ]
  },
  {
   "cell_type": "code",
   "execution_count": null,
   "metadata": {},
   "outputs": [],
   "source": []
  }
 ],
 "metadata": {
  "kernelspec": {
   "display_name": "Python 3",
   "language": "python",
   "name": "python3"
  },
  "language_info": {
   "codemirror_mode": {
    "name": "ipython",
    "version": 3
   },
   "file_extension": ".py",
   "mimetype": "text/x-python",
   "name": "python",
   "nbconvert_exporter": "python",
   "pygments_lexer": "ipython3",
   "version": "3.8.3"
  }
 },
 "nbformat": 4,
 "nbformat_minor": 4
}
