{
 "cells": [
  {
   "cell_type": "markdown",
   "metadata": {},
   "source": [
    "List of links possibly worth investigating:\n",
    "https://rapidapi.com/collection/tv-api\n",
    "https://tvlistings.ctvdigital.net/service/metadata\n",
    "https://tvlistings.gracenote.com/grid-affiliates.html?aid=orbebb\n",
    "https://www.the-numbers.com/tv-show/That-70s-Show#tab=summary\n",
    "https://www.businessofapps.com/data/netflix-statistics/#1\n",
    "https://www.statista.com/chart/10311/netflix-subscriptions-usa-international/\n",
    "https://www.lafabbricadellarealta.com/open-data-entertainment/"
   ]
  },
  {
   "cell_type": "code",
   "execution_count": 1,
   "metadata": {},
   "outputs": [],
   "source": [
    "import pandas as pd\n",
    "from bs4 import BeautifulSoup\n",
    "import requests"
   ]
  },
  {
   "cell_type": "code",
   "execution_count": 2,
   "metadata": {},
   "outputs": [],
   "source": [
    "url3 = 'https://www.emmys.com/awards/nominees-winners'\n",
    "html3 = requests.get(url3)\n",
    "soup3 = BeautifulSoup(html3.content, 'lxml')"
   ]
  },
  {
   "cell_type": "code",
   "execution_count": 3,
   "metadata": {},
   "outputs": [],
   "source": [
    "award_titles_container = soup3.find('div', class_ = 'section-content item-list pt-3 row')"
   ]
  },
  {
   "cell_type": "code",
   "execution_count": 4,
   "metadata": {},
   "outputs": [],
   "source": [
    "titles = award_titles_container.findAll('h5', class_ = 'mb-1')"
   ]
  },
  {
   "cell_type": "code",
   "execution_count": 5,
   "metadata": {},
   "outputs": [],
   "source": [
    "nominated_shows = []\n",
    "for tag in titles[:7]:\n",
    "    nominated_shows.append(tag.text.strip())\n",
    "#nominated_shows"
   ]
  },
  {
   "cell_type": "code",
   "execution_count": 6,
   "metadata": {},
   "outputs": [],
   "source": [
    "actors = []\n",
    "for tag in titles[8:]:\n",
    "    actors.append(tag.text.strip())\n",
    "#actors"
   ]
  },
  {
   "cell_type": "code",
   "execution_count": 7,
   "metadata": {},
   "outputs": [],
   "source": [
    "show_names_for_actors = award_titles_container.findAll('div', class_ = 'p1 show-title')\n",
    "#show_names_for_actors"
   ]
  },
  {
   "cell_type": "code",
   "execution_count": 8,
   "metadata": {},
   "outputs": [],
   "source": [
    "shows_nominated_actors = []\n",
    "for tag in show_names_for_actors:\n",
    "    shows_nominated_actors.append(tag.text.strip())\n",
    "#shows_nominated_actors"
   ]
  },
  {
   "cell_type": "code",
   "execution_count": 9,
   "metadata": {},
   "outputs": [],
   "source": [
    "url4 = 'https://www.emmys.com/awards/nominees-winners?page=1'\n",
    "html4 = requests.get(url4)\n",
    "soup4 = BeautifulSoup(html4.content, 'lxml')\n",
    "#soup"
   ]
  },
  {
   "cell_type": "code",
   "execution_count": 10,
   "metadata": {},
   "outputs": [],
   "source": [
    "award_titles_container2 = soup4.find('div', class_ = 'section-content item-list pt-3 row')\n",
    "#award_titles_container2"
   ]
  },
  {
   "cell_type": "code",
   "execution_count": 11,
   "metadata": {},
   "outputs": [],
   "source": [
    "titles2 = award_titles_container2.findAll('h5', class_ = 'mb-1')\n",
    "#titles2"
   ]
  },
  {
   "cell_type": "code",
   "execution_count": 12,
   "metadata": {},
   "outputs": [],
   "source": [
    "for tag in titles2[5:28]:\n",
    "    nominated_shows.append(tag.text.strip())\n",
    "#nominated_shows"
   ]
  },
  {
   "cell_type": "code",
   "execution_count": 13,
   "metadata": {},
   "outputs": [],
   "source": [
    "for tag in titles2[:6]:\n",
    "    actors.append(tag.text.strip())"
   ]
  },
  {
   "cell_type": "code",
   "execution_count": 14,
   "metadata": {},
   "outputs": [],
   "source": [
    "for tag in titles2[28:]:\n",
    "    actors.append(tag.text.strip())"
   ]
  },
  {
   "cell_type": "code",
   "execution_count": 15,
   "metadata": {
    "scrolled": false
   },
   "outputs": [],
   "source": [
    "#actors"
   ]
  },
  {
   "cell_type": "code",
   "execution_count": 16,
   "metadata": {},
   "outputs": [],
   "source": [
    "show_names_for_actors2 = award_titles_container2.findAll('div', class_ = 'p1 show-title')"
   ]
  },
  {
   "cell_type": "code",
   "execution_count": 17,
   "metadata": {},
   "outputs": [],
   "source": [
    "for tag in show_names_for_actors2:\n",
    "    shows_nominated_actors.append(tag.text.strip())"
   ]
  },
  {
   "cell_type": "code",
   "execution_count": 18,
   "metadata": {},
   "outputs": [],
   "source": [
    "url5 = 'https://www.emmys.com/awards/nominees-winners?page=2'\n",
    "html5 = requests.get(url5)\n",
    "soup5 = BeautifulSoup(html5.content, 'lxml')"
   ]
  },
  {
   "cell_type": "code",
   "execution_count": 19,
   "metadata": {},
   "outputs": [],
   "source": [
    "award_titles_container3 = soup5.find('div', class_ = 'section-content item-list pt-3 row')"
   ]
  },
  {
   "cell_type": "code",
   "execution_count": 20,
   "metadata": {},
   "outputs": [],
   "source": [
    "titles3 = award_titles_container3.findAll('h5', class_ = 'mb-1')"
   ]
  },
  {
   "cell_type": "code",
   "execution_count": 21,
   "metadata": {},
   "outputs": [],
   "source": [
    "for tag in titles3[:-6]:\n",
    "    actors.append(tag.text.strip())"
   ]
  },
  {
   "cell_type": "code",
   "execution_count": 22,
   "metadata": {},
   "outputs": [],
   "source": [
    "shows_nominated_actors3 = soup5.findAll('div', class_ = 'p1 show-title')"
   ]
  },
  {
   "cell_type": "code",
   "execution_count": 23,
   "metadata": {
    "scrolled": true
   },
   "outputs": [],
   "source": [
    "for tag in shows_nominated_actors3[:-1]:\n",
    "    shows_nominated_actors.append(tag.text.strip())\n",
    "#shows_nominated_actors"
   ]
  },
  {
   "cell_type": "code",
   "execution_count": 24,
   "metadata": {},
   "outputs": [
    {
     "name": "stdout",
     "output_type": "stream",
     "text": [
      "80\n",
      "80\n"
     ]
    }
   ],
   "source": [
    "#make sure lists are same length before creating a dictionary \n",
    "print(len(actors))\n",
    "print(len(shows_nominated_actors))"
   ]
  },
  {
   "cell_type": "code",
   "execution_count": 25,
   "metadata": {},
   "outputs": [],
   "source": [
    "#dictionary pairing nominated actors and the shows they were nominated for \n",
    "nominated_actors = dict(zip(actors, shows_nominated_actors))\n",
    "#nominated_actors"
   ]
  },
  {
   "cell_type": "code",
   "execution_count": 26,
   "metadata": {},
   "outputs": [],
   "source": [
    "nominated_shows_dict = dict((x,nominated_shows.count(x)) for x in nominated_shows)"
   ]
  },
  {
   "cell_type": "code",
   "execution_count": 27,
   "metadata": {},
   "outputs": [],
   "source": [
    "#nominated_shows_dict"
   ]
  },
  {
   "cell_type": "code",
   "execution_count": 28,
   "metadata": {},
   "outputs": [
    {
     "data": {
      "text/plain": [
       "21"
      ]
     },
     "execution_count": 28,
     "metadata": {},
     "output_type": "execute_result"
    }
   ],
   "source": [
    "df = pd.DataFrame.from_dict(nominated_shows_dict, 'index')\n",
    "df.columns = ['Nominations']\n",
    "len(df)                                                          "
   ]
  },
  {
   "cell_type": "code",
   "execution_count": 29,
   "metadata": {},
   "outputs": [],
   "source": [
    "actor_show_noms = dict((x,shows_nominated_actors.count(x)) for x in shows_nominated_actors)\n",
    "#actor_show_noms"
   ]
  },
  {
   "cell_type": "code",
   "execution_count": 30,
   "metadata": {},
   "outputs": [
    {
     "data": {
      "text/html": [
       "<div>\n",
       "<style scoped>\n",
       "    .dataframe tbody tr th:only-of-type {\n",
       "        vertical-align: middle;\n",
       "    }\n",
       "\n",
       "    .dataframe tbody tr th {\n",
       "        vertical-align: top;\n",
       "    }\n",
       "\n",
       "    .dataframe thead th {\n",
       "        text-align: right;\n",
       "    }\n",
       "</style>\n",
       "<table border=\"1\" class=\"dataframe\">\n",
       "  <thead>\n",
       "    <tr style=\"text-align: right;\">\n",
       "      <th></th>\n",
       "      <th>Actor Nominations</th>\n",
       "    </tr>\n",
       "  </thead>\n",
       "  <tbody>\n",
       "    <tr>\n",
       "      <th>Black Monday</th>\n",
       "      <td>1</td>\n",
       "    </tr>\n",
       "    <tr>\n",
       "      <th>black-ish</th>\n",
       "      <td>2</td>\n",
       "    </tr>\n",
       "    <tr>\n",
       "      <th>Ramy</th>\n",
       "      <td>2</td>\n",
       "    </tr>\n",
       "    <tr>\n",
       "      <th>Schitt's Creek</th>\n",
       "      <td>4</td>\n",
       "    </tr>\n",
       "    <tr>\n",
       "      <th>The Good Place</th>\n",
       "      <td>4</td>\n",
       "    </tr>\n",
       "  </tbody>\n",
       "</table>\n",
       "</div>"
      ],
      "text/plain": [
       "                Actor Nominations\n",
       "Black Monday                    1\n",
       "black-ish                       2\n",
       "Ramy                            2\n",
       "Schitt's Creek                  4\n",
       "The Good Place                  4"
      ]
     },
     "execution_count": 30,
     "metadata": {},
     "output_type": "execute_result"
    }
   ],
   "source": [
    "df2 = pd.DataFrame.from_dict(actor_show_noms,'index')\n",
    "df2.columns = ['Actor Nominations']\n",
    "df2.head()"
   ]
  },
  {
   "cell_type": "code",
   "execution_count": 31,
   "metadata": {},
   "outputs": [],
   "source": [
    "joined_df = df.join(df2,how = 'outer')\n",
    "joined_df.fillna(0, inplace=True)\n",
    "#joined_df"
   ]
  },
  {
   "cell_type": "code",
   "execution_count": 32,
   "metadata": {},
   "outputs": [
    {
     "name": "stdout",
     "output_type": "stream",
     "text": [
      "<class 'pandas.core.frame.DataFrame'>\n",
      "Index: 39 entries, A Black Lady Sketch Show to black-ish\n",
      "Data columns (total 2 columns):\n",
      " #   Column             Non-Null Count  Dtype  \n",
      "---  ------             --------------  -----  \n",
      " 0   Nominations        39 non-null     float64\n",
      " 1   Actor Nominations  39 non-null     float64\n",
      "dtypes: float64(2)\n",
      "memory usage: 936.0+ bytes\n"
     ]
    }
   ],
   "source": [
    "joined_df.info()"
   ]
  },
  {
   "cell_type": "code",
   "execution_count": 33,
   "metadata": {},
   "outputs": [],
   "source": [
    "pd.options.display.float_format = '{:,.0f}'.format"
   ]
  },
  {
   "cell_type": "code",
   "execution_count": 34,
   "metadata": {},
   "outputs": [],
   "source": [
    "#joined_df"
   ]
  },
  {
   "cell_type": "markdown",
   "metadata": {},
   "source": [
    "Next steps: \n",
    "1. pull in network from Emmy's page\n",
    "2. find genre \n",
    "3. look into other awards shows/ international awards"
   ]
  },
  {
   "cell_type": "code",
   "execution_count": 35,
   "metadata": {},
   "outputs": [],
   "source": [
    "joined_df['Award Year'] = '2020'"
   ]
  },
  {
   "cell_type": "code",
   "execution_count": 36,
   "metadata": {},
   "outputs": [
    {
     "data": {
      "text/html": [
       "<div>\n",
       "<style scoped>\n",
       "    .dataframe tbody tr th:only-of-type {\n",
       "        vertical-align: middle;\n",
       "    }\n",
       "\n",
       "    .dataframe tbody tr th {\n",
       "        vertical-align: top;\n",
       "    }\n",
       "\n",
       "    .dataframe thead th {\n",
       "        text-align: right;\n",
       "    }\n",
       "</style>\n",
       "<table border=\"1\" class=\"dataframe\">\n",
       "  <thead>\n",
       "    <tr style=\"text-align: right;\">\n",
       "      <th></th>\n",
       "      <th>Nominations</th>\n",
       "      <th>Actor Nominations</th>\n",
       "      <th>Award Year</th>\n",
       "    </tr>\n",
       "  </thead>\n",
       "  <tbody>\n",
       "    <tr>\n",
       "      <th>A Black Lady Sketch Show</th>\n",
       "      <td>0</td>\n",
       "      <td>1</td>\n",
       "      <td>2020</td>\n",
       "    </tr>\n",
       "    <tr>\n",
       "      <th>Bette Midler</th>\n",
       "      <td>1</td>\n",
       "      <td>0</td>\n",
       "      <td>2020</td>\n",
       "    </tr>\n",
       "    <tr>\n",
       "      <th>Better Call Saul</th>\n",
       "      <td>1</td>\n",
       "      <td>1</td>\n",
       "      <td>2020</td>\n",
       "    </tr>\n",
       "    <tr>\n",
       "      <th>Big Little Lies</th>\n",
       "      <td>0</td>\n",
       "      <td>2</td>\n",
       "      <td>2020</td>\n",
       "    </tr>\n",
       "    <tr>\n",
       "      <th>Black Mirror</th>\n",
       "      <td>0</td>\n",
       "      <td>1</td>\n",
       "      <td>2020</td>\n",
       "    </tr>\n",
       "    <tr>\n",
       "      <th>Black Monday</th>\n",
       "      <td>0</td>\n",
       "      <td>1</td>\n",
       "      <td>2020</td>\n",
       "    </tr>\n",
       "    <tr>\n",
       "      <th>Brooklyn Nine-Nine</th>\n",
       "      <td>0</td>\n",
       "      <td>1</td>\n",
       "      <td>2020</td>\n",
       "    </tr>\n",
       "    <tr>\n",
       "      <th>Curb Your Enthusiasm</th>\n",
       "      <td>1</td>\n",
       "      <td>0</td>\n",
       "      <td>2020</td>\n",
       "    </tr>\n",
       "    <tr>\n",
       "      <th>Dead To Me</th>\n",
       "      <td>1</td>\n",
       "      <td>2</td>\n",
       "      <td>2020</td>\n",
       "    </tr>\n",
       "    <tr>\n",
       "      <th>Euphoria</th>\n",
       "      <td>0</td>\n",
       "      <td>1</td>\n",
       "      <td>2020</td>\n",
       "    </tr>\n",
       "    <tr>\n",
       "      <th>GLOW</th>\n",
       "      <td>0</td>\n",
       "      <td>1</td>\n",
       "      <td>2020</td>\n",
       "    </tr>\n",
       "    <tr>\n",
       "      <th>How To Get Away With Murder</th>\n",
       "      <td>0</td>\n",
       "      <td>1</td>\n",
       "      <td>2020</td>\n",
       "    </tr>\n",
       "    <tr>\n",
       "      <th>Insecure</th>\n",
       "      <td>1</td>\n",
       "      <td>2</td>\n",
       "      <td>2020</td>\n",
       "    </tr>\n",
       "    <tr>\n",
       "      <th>Killing Eve</th>\n",
       "      <td>1</td>\n",
       "      <td>3</td>\n",
       "      <td>2020</td>\n",
       "    </tr>\n",
       "    <tr>\n",
       "      <th>Modern Family</th>\n",
       "      <td>1</td>\n",
       "      <td>1</td>\n",
       "      <td>2020</td>\n",
       "    </tr>\n",
       "    <tr>\n",
       "      <th>Modern Love</th>\n",
       "      <td>0</td>\n",
       "      <td>1</td>\n",
       "      <td>2020</td>\n",
       "    </tr>\n",
       "    <tr>\n",
       "      <th>Orange Is The New Black</th>\n",
       "      <td>0</td>\n",
       "      <td>1</td>\n",
       "      <td>2020</td>\n",
       "    </tr>\n",
       "    <tr>\n",
       "      <th>Ozark</th>\n",
       "      <td>1</td>\n",
       "      <td>3</td>\n",
       "      <td>2020</td>\n",
       "    </tr>\n",
       "    <tr>\n",
       "      <th>Pose</th>\n",
       "      <td>0</td>\n",
       "      <td>1</td>\n",
       "      <td>2020</td>\n",
       "    </tr>\n",
       "    <tr>\n",
       "      <th>Ramy</th>\n",
       "      <td>1</td>\n",
       "      <td>2</td>\n",
       "      <td>2020</td>\n",
       "    </tr>\n",
       "    <tr>\n",
       "      <th>Saturday Night Live</th>\n",
       "      <td>0</td>\n",
       "      <td>8</td>\n",
       "      <td>2020</td>\n",
       "    </tr>\n",
       "    <tr>\n",
       "      <th>Schitt's Creek</th>\n",
       "      <td>4</td>\n",
       "      <td>4</td>\n",
       "      <td>2020</td>\n",
       "    </tr>\n",
       "    <tr>\n",
       "      <th>Stranger Things</th>\n",
       "      <td>1</td>\n",
       "      <td>0</td>\n",
       "      <td>2020</td>\n",
       "    </tr>\n",
       "    <tr>\n",
       "      <th>Succession</th>\n",
       "      <td>1</td>\n",
       "      <td>9</td>\n",
       "      <td>2020</td>\n",
       "    </tr>\n",
       "    <tr>\n",
       "      <th>The Crown</th>\n",
       "      <td>1</td>\n",
       "      <td>2</td>\n",
       "      <td>2020</td>\n",
       "    </tr>\n",
       "    <tr>\n",
       "      <th>The Good Place</th>\n",
       "      <td>2</td>\n",
       "      <td>4</td>\n",
       "      <td>2020</td>\n",
       "    </tr>\n",
       "    <tr>\n",
       "      <th>The Great</th>\n",
       "      <td>2</td>\n",
       "      <td>0</td>\n",
       "      <td>2020</td>\n",
       "    </tr>\n",
       "    <tr>\n",
       "      <th>The Handmaid's Tale</th>\n",
       "      <td>1</td>\n",
       "      <td>3</td>\n",
       "      <td>2020</td>\n",
       "    </tr>\n",
       "    <tr>\n",
       "      <th>The Kominsky Method</th>\n",
       "      <td>1</td>\n",
       "      <td>2</td>\n",
       "      <td>2020</td>\n",
       "    </tr>\n",
       "    <tr>\n",
       "      <th>The Mandalorian</th>\n",
       "      <td>1</td>\n",
       "      <td>1</td>\n",
       "      <td>2020</td>\n",
       "    </tr>\n",
       "    <tr>\n",
       "      <th>The Marvelous Mrs. Maisel</th>\n",
       "      <td>3</td>\n",
       "      <td>7</td>\n",
       "      <td>2020</td>\n",
       "    </tr>\n",
       "    <tr>\n",
       "      <th>The Morning Show</th>\n",
       "      <td>0</td>\n",
       "      <td>5</td>\n",
       "      <td>2020</td>\n",
       "    </tr>\n",
       "    <tr>\n",
       "      <th>The Outsider</th>\n",
       "      <td>0</td>\n",
       "      <td>1</td>\n",
       "      <td>2020</td>\n",
       "    </tr>\n",
       "    <tr>\n",
       "      <th>The Politician</th>\n",
       "      <td>0</td>\n",
       "      <td>1</td>\n",
       "      <td>2020</td>\n",
       "    </tr>\n",
       "    <tr>\n",
       "      <th>This Is Us</th>\n",
       "      <td>0</td>\n",
       "      <td>3</td>\n",
       "      <td>2020</td>\n",
       "    </tr>\n",
       "    <tr>\n",
       "      <th>Westworld</th>\n",
       "      <td>0</td>\n",
       "      <td>2</td>\n",
       "      <td>2020</td>\n",
       "    </tr>\n",
       "    <tr>\n",
       "      <th>What We Do In The Shadows</th>\n",
       "      <td>3</td>\n",
       "      <td>0</td>\n",
       "      <td>2020</td>\n",
       "    </tr>\n",
       "    <tr>\n",
       "      <th>Will &amp; Grace</th>\n",
       "      <td>1</td>\n",
       "      <td>0</td>\n",
       "      <td>2020</td>\n",
       "    </tr>\n",
       "    <tr>\n",
       "      <th>black-ish</th>\n",
       "      <td>0</td>\n",
       "      <td>2</td>\n",
       "      <td>2020</td>\n",
       "    </tr>\n",
       "  </tbody>\n",
       "</table>\n",
       "</div>"
      ],
      "text/plain": [
       "                             Nominations  Actor Nominations Award Year\n",
       "A Black Lady Sketch Show               0                  1       2020\n",
       "Bette Midler                           1                  0       2020\n",
       "Better Call Saul                       1                  1       2020\n",
       "Big Little Lies                        0                  2       2020\n",
       "Black Mirror                           0                  1       2020\n",
       "Black Monday                           0                  1       2020\n",
       "Brooklyn Nine-Nine                     0                  1       2020\n",
       "Curb Your Enthusiasm                   1                  0       2020\n",
       "Dead To Me                             1                  2       2020\n",
       "Euphoria                               0                  1       2020\n",
       "GLOW                                   0                  1       2020\n",
       "How To Get Away With Murder            0                  1       2020\n",
       "Insecure                               1                  2       2020\n",
       "Killing Eve                            1                  3       2020\n",
       "Modern Family                          1                  1       2020\n",
       "Modern Love                            0                  1       2020\n",
       "Orange Is The New Black                0                  1       2020\n",
       "Ozark                                  1                  3       2020\n",
       "Pose                                   0                  1       2020\n",
       "Ramy                                   1                  2       2020\n",
       "Saturday Night Live                    0                  8       2020\n",
       "Schitt's Creek                         4                  4       2020\n",
       "Stranger Things                        1                  0       2020\n",
       "Succession                             1                  9       2020\n",
       "The Crown                              1                  2       2020\n",
       "The Good Place                         2                  4       2020\n",
       "The Great                              2                  0       2020\n",
       "The Handmaid's Tale                    1                  3       2020\n",
       "The Kominsky Method                    1                  2       2020\n",
       "The Mandalorian                        1                  1       2020\n",
       "The Marvelous Mrs. Maisel              3                  7       2020\n",
       "The Morning Show                       0                  5       2020\n",
       "The Outsider                           0                  1       2020\n",
       "The Politician                         0                  1       2020\n",
       "This Is Us                             0                  3       2020\n",
       "Westworld                              0                  2       2020\n",
       "What We Do In The Shadows              3                  0       2020\n",
       "Will & Grace                           1                  0       2020\n",
       "black-ish                              0                  2       2020"
      ]
     },
     "execution_count": 36,
     "metadata": {},
     "output_type": "execute_result"
    }
   ],
   "source": [
    "joined_df"
   ]
  },
  {
   "cell_type": "code",
   "execution_count": 37,
   "metadata": {},
   "outputs": [],
   "source": [
    "url2019 = 'https://www.emmys.com/awards/nominees-winners/2019'\n",
    "html2019 = requests.get(url2019)\n",
    "soup2019 = BeautifulSoup(html2019.content, 'lxml')"
   ]
  },
  {
   "cell_type": "code",
   "execution_count": 38,
   "metadata": {},
   "outputs": [],
   "source": [
    "award_titles_container2019 = soup2019.find('div', class_ = 'section-content item-list pt-3 row')"
   ]
  },
  {
   "cell_type": "code",
   "execution_count": 39,
   "metadata": {},
   "outputs": [],
   "source": [
    "titles2019 = award_titles_container2019.findAll('h5', class_ = 'mb-1')"
   ]
  },
  {
   "cell_type": "code",
   "execution_count": 40,
   "metadata": {},
   "outputs": [],
   "source": [
    "shows2019 = []\n",
    "for tag in titles2019[:7]:\n",
    "    shows2019.append(tag.text.strip())\n",
    "\n",
    "actors2019 = []\n",
    "for tag in titles2019[7:]:\n",
    "    actors2019.append(tag.text.strip())\n",
    "\n",
    "show_names_for_actors2019 = award_titles_container2019.findAll('div', class_ = 'p1 show-title')\n",
    "\n",
    "shows_nominated_actors2019 = []\n",
    "for tag in show_names_for_actors2019:\n",
    "    shows_nominated_actors2019.append(tag.text.strip())"
   ]
  },
  {
   "cell_type": "code",
   "execution_count": 41,
   "metadata": {
    "scrolled": true
   },
   "outputs": [
    {
     "name": "stdout",
     "output_type": "stream",
     "text": [
      "33\n",
      "33\n"
     ]
    }
   ],
   "source": [
    "print(len(shows_nominated_actors2019))\n",
    "print(len(actors2019))"
   ]
  },
  {
   "cell_type": "code",
   "execution_count": 42,
   "metadata": {},
   "outputs": [],
   "source": [
    "url2019_1 = 'https://www.emmys.com/awards/nominees-winners/2019?page=1'\n",
    "html2019_1 = requests.get(url2019_1)\n",
    "soup2019_1 = BeautifulSoup(html2019_1.content, 'lxml')"
   ]
  },
  {
   "cell_type": "code",
   "execution_count": 43,
   "metadata": {},
   "outputs": [],
   "source": [
    "award_titles_container2019_1 = soup2019_1.find('div', class_ = 'section-content item-list pt-3 row')\n",
    "\n",
    "titles2019_1 = award_titles_container2019_1.findAll('h5', class_ = 'mb-1')\n",
    "\n",
    "for tag in titles2019_1[6:27]:\n",
    "    shows2019.append(tag.text.strip())\n",
    "    \n",
    "for tag in titles2019_1[-13:]:\n",
    "    actors2019.append(tag.text.strip())\n",
    "    \n",
    "for tag in titles2019_1[:6]:\n",
    "    actors2019.append(tag.text.strip())\n",
    "\n",
    "show_names_for_actors2019_1 = award_titles_container2019_1.findAll('div', class_ = 'p1 show-title')\n",
    "\n",
    "for tag in show_names_for_actors2019_1:\n",
    "    shows_nominated_actors2019.append(tag.text.strip())"
   ]
  },
  {
   "cell_type": "code",
   "execution_count": 44,
   "metadata": {},
   "outputs": [],
   "source": [
    "url2019_2 = 'https://www.emmys.com/awards/nominees-winners/2019?page=2'\n",
    "html2019_2 = requests.get(url2019_2)\n",
    "soup2019_2 = BeautifulSoup(html2019_2.content, 'lxml')"
   ]
  },
  {
   "cell_type": "code",
   "execution_count": 45,
   "metadata": {},
   "outputs": [],
   "source": [
    "award_titles_container2019_2 = soup2019_2.find('div', class_ = 'section-content item-list pt-3 row')\n",
    "\n",
    "titles2019_2 = award_titles_container2019_2.findAll('h5', class_ = 'mb-1')\n",
    "\n",
    "for tag in titles2019_2[:13]:\n",
    "    actors2019.append(tag.text.strip())\n",
    "\n",
    "show_names_for_actors2019_2 = award_titles_container2019_2.findAll('div', class_ = 'p1 show-title')\n",
    "\n",
    "for tag in show_names_for_actors2019_2[:13]:\n",
    "    shows_nominated_actors2019.append(tag.text.strip())"
   ]
  },
  {
   "cell_type": "code",
   "execution_count": 46,
   "metadata": {},
   "outputs": [],
   "source": [
    "actor_show_noms2019 = dict((x, shows_nominated_actors2019.count(x)) for x in shows_nominated_actors2019)\n",
    "#actor_show_noms2019"
   ]
  },
  {
   "cell_type": "code",
   "execution_count": 47,
   "metadata": {},
   "outputs": [],
   "source": [
    "nominated_shows2019 = dict((x,shows2019.count(x)) for x in shows2019)"
   ]
  },
  {
   "cell_type": "code",
   "execution_count": 48,
   "metadata": {},
   "outputs": [],
   "source": [
    "df2019 = pd.DataFrame.from_dict(nominated_shows2019, 'index')\n",
    "df2019.columns = ['Nominations']"
   ]
  },
  {
   "cell_type": "code",
   "execution_count": 49,
   "metadata": {},
   "outputs": [],
   "source": [
    "df2019_actors = pd.DataFrame.from_dict(actor_show_noms2019,'index')\n",
    "df2019_actors.columns = ['Actor Nominations']\n"
   ]
  },
  {
   "cell_type": "code",
   "execution_count": 50,
   "metadata": {},
   "outputs": [
    {
     "data": {
      "text/html": [
       "<div>\n",
       "<style scoped>\n",
       "    .dataframe tbody tr th:only-of-type {\n",
       "        vertical-align: middle;\n",
       "    }\n",
       "\n",
       "    .dataframe tbody tr th {\n",
       "        vertical-align: top;\n",
       "    }\n",
       "\n",
       "    .dataframe thead th {\n",
       "        text-align: right;\n",
       "    }\n",
       "</style>\n",
       "<table border=\"1\" class=\"dataframe\">\n",
       "  <thead>\n",
       "    <tr style=\"text-align: right;\">\n",
       "      <th></th>\n",
       "      <th>Nominations</th>\n",
       "      <th>Actor Nominations</th>\n",
       "    </tr>\n",
       "  </thead>\n",
       "  <tbody>\n",
       "    <tr>\n",
       "      <th>Barry</th>\n",
       "      <td>4</td>\n",
       "      <td>5</td>\n",
       "    </tr>\n",
       "    <tr>\n",
       "      <th>Better Call Saul</th>\n",
       "      <td>1</td>\n",
       "      <td>3</td>\n",
       "    </tr>\n",
       "    <tr>\n",
       "      <th>Black Monday</th>\n",
       "      <td>nan</td>\n",
       "      <td>1</td>\n",
       "    </tr>\n",
       "  </tbody>\n",
       "</table>\n",
       "</div>"
      ],
      "text/plain": [
       "                  Nominations  Actor Nominations\n",
       "Barry                       4                  5\n",
       "Better Call Saul            1                  3\n",
       "Black Monday              nan                  1"
      ]
     },
     "execution_count": 50,
     "metadata": {},
     "output_type": "execute_result"
    }
   ],
   "source": [
    "joined_df_2019 = df2019.join(df2019_actors, how='outer')\n",
    "joined_df_2019.head(3)"
   ]
  },
  {
   "cell_type": "code",
   "execution_count": 115,
   "metadata": {},
   "outputs": [],
   "source": [
    "joined_df_2019['Award Year'] = '2019'"
   ]
  },
  {
   "cell_type": "code",
   "execution_count": 52,
   "metadata": {},
   "outputs": [],
   "source": [
    "url2018 = 'https://www.emmys.com/awards/nominees-winners/2018'\n",
    "html2018 = requests.get(url2018)\n",
    "soup2018 = BeautifulSoup(html2018.content, 'lxml')"
   ]
  },
  {
   "cell_type": "code",
   "execution_count": 53,
   "metadata": {},
   "outputs": [],
   "source": [
    "award_titles_container2018 = soup2018.find('div', class_ = 'section-content item-list pt-3 row')\n",
    "\n",
    "titles2018 = award_titles_container2018.findAll('h5', class_ = 'mb-1')\n",
    "\n",
    "show_names_for_actors2018 = award_titles_container2018.findAll('div', class_ = 'p1 show-title')"
   ]
  },
  {
   "cell_type": "code",
   "execution_count": 54,
   "metadata": {},
   "outputs": [],
   "source": [
    "actors2018 = []\n",
    "shows2018 =  []\n",
    "shows_nominated_actors2018 = []\n",
    "\n",
    "for tag in titles2018[8:]:\n",
    "    actors2018.append(tag.text.strip())\n",
    "\n",
    "for tag in titles2018[:8]:\n",
    "    shows2018.append(tag.text.strip())\n",
    "\n",
    "show_names_for_actors2018 = award_titles_container2018.findAll('div', class_ = 'p1 show-title')\n",
    "\n",
    "for tag in show_names_for_actors2018:\n",
    "    shows_nominated_actors2018.append(tag.text.strip())"
   ]
  },
  {
   "cell_type": "code",
   "execution_count": 55,
   "metadata": {},
   "outputs": [],
   "source": [
    "url2018_1 = 'https://www.emmys.com/awards/nominees-winners/2018?page=1'\n",
    "html2018_1 = requests.get(url2018_1)\n",
    "soup2018_1 = BeautifulSoup(html2018_1.content, 'lxml')"
   ]
  },
  {
   "cell_type": "code",
   "execution_count": 56,
   "metadata": {},
   "outputs": [],
   "source": [
    "award_titles_container2018_1 = soup2018_1.find('div', class_ = 'section-content item-list pt-3 row')\n",
    "\n",
    "titles2018_1 = award_titles_container2018_1.findAll('h5', class_ = 'mb-1')\n",
    "\n",
    "show_names_for_actors2018_1 = award_titles_container2018_1.findAll('div', class_ = 'p1 show-title')"
   ]
  },
  {
   "cell_type": "code",
   "execution_count": 57,
   "metadata": {},
   "outputs": [],
   "source": [
    "for tag in titles2018_1[:5]:\n",
    "    actors2018.append(tag.text.strip())\n",
    "    \n",
    "for tag in titles2018_1[-12:]:\n",
    "    actors2018.append(tag.text.strip())\n",
    "\n",
    "for tag in titles2018_1[6:-12]:\n",
    "    shows2018.append(tag.text.strip())\n",
    "\n",
    "show_names_for_actors2018_1 = award_titles_container2018_1.findAll('div', class_ = 'p1 show-title')\n",
    "\n",
    "for tag in show_names_for_actors2018_1:\n",
    "    shows_nominated_actors2018.append(tag.text.strip())"
   ]
  },
  {
   "cell_type": "code",
   "execution_count": 58,
   "metadata": {},
   "outputs": [],
   "source": [
    "url2018_2 = 'https://www.emmys.com/awards/nominees-winners/2018?page=2'\n",
    "html2018_2 = requests.get(url2018_2)\n",
    "soup2018_2 = BeautifulSoup(html2018_2.content, 'lxml')"
   ]
  },
  {
   "cell_type": "code",
   "execution_count": 59,
   "metadata": {},
   "outputs": [],
   "source": [
    "award_titles_container2018_2 = soup2018_2.find('div', class_ = 'section-content item-list pt-3 row')\n",
    "\n",
    "show_names_for_actors2018_2 = award_titles_container2018_2.findAll('div', class_ = 'p1 show-title')"
   ]
  },
  {
   "cell_type": "code",
   "execution_count": 60,
   "metadata": {},
   "outputs": [],
   "source": [
    "show_names_for_actors2018_2 = award_titles_container2018_2.findAll('div', class_ = 'p1 show-title')\n",
    "\n",
    "for tag in show_names_for_actors2018_2[:13]:\n",
    "    shows_nominated_actors2018.append(tag.text.strip())"
   ]
  },
  {
   "cell_type": "code",
   "execution_count": 61,
   "metadata": {},
   "outputs": [
    {
     "data": {
      "text/plain": [
       "16"
      ]
     },
     "execution_count": 61,
     "metadata": {},
     "output_type": "execute_result"
    }
   ],
   "source": [
    "nominated_shows2018 = dict((x,shows2018.count(x)) for x in shows2018)\n",
    "len(nominated_shows2018)"
   ]
  },
  {
   "cell_type": "code",
   "execution_count": 62,
   "metadata": {},
   "outputs": [
    {
     "data": {
      "text/html": [
       "<div>\n",
       "<style scoped>\n",
       "    .dataframe tbody tr th:only-of-type {\n",
       "        vertical-align: middle;\n",
       "    }\n",
       "\n",
       "    .dataframe tbody tr th {\n",
       "        vertical-align: top;\n",
       "    }\n",
       "\n",
       "    .dataframe thead th {\n",
       "        text-align: right;\n",
       "    }\n",
       "</style>\n",
       "<table border=\"1\" class=\"dataframe\">\n",
       "  <thead>\n",
       "    <tr style=\"text-align: right;\">\n",
       "      <th></th>\n",
       "      <th>Nominations</th>\n",
       "    </tr>\n",
       "  </thead>\n",
       "  <tbody>\n",
       "    <tr>\n",
       "      <th>Atlanta</th>\n",
       "      <td>5</td>\n",
       "    </tr>\n",
       "    <tr>\n",
       "      <th>Barry</th>\n",
       "      <td>4</td>\n",
       "    </tr>\n",
       "    <tr>\n",
       "      <th>black-ish</th>\n",
       "      <td>1</td>\n",
       "    </tr>\n",
       "    <tr>\n",
       "      <th>Curb Your Enthusiasm</th>\n",
       "      <td>1</td>\n",
       "    </tr>\n",
       "    <tr>\n",
       "      <th>GLOW</th>\n",
       "      <td>2</td>\n",
       "    </tr>\n",
       "  </tbody>\n",
       "</table>\n",
       "</div>"
      ],
      "text/plain": [
       "                      Nominations\n",
       "Atlanta                         5\n",
       "Barry                           4\n",
       "black-ish                       1\n",
       "Curb Your Enthusiasm            1\n",
       "GLOW                            2"
      ]
     },
     "execution_count": 62,
     "metadata": {},
     "output_type": "execute_result"
    }
   ],
   "source": [
    "df2018 = pd.DataFrame.from_dict(nominated_shows2018, 'index')\n",
    "df2018.columns = ['Nominations']\n",
    "df2018.head()"
   ]
  },
  {
   "cell_type": "code",
   "execution_count": 63,
   "metadata": {},
   "outputs": [
    {
     "data": {
      "text/plain": [
       "29"
      ]
     },
     "execution_count": 63,
     "metadata": {},
     "output_type": "execute_result"
    }
   ],
   "source": [
    "shows_actors_nom2018 = dict((x, shows_nominated_actors2018.count(x)) for x in shows_nominated_actors2018)\n",
    "len(shows_actors_nom2018)"
   ]
  },
  {
   "cell_type": "code",
   "execution_count": 64,
   "metadata": {},
   "outputs": [],
   "source": [
    "df_2018_1 = pd.DataFrame.from_dict(shows_actors_nom2018, 'index')\n",
    "df_2018_1.columns = ['Actor Nominations']"
   ]
  },
  {
   "cell_type": "code",
   "execution_count": 65,
   "metadata": {},
   "outputs": [
    {
     "data": {
      "text/plain": [
       "31"
      ]
     },
     "execution_count": 65,
     "metadata": {},
     "output_type": "execute_result"
    }
   ],
   "source": [
    "joined_df_2018 = df2018.join(df_2018_1,how='outer')\n",
    "len(joined_df_2018)"
   ]
  },
  {
   "cell_type": "code",
   "execution_count": 66,
   "metadata": {
    "scrolled": true
   },
   "outputs": [
    {
     "data": {
      "text/html": [
       "<div>\n",
       "<style scoped>\n",
       "    .dataframe tbody tr th:only-of-type {\n",
       "        vertical-align: middle;\n",
       "    }\n",
       "\n",
       "    .dataframe tbody tr th {\n",
       "        vertical-align: top;\n",
       "    }\n",
       "\n",
       "    .dataframe thead th {\n",
       "        text-align: right;\n",
       "    }\n",
       "</style>\n",
       "<table border=\"1\" class=\"dataframe\">\n",
       "  <thead>\n",
       "    <tr style=\"text-align: right;\">\n",
       "      <th></th>\n",
       "      <th>Nominations</th>\n",
       "      <th>Actor Nominations</th>\n",
       "      <th>Award Year</th>\n",
       "    </tr>\n",
       "  </thead>\n",
       "  <tbody>\n",
       "    <tr>\n",
       "      <th>Atlanta</th>\n",
       "      <td>5</td>\n",
       "      <td>4</td>\n",
       "      <td>2018</td>\n",
       "    </tr>\n",
       "    <tr>\n",
       "      <th>Barry</th>\n",
       "      <td>4</td>\n",
       "      <td>2</td>\n",
       "      <td>2018</td>\n",
       "    </tr>\n",
       "  </tbody>\n",
       "</table>\n",
       "</div>"
      ],
      "text/plain": [
       "         Nominations  Actor Nominations Award Year\n",
       "Atlanta            5                  4       2018\n",
       "Barry              4                  2       2018"
      ]
     },
     "execution_count": 66,
     "metadata": {},
     "output_type": "execute_result"
    }
   ],
   "source": [
    "joined_df_2018['Award Year'] = '2018'\n",
    "joined_df_2018.head(2)"
   ]
  },
  {
   "cell_type": "code",
   "execution_count": 67,
   "metadata": {},
   "outputs": [],
   "source": [
    "url2017 = 'https://www.emmys.com/awards/nominees-winners/2017'\n",
    "html2017 = requests.get(url2017)\n",
    "soup2017 = BeautifulSoup(html2017.content, 'lxml')"
   ]
  },
  {
   "cell_type": "code",
   "execution_count": 68,
   "metadata": {},
   "outputs": [],
   "source": [
    "award_titles_container2017 = soup2017.find('div', class_ = 'section-content item-list pt-3 row')\n",
    "\n",
    "titles2017 = award_titles_container2017.findAll('h5', class_ = 'mb-1')\n",
    "\n",
    "show_names_for_actors2017 = award_titles_container2017.findAll('div', class_ = 'p1 show-title')"
   ]
  },
  {
   "cell_type": "code",
   "execution_count": 69,
   "metadata": {},
   "outputs": [],
   "source": [
    "shows2017 =  []\n",
    "shows_nominated_actors2017 = []\n",
    "\n",
    "for tag in titles2017[:7]:\n",
    "    shows2017.append(tag.text.strip())\n",
    "\n",
    "show_names_for_actors2017 = award_titles_container2017.findAll('div', class_ = 'p1 show-title')\n",
    "\n",
    "for tag in show_names_for_actors2017:\n",
    "    shows_nominated_actors2017.append(tag.text.strip())"
   ]
  },
  {
   "cell_type": "code",
   "execution_count": 70,
   "metadata": {},
   "outputs": [],
   "source": [
    "url2017_1 = 'https://www.emmys.com/awards/nominees-winners/2017?page=1'\n",
    "html2017_1 = requests.get(url2017_1)\n",
    "soup2017_1 = BeautifulSoup(html2017_1.content, 'lxml')"
   ]
  },
  {
   "cell_type": "code",
   "execution_count": 71,
   "metadata": {},
   "outputs": [],
   "source": [
    "award_titles_container2017_1 = soup2017_1.find('div', class_ = 'section-content item-list pt-3 row')\n",
    "\n",
    "titles2017_1 = award_titles_container2017_1.findAll('h5', class_ = 'mb-1')\n",
    "\n",
    "show_names_for_actors2017_1 = award_titles_container2017_1.findAll('div', class_ = 'p1 show-title')"
   ]
  },
  {
   "cell_type": "code",
   "execution_count": 72,
   "metadata": {},
   "outputs": [],
   "source": [
    "for tag in titles2017_1[6:-13]:\n",
    "    shows2017.append(tag.text.strip())\n",
    "\n",
    "show_names_for_actors2017_1 = award_titles_container2017_1.findAll('div', class_ = 'p1 show-title')\n",
    "\n",
    "for tag in show_names_for_actors2017_1:\n",
    "    shows_nominated_actors2017.append(tag.text.strip())"
   ]
  },
  {
   "cell_type": "code",
   "execution_count": 73,
   "metadata": {
    "scrolled": true
   },
   "outputs": [],
   "source": [
    "url2017_2 = 'https://www.emmys.com/awards/nominees-winners/2017?page=2'\n",
    "html2017_2 = requests.get(url2017_2)\n",
    "soup2017_2 = BeautifulSoup(html2017_2.content, 'lxml')"
   ]
  },
  {
   "cell_type": "code",
   "execution_count": 74,
   "metadata": {},
   "outputs": [],
   "source": [
    "award_titles_container2017_2 = soup2017_2.find('div', class_ = 'section-content item-list pt-3 row')\n",
    "\n",
    "show_names_for_actors2017_2 = award_titles_container2017_2.findAll('div', class_ = 'p1 show-title')"
   ]
  },
  {
   "cell_type": "code",
   "execution_count": 75,
   "metadata": {},
   "outputs": [],
   "source": [
    "for tag in show_names_for_actors2017:\n",
    "    shows_nominated_actors2017.append(tag.text.strip())"
   ]
  },
  {
   "cell_type": "code",
   "execution_count": 76,
   "metadata": {},
   "outputs": [],
   "source": [
    "nominated_shows2017 = dict((x, shows2017.count(x)) for x in shows2017)"
   ]
  },
  {
   "cell_type": "code",
   "execution_count": 77,
   "metadata": {},
   "outputs": [],
   "source": [
    "shows_actor_noms2017 = dict((x, shows_nominated_actors2017.count(x)) for x in shows_nominated_actors2017)"
   ]
  },
  {
   "cell_type": "code",
   "execution_count": 78,
   "metadata": {},
   "outputs": [
    {
     "data": {
      "text/html": [
       "<div>\n",
       "<style scoped>\n",
       "    .dataframe tbody tr th:only-of-type {\n",
       "        vertical-align: middle;\n",
       "    }\n",
       "\n",
       "    .dataframe tbody tr th {\n",
       "        vertical-align: top;\n",
       "    }\n",
       "\n",
       "    .dataframe thead th {\n",
       "        text-align: right;\n",
       "    }\n",
       "</style>\n",
       "<table border=\"1\" class=\"dataframe\">\n",
       "  <thead>\n",
       "    <tr style=\"text-align: right;\">\n",
       "      <th></th>\n",
       "      <th>Nominations</th>\n",
       "    </tr>\n",
       "  </thead>\n",
       "  <tbody>\n",
       "    <tr>\n",
       "      <th>Atlanta</th>\n",
       "      <td>4</td>\n",
       "    </tr>\n",
       "    <tr>\n",
       "      <th>black-ish</th>\n",
       "      <td>1</td>\n",
       "    </tr>\n",
       "    <tr>\n",
       "      <th>Master Of None</th>\n",
       "      <td>2</td>\n",
       "    </tr>\n",
       "    <tr>\n",
       "      <th>Modern Family</th>\n",
       "      <td>1</td>\n",
       "    </tr>\n",
       "    <tr>\n",
       "      <th>Silicon Valley</th>\n",
       "      <td>4</td>\n",
       "    </tr>\n",
       "  </tbody>\n",
       "</table>\n",
       "</div>"
      ],
      "text/plain": [
       "                Nominations\n",
       "Atlanta                   4\n",
       "black-ish                 1\n",
       "Master Of None            2\n",
       "Modern Family             1\n",
       "Silicon Valley            4"
      ]
     },
     "execution_count": 78,
     "metadata": {},
     "output_type": "execute_result"
    }
   ],
   "source": [
    "df2017 = pd.DataFrame.from_dict(nominated_shows2017, 'index')\n",
    "df2017.columns = ['Nominations']\n",
    "df2017.head()"
   ]
  },
  {
   "cell_type": "code",
   "execution_count": 79,
   "metadata": {},
   "outputs": [
    {
     "data": {
      "text/html": [
       "<div>\n",
       "<style scoped>\n",
       "    .dataframe tbody tr th:only-of-type {\n",
       "        vertical-align: middle;\n",
       "    }\n",
       "\n",
       "    .dataframe tbody tr th {\n",
       "        vertical-align: top;\n",
       "    }\n",
       "\n",
       "    .dataframe thead th {\n",
       "        text-align: right;\n",
       "    }\n",
       "</style>\n",
       "<table border=\"1\" class=\"dataframe\">\n",
       "  <thead>\n",
       "    <tr style=\"text-align: right;\">\n",
       "      <th></th>\n",
       "      <th>Actor Nominations</th>\n",
       "    </tr>\n",
       "  </thead>\n",
       "  <tbody>\n",
       "    <tr>\n",
       "      <th>Atlanta</th>\n",
       "      <td>2</td>\n",
       "    </tr>\n",
       "    <tr>\n",
       "      <th>Baskets</th>\n",
       "      <td>4</td>\n",
       "    </tr>\n",
       "    <tr>\n",
       "      <th>black-ish</th>\n",
       "      <td>5</td>\n",
       "    </tr>\n",
       "    <tr>\n",
       "      <th>Master Of None</th>\n",
       "      <td>3</td>\n",
       "    </tr>\n",
       "    <tr>\n",
       "      <th>Shameless</th>\n",
       "      <td>2</td>\n",
       "    </tr>\n",
       "  </tbody>\n",
       "</table>\n",
       "</div>"
      ],
      "text/plain": [
       "                Actor Nominations\n",
       "Atlanta                         2\n",
       "Baskets                         4\n",
       "black-ish                       5\n",
       "Master Of None                  3\n",
       "Shameless                       2"
      ]
     },
     "execution_count": 79,
     "metadata": {},
     "output_type": "execute_result"
    }
   ],
   "source": [
    "df2017_1 = pd.DataFrame.from_dict(shows_actor_noms2017, 'index')\n",
    "df2017_1.columns = ['Actor Nominations']\n",
    "df2017_1.head()"
   ]
  },
  {
   "cell_type": "code",
   "execution_count": 93,
   "metadata": {},
   "outputs": [],
   "source": [
    "joined_df_2017 = df2017.join(df2017_1, how = 'outer')"
   ]
  },
  {
   "cell_type": "code",
   "execution_count": 109,
   "metadata": {},
   "outputs": [],
   "source": [
    "joined_df_2017['Award Year'] = '2017'"
   ]
  },
  {
   "cell_type": "code",
   "execution_count": 81,
   "metadata": {},
   "outputs": [],
   "source": [
    "network = soup3.findAll('div', class_ = 'upper show-network mb-1')"
   ]
  },
  {
   "cell_type": "code",
   "execution_count": 82,
   "metadata": {},
   "outputs": [],
   "source": [
    "network2 = soup4.findAll('div', class_ = 'upper show-network mb-1')"
   ]
  },
  {
   "cell_type": "code",
   "execution_count": 83,
   "metadata": {},
   "outputs": [],
   "source": [
    "network3 = soup5.findAll('div', class_ = 'upper show-network mb-1')"
   ]
  },
  {
   "cell_type": "code",
   "execution_count": 84,
   "metadata": {},
   "outputs": [],
   "source": [
    "networks = []\n",
    "for tag in network:\n",
    "    networks.append(tag.text.strip())"
   ]
  },
  {
   "cell_type": "code",
   "execution_count": 85,
   "metadata": {},
   "outputs": [],
   "source": [
    "for tag in network2:\n",
    "    networks.append(tag.text.strip())"
   ]
  },
  {
   "cell_type": "code",
   "execution_count": 86,
   "metadata": {},
   "outputs": [],
   "source": [
    "for tag in network3[:-5]:\n",
    "    networks.append(tag.text.strip())\n",
    "#networks"
   ]
  },
  {
   "cell_type": "code",
   "execution_count": 87,
   "metadata": {},
   "outputs": [],
   "source": [
    "network2019 = soup2019.findAll('div', class_ = 'upper show-network mb-1')\n",
    "network2019_1 = soup2019_1.findAll('div', class_ = 'upper show-network mb-1')\n",
    "network2019_2 = soup2019_2.findAll('div', class_ = 'upper show-network mb-1')"
   ]
  },
  {
   "cell_type": "code",
   "execution_count": 88,
   "metadata": {},
   "outputs": [],
   "source": [
    "for tag in network2019:\n",
    "    networks.append(tag.text.strip())\n",
    "\n",
    "for tag in network2019_1:\n",
    "    networks.append(tag.text.strip())"
   ]
  },
  {
   "cell_type": "code",
   "execution_count": 89,
   "metadata": {},
   "outputs": [],
   "source": [
    "network2018 = soup2018.findAll('div', class_ = 'upper show-network mb-1')\n",
    "network2018_1 = soup2018_1.findAll('div', class_ = 'upper show-network mb-1')"
   ]
  },
  {
   "cell_type": "code",
   "execution_count": 90,
   "metadata": {},
   "outputs": [],
   "source": [
    "for tag in network2018:\n",
    "    networks.append(tag.text.strip())\n",
    "\n",
    "for tag in network2018_1:\n",
    "    networks.append(tag.text.strip())"
   ]
  },
  {
   "cell_type": "code",
   "execution_count": 96,
   "metadata": {},
   "outputs": [],
   "source": [
    "network2017 = soup2017.findAll('div', class_ = 'upper show-network mb-1')\n",
    "network2017_1 = soup2017_1.findAll('div', class_ = 'upper show-network mb-1')"
   ]
  },
  {
   "cell_type": "code",
   "execution_count": 97,
   "metadata": {},
   "outputs": [],
   "source": [
    "for tag in network2017:\n",
    "    networks.append(tag.text.strip())\n",
    "\n",
    "for tag in network2017_1:\n",
    "    networks.append(tag.text.strip())"
   ]
  },
  {
   "cell_type": "code",
   "execution_count": 105,
   "metadata": {},
   "outputs": [],
   "source": [
    "all_nominated_shows = nominated_shows + shows2019 + shows2018 + shows2017"
   ]
  },
  {
   "cell_type": "code",
   "execution_count": 106,
   "metadata": {},
   "outputs": [
    {
     "name": "stdout",
     "output_type": "stream",
     "text": [
      "112\n",
      "112\n"
     ]
    }
   ],
   "source": [
    "print(len(all_nominated_shows))\n",
    "print(len(networks))"
   ]
  },
  {
   "cell_type": "code",
   "execution_count": 108,
   "metadata": {},
   "outputs": [
    {
     "data": {
      "text/html": [
       "<div>\n",
       "<style scoped>\n",
       "    .dataframe tbody tr th:only-of-type {\n",
       "        vertical-align: middle;\n",
       "    }\n",
       "\n",
       "    .dataframe tbody tr th {\n",
       "        vertical-align: top;\n",
       "    }\n",
       "\n",
       "    .dataframe thead th {\n",
       "        text-align: right;\n",
       "    }\n",
       "</style>\n",
       "<table border=\"1\" class=\"dataframe\">\n",
       "  <thead>\n",
       "    <tr style=\"text-align: right;\">\n",
       "      <th></th>\n",
       "      <th>Network</th>\n",
       "    </tr>\n",
       "  </thead>\n",
       "  <tbody>\n",
       "    <tr>\n",
       "      <th>Curb Your Enthusiasm</th>\n",
       "      <td>HBO</td>\n",
       "    </tr>\n",
       "    <tr>\n",
       "      <th>Dead To Me</th>\n",
       "      <td>Netflix</td>\n",
       "    </tr>\n",
       "    <tr>\n",
       "      <th>Insecure</th>\n",
       "      <td>HBO</td>\n",
       "    </tr>\n",
       "    <tr>\n",
       "      <th>Schitt's Creek</th>\n",
       "      <td>Pop TV</td>\n",
       "    </tr>\n",
       "    <tr>\n",
       "      <th>The Good Place</th>\n",
       "      <td>NBC</td>\n",
       "    </tr>\n",
       "  </tbody>\n",
       "</table>\n",
       "</div>"
      ],
      "text/plain": [
       "                      Network\n",
       "Curb Your Enthusiasm      HBO\n",
       "Dead To Me            Netflix\n",
       "Insecure                  HBO\n",
       "Schitt's Creek         Pop TV\n",
       "The Good Place            NBC"
      ]
     },
     "execution_count": 108,
     "metadata": {},
     "output_type": "execute_result"
    }
   ],
   "source": [
    "network_shows = dict(zip(all_nominated_shows, networks))\n",
    "network_df = pd.DataFrame.from_dict(network_shows,'index')\n",
    "network_df.columns = ['Network']\n",
    "network_df.head()"
   ]
  },
  {
   "cell_type": "code",
   "execution_count": 116,
   "metadata": {},
   "outputs": [],
   "source": [
    "all_dfs = [joined_df, joined_df_2019, joined_df_2018, joined_df_2017]\n",
    "combined_df = pd.concat(all_dfs)"
   ]
  },
  {
   "cell_type": "code",
   "execution_count": 117,
   "metadata": {},
   "outputs": [
    {
     "data": {
      "text/html": [
       "<div>\n",
       "<style scoped>\n",
       "    .dataframe tbody tr th:only-of-type {\n",
       "        vertical-align: middle;\n",
       "    }\n",
       "\n",
       "    .dataframe tbody tr th {\n",
       "        vertical-align: top;\n",
       "    }\n",
       "\n",
       "    .dataframe thead th {\n",
       "        text-align: right;\n",
       "    }\n",
       "</style>\n",
       "<table border=\"1\" class=\"dataframe\">\n",
       "  <thead>\n",
       "    <tr style=\"text-align: right;\">\n",
       "      <th></th>\n",
       "      <th>Nominations</th>\n",
       "      <th>Actor Nominations</th>\n",
       "      <th>Award Year</th>\n",
       "      <th>Network</th>\n",
       "    </tr>\n",
       "  </thead>\n",
       "  <tbody>\n",
       "    <tr>\n",
       "      <th>A Black Lady Sketch Show</th>\n",
       "      <td>0</td>\n",
       "      <td>1</td>\n",
       "      <td>2020</td>\n",
       "      <td>0</td>\n",
       "    </tr>\n",
       "    <tr>\n",
       "      <th>Atlanta</th>\n",
       "      <td>5</td>\n",
       "      <td>4</td>\n",
       "      <td>2018</td>\n",
       "      <td>FX Networks</td>\n",
       "    </tr>\n",
       "    <tr>\n",
       "      <th>Atlanta</th>\n",
       "      <td>4</td>\n",
       "      <td>2</td>\n",
       "      <td>2017</td>\n",
       "      <td>FX Networks</td>\n",
       "    </tr>\n",
       "    <tr>\n",
       "      <th>Barry</th>\n",
       "      <td>4</td>\n",
       "      <td>5</td>\n",
       "      <td>2019</td>\n",
       "      <td>HBO</td>\n",
       "    </tr>\n",
       "    <tr>\n",
       "      <th>Barry</th>\n",
       "      <td>4</td>\n",
       "      <td>2</td>\n",
       "      <td>2018</td>\n",
       "      <td>HBO</td>\n",
       "    </tr>\n",
       "    <tr>\n",
       "      <th>...</th>\n",
       "      <td>...</td>\n",
       "      <td>...</td>\n",
       "      <td>...</td>\n",
       "      <td>...</td>\n",
       "    </tr>\n",
       "    <tr>\n",
       "      <th>Will &amp; Grace</th>\n",
       "      <td>0</td>\n",
       "      <td>2</td>\n",
       "      <td>2018</td>\n",
       "      <td>NBC</td>\n",
       "    </tr>\n",
       "    <tr>\n",
       "      <th>black-ish</th>\n",
       "      <td>0</td>\n",
       "      <td>2</td>\n",
       "      <td>2020</td>\n",
       "      <td>ABC</td>\n",
       "    </tr>\n",
       "    <tr>\n",
       "      <th>black-ish</th>\n",
       "      <td>0</td>\n",
       "      <td>1</td>\n",
       "      <td>2019</td>\n",
       "      <td>ABC</td>\n",
       "    </tr>\n",
       "    <tr>\n",
       "      <th>black-ish</th>\n",
       "      <td>1</td>\n",
       "      <td>3</td>\n",
       "      <td>2018</td>\n",
       "      <td>ABC</td>\n",
       "    </tr>\n",
       "    <tr>\n",
       "      <th>black-ish</th>\n",
       "      <td>1</td>\n",
       "      <td>5</td>\n",
       "      <td>2017</td>\n",
       "      <td>ABC</td>\n",
       "    </tr>\n",
       "  </tbody>\n",
       "</table>\n",
       "<p>121 rows × 4 columns</p>\n",
       "</div>"
      ],
      "text/plain": [
       "                          Nominations  Actor Nominations Award Year  \\\n",
       "A Black Lady Sketch Show            0                  1       2020   \n",
       "Atlanta                             5                  4       2018   \n",
       "Atlanta                             4                  2       2017   \n",
       "Barry                               4                  5       2019   \n",
       "Barry                               4                  2       2018   \n",
       "...                               ...                ...        ...   \n",
       "Will & Grace                        0                  2       2018   \n",
       "black-ish                           0                  2       2020   \n",
       "black-ish                           0                  1       2019   \n",
       "black-ish                           1                  3       2018   \n",
       "black-ish                           1                  5       2017   \n",
       "\n",
       "                              Network  \n",
       "A Black Lady Sketch Show            0  \n",
       "Atlanta                   FX Networks  \n",
       "Atlanta                   FX Networks  \n",
       "Barry                             HBO  \n",
       "Barry                             HBO  \n",
       "...                               ...  \n",
       "Will & Grace                      NBC  \n",
       "black-ish                         ABC  \n",
       "black-ish                         ABC  \n",
       "black-ish                         ABC  \n",
       "black-ish                         ABC  \n",
       "\n",
       "[121 rows x 4 columns]"
      ]
     },
     "execution_count": 117,
     "metadata": {},
     "output_type": "execute_result"
    }
   ],
   "source": [
    "awards_df = combined_df.join(network_df, how = 'left')\n",
    "awards_df.fillna(0,inplace=True)\n",
    "awards_df"
   ]
  },
  {
   "cell_type": "code",
   "execution_count": null,
   "metadata": {},
   "outputs": [],
   "source": []
  }
 ],
 "metadata": {
  "kernelspec": {
   "display_name": "Python 3",
   "language": "python",
   "name": "python3"
  },
  "language_info": {
   "codemirror_mode": {
    "name": "ipython",
    "version": 3
   },
   "file_extension": ".py",
   "mimetype": "text/x-python",
   "name": "python",
   "nbconvert_exporter": "python",
   "pygments_lexer": "ipython3",
   "version": "3.8.3"
  }
 },
 "nbformat": 4,
 "nbformat_minor": 4
}
