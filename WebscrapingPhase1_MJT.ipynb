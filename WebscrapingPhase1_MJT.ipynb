{
 "cells": [
  {
   "cell_type": "markdown",
   "metadata": {},
   "source": [
    "# Web Scrapping Netflix Top 10:"
   ]
  },
  {
   "cell_type": "code",
   "execution_count": 1,
   "metadata": {},
   "outputs": [],
   "source": [
    "import pandas as pd\n",
    "from bs4 import BeautifulSoup\n",
    "import requests"
   ]
  },
  {
   "cell_type": "code",
   "execution_count": 2,
   "metadata": {},
   "outputs": [],
   "source": [
    "url_netflix = 'https://www.the-numbers.com/home-market/netflix-daily-chart/2020/06/01'\n",
    "response_ntflx = requests.get(url_netflix)\n",
    "soup = BeautifulSoup(response_ntflx.content, 'html.parser')\n",
    "\n",
    "z = soup.find_all('td')"
   ]
  },
  {
   "cell_type": "code",
   "execution_count": 3,
   "metadata": {
    "scrolled": true
   },
   "outputs": [
    {
     "data": {
      "text/plain": [
       "[<td class=\"previous\"><a href=\"/home-market/netflix-daily-chart/2020/05/31\">← Previous Chart</a></td>,\n",
       " <td class=\"index\"><a href=\"/home-market/netflix-chart-archive\">Chart Index</a></td>,\n",
       " <td class=\"next\"><a href=\"/home-market/netflix-daily-chart/2020/06/02\">Next Chart →</a></td>,\n",
       " <td class=\"data\" data-sort=\"1\">1</td>,\n",
       " <td class=\"data\" data-sort=\"1\">(1)</td>,\n",
       " <td class=\"data\" data-sort=\"999\">(-)</td>,\n",
       " <td><b><a href=\"/tv-show/Space-Force#tab=netflix\">Space Force</a></b></td>,\n",
       " <td>TV Show</td>,\n",
       " <td class=\"data\">Yes</td>,\n",
       " <td><a href=\"/home-market/netflix-daily-chart/2020/05/29\">May 29, 2020</a></td>,\n",
       " <td class=\"data\">3</td>,\n",
       " <td class=\"data\">30</td>,\n",
       " <td><a href=\"https://www.netflix.com/title/81021929\" rel=\"nofollow\" target=\"_NewWindow\">Watch Now</a></td>,\n",
       " <td class=\"data\" data-sort=\"2\">2</td>,\n",
       " <td class=\"data\" data-sort=\"2\">(2)</td>,\n",
       " <td class=\"data\" data-sort=\"999\">(-)</td>,\n",
       " <td><b><a href=\"/tv-show/Jeffrey-Epstein-Filthy-Rich#tab=netflix\">Jeffrey Epstein: Filthy Rich</a></b></td>,\n",
       " <td>TV Show</td>,\n",
       " <td class=\"data\">Yes</td>,\n",
       " <td><a href=\"/home-market/netflix-daily-chart/2020/05/27\">May 27, 2020</a></td>,\n",
       " <td class=\"data\">5</td>,\n",
       " <td class=\"data\">47</td>,\n",
       " <td><a href=\"https://www.netflix.com/title/80224905\" rel=\"nofollow\" target=\"_NewWindow\">Watch Now</a></td>,\n",
       " <td class=\"data chart_up\" data-sort=\"3\"><b>3</b></td>,\n",
       " <td class=\"data\" data-sort=\"4\">(4)</td>,\n",
       " <td class=\"data\" data-sort=\"1\">(1)</td>,\n",
       " <td><b><a href=\"/tv-show/Sweet-Magnolias#tab=netflix\">Sweet Magnolias</a></b></td>,\n",
       " <td>TV Show</td>,\n",
       " <td class=\"data\">Yes</td>,\n",
       " <td><a href=\"/home-market/netflix-daily-chart/2020/05/19\">May 19, 2020</a></td>,\n",
       " <td class=\"data\">13</td>,\n",
       " <td class=\"data\">110</td>,\n",
       " <td><a href=\"https://www.netflix.com/title/80239866\" rel=\"nofollow\" target=\"_NewWindow\">Watch Now</a></td>,\n",
       " <td class=\"data chart_down\" data-sort=\"4\">4</td>,\n",
       " <td class=\"data\" data-sort=\"3\">(3)</td>,\n",
       " <td class=\"data\" data-sort=\"999\">(-)</td>,\n",
       " <td><b><a href=\"/movie/Uncut-Gems#tab=video-sales\">Uncut Gems</a></b></td>,\n",
       " <td>Movie</td>,\n",
       " <td></td>,\n",
       " <td></td>,\n",
       " <td class=\"data\">7</td>,\n",
       " <td class=\"data\">59</td>,\n",
       " <td></td>,\n",
       " <td class=\"data\" data-sort=\"5\">5</td>,\n",
       " <td class=\"data\" data-sort=\"5\">(5)</td>,\n",
       " <td class=\"data\" data-sort=\"2\">(2)</td>,\n",
       " <td><b><a href=\"/tv-show/Avatar-the-Last-Airbender#tab=netflix\">Avatar the Last Airbender</a></b></td>,\n",
       " <td>TV Show</td>,\n",
       " <td></td>,\n",
       " <td></td>,\n",
       " <td class=\"data\">14</td>,\n",
       " <td class=\"data\">117</td>,\n",
       " <td><a href=\"https://www.netflix.com/title/80237957\" rel=\"nofollow\" target=\"_NewWindow\">Watch Now</a></td>,\n",
       " <td class=\"data\" data-sort=\"6\">6</td>,\n",
       " <td class=\"data\" data-sort=\"6\">(6)</td>,\n",
       " <td class=\"data\" data-sort=\"6\">(6)</td>,\n",
       " <td><b><a href=\"/tv-show/Dead-to-Me#tab=netflix\">Dead to Me</a></b></td>,\n",
       " <td>TV Show</td>,\n",
       " <td class=\"data\">Yes</td>,\n",
       " <td><a href=\"/home-market/netflix-daily-chart/2020/05/08\">May 8, 2020</a></td>,\n",
       " <td class=\"data\">24</td>,\n",
       " <td class=\"data\">175</td>,\n",
       " <td><a href=\"https://www.netflix.com/title/80219707\" rel=\"nofollow\" target=\"_NewWindow\">Watch Now</a></td>,\n",
       " <td class=\"data chart_up\" data-sort=\"7\"><b>7</b></td>,\n",
       " <td class=\"data\" data-sort=\"8\">(8)</td>,\n",
       " <td class=\"data\" data-sort=\"9\">(9)</td>,\n",
       " <td><b><a href=\"/tv-show/Riverdale#tab=netflix\">Riverdale</a></b></td>,\n",
       " <td>TV Show</td>,\n",
       " <td></td>,\n",
       " <td></td>,\n",
       " <td class=\"data\">18</td>,\n",
       " <td class=\"data\">103</td>,\n",
       " <td><a href=\"https://www.netflix.com/title/80133311\" rel=\"nofollow\" target=\"_NewWindow\">Watch Now</a></td>,\n",
       " <td class=\"data chart_down\" data-sort=\"8\">8</td>,\n",
       " <td class=\"data\" data-sort=\"7\">(7)</td>,\n",
       " <td class=\"data\" data-sort=\"5\">(5)</td>,\n",
       " <td><b><a href=\"/movie/Just-Go-With-It#tab=video-sales\">Just Go With It</a></b></td>,\n",
       " <td>Movie</td>,\n",
       " <td></td>,\n",
       " <td></td>,\n",
       " <td class=\"data\">10</td>,\n",
       " <td class=\"data\">38</td>,\n",
       " <td></td>,\n",
       " <td class=\"data chart_up\" data-sort=\"9\"><b>9</b></td>,\n",
       " <td class=\"data\" data-sort=\"10\">(10)</td>,\n",
       " <td class=\"data\" data-sort=\"8\">(8)</td>,\n",
       " <td><b><a href=\"/tv-show/History-101#tab=netflix\">History 101</a></b></td>,\n",
       " <td>TV Show</td>,\n",
       " <td class=\"data\">Yes</td>,\n",
       " <td><a href=\"/home-market/netflix-daily-chart/2020/05/22\">May 22, 2020</a></td>,\n",
       " <td class=\"data\">8</td>,\n",
       " <td class=\"data\">28</td>,\n",
       " <td><a href=\"https://www.netflix.com/title/81116168\" rel=\"nofollow\" target=\"_NewWindow\">Watch Now</a></td>,\n",
       " <td class=\"data chart_down\" data-sort=\"10\">10</td>,\n",
       " <td class=\"data\" data-sort=\"9\">(9)</td>,\n",
       " <td class=\"data\" data-sort=\"7\">(7)</td>,\n",
       " <td><b><a href=\"/tv-show/Flash-The#tab=netflix\">The Flash</a></b></td>,\n",
       " <td>TV Show</td>,\n",
       " <td></td>,\n",
       " <td></td>,\n",
       " <td class=\"data\">12</td>,\n",
       " <td class=\"data\">36</td>,\n",
       " <td><a href=\"https://www.netflix.com/title/80027042\" rel=\"nofollow\" target=\"_NewWindow\">Watch Now</a></td>]"
      ]
     },
     "execution_count": 3,
     "metadata": {},
     "output_type": "execute_result"
    }
   ],
   "source": [
    "z"
   ]
  },
  {
   "cell_type": "code",
   "execution_count": 4,
   "metadata": {},
   "outputs": [],
   "source": [
    "title1 = []\n",
    "types1 = []\n",
    "days1 = []\n",
    "scores1 = []\n",
    "\n",
    "for i in range(1,30):\n",
    "    url_netflix = 'https://www.the-numbers.com/home-market/netflix-daily-chart/2020/06/{}'.format(i)\n",
    "    response_ntflx = requests.get(url_netflix)\n",
    "    soup = BeautifulSoup(response_ntflx.content, 'html.parser')\n",
    "    \n",
    "    z = soup.find_all('td')\n",
    "    \n",
    "    z.pop(0)\n",
    "    z.pop(0)\n",
    "    z.pop(0)\n",
    "    \n",
    "    # TITLE - FIRST INSTANCE\n",
    "    title = z[3::10]\n",
    "    \n",
    "    for titl in title:\n",
    "        title1.append(titl.text)\n",
    "    \n",
    "    # TYPE - FIRST INSTANCE\n",
    "    types = z[4::10]\n",
    "    \n",
    "    for typ in types:\n",
    "        types1.append(typ.text)\n",
    "    \n",
    "    days = z[7::10]\n",
    "    \n",
    "    for day in days: \n",
    "        days1.append(day.text)\n",
    "        \n",
    "    scores = z[8::10]\n",
    "    \n",
    "    for score in scores:\n",
    "        scores1.append(score.text)"
   ]
  },
  {
   "cell_type": "code",
   "execution_count": 5,
   "metadata": {},
   "outputs": [],
   "source": [
    "for i in range(1,31):\n",
    "    url_netflix = 'https://www.the-numbers.com/home-market/netflix-daily-chart/2020/07/{}'.format(i)\n",
    "    response_ntflx = requests.get(url_netflix)\n",
    "    soup = BeautifulSoup(response_ntflx.content, 'html.parser')\n",
    "    \n",
    "    z = soup.find_all('td')\n",
    "\n",
    "    z.pop(0)\n",
    "    z.pop(0)\n",
    "    z.pop(0)\n",
    "    \n",
    "    # TITLE - FIRST INSTANCE\n",
    "    title = (z[3::10])\n",
    "    \n",
    "    for titl in title:\n",
    "        title1.append(titl.text)\n",
    "    \n",
    "    # TYPE - FIRST INSTANCE\n",
    "    types = (z[4::10])\n",
    "    \n",
    "    for typ in types:\n",
    "        types1.append(typ.text)\n",
    "    \n",
    "    days = z[7::10]\n",
    "    \n",
    "    for day in days: \n",
    "        days1.append(day.text)\n",
    "        \n",
    "    scores = z[8::10]\n",
    "    \n",
    "    for score in scores:\n",
    "        scores1.append(score.text)"
   ]
  },
  {
   "cell_type": "code",
   "execution_count": 6,
   "metadata": {
    "scrolled": true
   },
   "outputs": [],
   "source": [
    "for i in range(1,31):\n",
    "    url_netflix = 'https://www.the-numbers.com/home-market/netflix-daily-chart/2020/08/{}'.format(i)\n",
    "    response_ntflx = requests.get(url_netflix)\n",
    "    soup = BeautifulSoup(response_ntflx.content, 'html.parser')\n",
    "    \n",
    "\n",
    "    z = soup.find_all('td')\n",
    "\n",
    "    \n",
    "    try:\n",
    "        z.pop(0) \n",
    "    except IndexError:\n",
    "        continue \n",
    "    z.pop(0)\n",
    "    z.pop(0)\n",
    "    \n",
    "    # TITLE - FIRST INSTANCE\n",
    "    title = (z[3::10])\n",
    "    \n",
    "    for titl in title:\n",
    "         title1.append(titl.text)\n",
    "    \n",
    "    # TYPE - FIRST INSTANCE\n",
    "    types = (z[4::10])\n",
    "    \n",
    "    for typ in types:\n",
    "         types1.append(typ.text)\n",
    "    \n",
    "    days = z[7::10]\n",
    "    \n",
    "    for day in days: \n",
    "        days1.append(day.text)\n",
    "        \n",
    "    scores = z[8::10]\n",
    "    \n",
    "    for score in scores:\n",
    "        scores1.append(score.text)"
   ]
  },
  {
   "cell_type": "code",
   "execution_count": 7,
   "metadata": {},
   "outputs": [],
   "source": [
    "for i in range(1,30):\n",
    "    url_netflix = 'https://www.the-numbers.com/home-market/netflix-daily-chart/2020/09/{}'.format(i)\n",
    "    response_ntflx = requests.get(url_netflix)\n",
    "    soup = BeautifulSoup(response_ntflx.content, 'html.parser')\n",
    "    \n",
    "    z = soup.find_all('td')\n",
    "    \n",
    "    z.pop(0)\n",
    "    z.pop(0)\n",
    "    z.pop(0)\n",
    "    \n",
    "    # TITLE - FIRST INSTANCE\n",
    "    title = (z[3::10])\n",
    "    \n",
    "    for titl in title:\n",
    "        title1.append(titl.text)\n",
    "    \n",
    "    # TYPE - FIRST INSTANCE\n",
    "    types = (z[4::10])\n",
    "    \n",
    "    for typ in types:\n",
    "        types1.append(typ.text)\n",
    "    \n",
    "    days = z[7::10]\n",
    "    \n",
    "    for day in days: \n",
    "        days1.append(day.text)\n",
    "        \n",
    "    scores = z[8::10]\n",
    "    \n",
    "    for score in scores:\n",
    "        scores1.append(score.text)"
   ]
  },
  {
   "cell_type": "code",
   "execution_count": 8,
   "metadata": {},
   "outputs": [],
   "source": [
    "top_ten_data = dict(zip(title1, zip(types1, days1)))\n"
   ]
  },
  {
   "cell_type": "code",
   "execution_count": 9,
   "metadata": {
    "scrolled": true
   },
   "outputs": [
    {
     "name": "stdout",
     "output_type": "stream",
     "text": [
      "1148\n",
      "1148\n",
      "1148\n",
      "1148\n"
     ]
    }
   ],
   "source": [
    "print(len(title1))\n",
    "print(len(types1))\n",
    "print(len(days1))\n",
    "print(len(scores1))"
   ]
  },
  {
   "cell_type": "code",
   "execution_count": 10,
   "metadata": {},
   "outputs": [
    {
     "data": {
      "text/html": [
       "<div>\n",
       "<style scoped>\n",
       "    .dataframe tbody tr th:only-of-type {\n",
       "        vertical-align: middle;\n",
       "    }\n",
       "\n",
       "    .dataframe tbody tr th {\n",
       "        vertical-align: top;\n",
       "    }\n",
       "\n",
       "    .dataframe thead th {\n",
       "        text-align: right;\n",
       "    }\n",
       "</style>\n",
       "<table border=\"1\" class=\"dataframe\">\n",
       "  <thead>\n",
       "    <tr style=\"text-align: right;\">\n",
       "      <th></th>\n",
       "      <th>Title</th>\n",
       "    </tr>\n",
       "  </thead>\n",
       "  <tbody>\n",
       "    <tr>\n",
       "      <th>0</th>\n",
       "      <td>Space Force</td>\n",
       "    </tr>\n",
       "    <tr>\n",
       "      <th>1</th>\n",
       "      <td>Jeffrey Epstein: Filthy Rich</td>\n",
       "    </tr>\n",
       "    <tr>\n",
       "      <th>2</th>\n",
       "      <td>Sweet Magnolias</td>\n",
       "    </tr>\n",
       "    <tr>\n",
       "      <th>3</th>\n",
       "      <td>Uncut Gems</td>\n",
       "    </tr>\n",
       "    <tr>\n",
       "      <th>4</th>\n",
       "      <td>Avatar the Last Airbender</td>\n",
       "    </tr>\n",
       "    <tr>\n",
       "      <th>...</th>\n",
       "      <td>...</td>\n",
       "    </tr>\n",
       "    <tr>\n",
       "      <th>1143</th>\n",
       "      <td>Jurassic World: Camp Cretac…</td>\n",
       "    </tr>\n",
       "    <tr>\n",
       "      <th>1144</th>\n",
       "      <td>Sneakerheads</td>\n",
       "    </tr>\n",
       "    <tr>\n",
       "      <th>1145</th>\n",
       "      <td>Cocomelon</td>\n",
       "    </tr>\n",
       "    <tr>\n",
       "      <th>1146</th>\n",
       "      <td>Cobra Kai</td>\n",
       "    </tr>\n",
       "    <tr>\n",
       "      <th>1147</th>\n",
       "      <td>The Blacklist</td>\n",
       "    </tr>\n",
       "  </tbody>\n",
       "</table>\n",
       "<p>1148 rows × 1 columns</p>\n",
       "</div>"
      ],
      "text/plain": [
       "                             Title\n",
       "0                      Space Force\n",
       "1     Jeffrey Epstein: Filthy Rich\n",
       "2                  Sweet Magnolias\n",
       "3                       Uncut Gems\n",
       "4        Avatar the Last Airbender\n",
       "...                            ...\n",
       "1143  Jurassic World: Camp Cretac…\n",
       "1144                  Sneakerheads\n",
       "1145                     Cocomelon\n",
       "1146                     Cobra Kai\n",
       "1147                 The Blacklist\n",
       "\n",
       "[1148 rows x 1 columns]"
      ]
     },
     "execution_count": 10,
     "metadata": {},
     "output_type": "execute_result"
    }
   ],
   "source": [
    "top_ten = pd.DataFrame(title1)\n",
    "top_ten.columns = ['Title']\n",
    "top_ten"
   ]
  },
  {
   "cell_type": "code",
   "execution_count": 11,
   "metadata": {},
   "outputs": [],
   "source": [
    "top_ten['Type'] = types1\n",
    "top_ten['Days in Top 10'] = days1\n",
    "top_ten['Viewership Scores'] = scores1"
   ]
  },
  {
   "cell_type": "code",
   "execution_count": 12,
   "metadata": {},
   "outputs": [
    {
     "data": {
      "text/html": [
       "<div>\n",
       "<style scoped>\n",
       "    .dataframe tbody tr th:only-of-type {\n",
       "        vertical-align: middle;\n",
       "    }\n",
       "\n",
       "    .dataframe tbody tr th {\n",
       "        vertical-align: top;\n",
       "    }\n",
       "\n",
       "    .dataframe thead th {\n",
       "        text-align: right;\n",
       "    }\n",
       "</style>\n",
       "<table border=\"1\" class=\"dataframe\">\n",
       "  <thead>\n",
       "    <tr style=\"text-align: right;\">\n",
       "      <th></th>\n",
       "      <th>Title</th>\n",
       "      <th>Type</th>\n",
       "      <th>Days in Top 10</th>\n",
       "      <th>Viewership Scores</th>\n",
       "    </tr>\n",
       "  </thead>\n",
       "  <tbody>\n",
       "    <tr>\n",
       "      <th>0</th>\n",
       "      <td>Space Force</td>\n",
       "      <td>TV Show</td>\n",
       "      <td>3</td>\n",
       "      <td>30</td>\n",
       "    </tr>\n",
       "    <tr>\n",
       "      <th>1</th>\n",
       "      <td>Jeffrey Epstein: Filthy Rich</td>\n",
       "      <td>TV Show</td>\n",
       "      <td>5</td>\n",
       "      <td>47</td>\n",
       "    </tr>\n",
       "    <tr>\n",
       "      <th>2</th>\n",
       "      <td>Sweet Magnolias</td>\n",
       "      <td>TV Show</td>\n",
       "      <td>13</td>\n",
       "      <td>110</td>\n",
       "    </tr>\n",
       "    <tr>\n",
       "      <th>3</th>\n",
       "      <td>Uncut Gems</td>\n",
       "      <td>Movie</td>\n",
       "      <td>7</td>\n",
       "      <td>59</td>\n",
       "    </tr>\n",
       "    <tr>\n",
       "      <th>4</th>\n",
       "      <td>Avatar the Last Airbender</td>\n",
       "      <td>TV Show</td>\n",
       "      <td>14</td>\n",
       "      <td>117</td>\n",
       "    </tr>\n",
       "    <tr>\n",
       "      <th>...</th>\n",
       "      <td>...</td>\n",
       "      <td>...</td>\n",
       "      <td>...</td>\n",
       "      <td>...</td>\n",
       "    </tr>\n",
       "    <tr>\n",
       "      <th>1143</th>\n",
       "      <td>Jurassic World: Camp Cretac…</td>\n",
       "      <td>TV Show</td>\n",
       "      <td>11</td>\n",
       "      <td>84</td>\n",
       "    </tr>\n",
       "    <tr>\n",
       "      <th>1144</th>\n",
       "      <td>Sneakerheads</td>\n",
       "      <td>TV Show</td>\n",
       "      <td>3</td>\n",
       "      <td>9</td>\n",
       "    </tr>\n",
       "    <tr>\n",
       "      <th>1145</th>\n",
       "      <td>Cocomelon</td>\n",
       "      <td>TV Show</td>\n",
       "      <td>19</td>\n",
       "      <td>43</td>\n",
       "    </tr>\n",
       "    <tr>\n",
       "      <th>1146</th>\n",
       "      <td>Cobra Kai</td>\n",
       "      <td>TV Show</td>\n",
       "      <td>31</td>\n",
       "      <td>216</td>\n",
       "    </tr>\n",
       "    <tr>\n",
       "      <th>1147</th>\n",
       "      <td>The Blacklist</td>\n",
       "      <td>TV Show</td>\n",
       "      <td>7</td>\n",
       "      <td>22</td>\n",
       "    </tr>\n",
       "  </tbody>\n",
       "</table>\n",
       "<p>1148 rows × 4 columns</p>\n",
       "</div>"
      ],
      "text/plain": [
       "                             Title     Type Days in Top 10 Viewership Scores\n",
       "0                      Space Force  TV Show              3                30\n",
       "1     Jeffrey Epstein: Filthy Rich  TV Show              5                47\n",
       "2                  Sweet Magnolias  TV Show             13               110\n",
       "3                       Uncut Gems    Movie              7                59\n",
       "4        Avatar the Last Airbender  TV Show             14               117\n",
       "...                            ...      ...            ...               ...\n",
       "1143  Jurassic World: Camp Cretac…  TV Show             11                84\n",
       "1144                  Sneakerheads  TV Show              3                 9\n",
       "1145                     Cocomelon  TV Show             19                43\n",
       "1146                     Cobra Kai  TV Show             31               216\n",
       "1147                 The Blacklist  TV Show              7                22\n",
       "\n",
       "[1148 rows x 4 columns]"
      ]
     },
     "execution_count": 12,
     "metadata": {},
     "output_type": "execute_result"
    }
   ],
   "source": [
    "top_ten"
   ]
  },
  {
   "cell_type": "markdown",
   "metadata": {},
   "source": [
    "# CLEANING DATA"
   ]
  },
  {
   "cell_type": "code",
   "execution_count": 13,
   "metadata": {},
   "outputs": [
    {
     "data": {
      "text/plain": [
       "{'TV Show': 703, 'Movie': 440, 'Stand-Up Comedy': 5}"
      ]
     },
     "execution_count": 13,
     "metadata": {},
     "output_type": "execute_result"
    }
   ],
   "source": [
    "# Count of each type\n",
    "type_count = dict((x, types1.count(x)) for x in types1)\n",
    "type_count"
   ]
  },
  {
   "cell_type": "code",
   "execution_count": 14,
   "metadata": {},
   "outputs": [
    {
     "name": "stdout",
     "output_type": "stream",
     "text": [
      "<class 'pandas.core.frame.DataFrame'>\n",
      "RangeIndex: 1148 entries, 0 to 1147\n",
      "Data columns (total 4 columns):\n",
      "Title                1148 non-null object\n",
      "Type                 1148 non-null object\n",
      "Days in Top 10       1148 non-null object\n",
      "Viewership Scores    1148 non-null object\n",
      "dtypes: object(4)\n",
      "memory usage: 36.0+ KB\n"
     ]
    }
   ],
   "source": [
    "top_ten.info()"
   ]
  },
  {
   "cell_type": "code",
   "execution_count": 15,
   "metadata": {},
   "outputs": [
    {
     "name": "stdout",
     "output_type": "stream",
     "text": [
      "0\n"
     ]
    },
    {
     "data": {
      "text/html": [
       "<div>\n",
       "<style scoped>\n",
       "    .dataframe tbody tr th:only-of-type {\n",
       "        vertical-align: middle;\n",
       "    }\n",
       "\n",
       "    .dataframe tbody tr th {\n",
       "        vertical-align: top;\n",
       "    }\n",
       "\n",
       "    .dataframe thead th {\n",
       "        text-align: right;\n",
       "    }\n",
       "</style>\n",
       "<table border=\"1\" class=\"dataframe\">\n",
       "  <thead>\n",
       "    <tr style=\"text-align: right;\">\n",
       "      <th></th>\n",
       "      <th>Title</th>\n",
       "      <th>Type</th>\n",
       "      <th>Days in Top 10</th>\n",
       "      <th>Viewership Scores</th>\n",
       "    </tr>\n",
       "  </thead>\n",
       "  <tbody>\n",
       "  </tbody>\n",
       "</table>\n",
       "</div>"
      ],
      "text/plain": [
       "Empty DataFrame\n",
       "Columns: [Title, Type, Days in Top 10, Viewership Scores]\n",
       "Index: []"
      ]
     },
     "execution_count": 15,
     "metadata": {},
     "output_type": "execute_result"
    }
   ],
   "source": [
    "# Check for duplicates\n",
    "duplicates = top_ten[top_ten.duplicated()]\n",
    "print(len(duplicates))\n",
    "duplicates.head()"
   ]
  },
  {
   "cell_type": "code",
   "execution_count": 16,
   "metadata": {},
   "outputs": [
    {
     "data": {
      "text/html": [
       "<div>\n",
       "<style scoped>\n",
       "    .dataframe tbody tr th:only-of-type {\n",
       "        vertical-align: middle;\n",
       "    }\n",
       "\n",
       "    .dataframe tbody tr th {\n",
       "        vertical-align: top;\n",
       "    }\n",
       "\n",
       "    .dataframe thead th {\n",
       "        text-align: right;\n",
       "    }\n",
       "</style>\n",
       "<table border=\"1\" class=\"dataframe\">\n",
       "  <thead>\n",
       "    <tr style=\"text-align: right;\">\n",
       "      <th></th>\n",
       "      <th>title</th>\n",
       "      <th>type</th>\n",
       "      <th>days in top 10</th>\n",
       "      <th>viewership scores</th>\n",
       "    </tr>\n",
       "  </thead>\n",
       "  <tbody>\n",
       "    <tr>\n",
       "      <th>0</th>\n",
       "      <td>Space Force</td>\n",
       "      <td>TV Show</td>\n",
       "      <td>3</td>\n",
       "      <td>30</td>\n",
       "    </tr>\n",
       "    <tr>\n",
       "      <th>1</th>\n",
       "      <td>Jeffrey Epstein: Filthy Rich</td>\n",
       "      <td>TV Show</td>\n",
       "      <td>5</td>\n",
       "      <td>47</td>\n",
       "    </tr>\n",
       "    <tr>\n",
       "      <th>2</th>\n",
       "      <td>Sweet Magnolias</td>\n",
       "      <td>TV Show</td>\n",
       "      <td>13</td>\n",
       "      <td>110</td>\n",
       "    </tr>\n",
       "    <tr>\n",
       "      <th>3</th>\n",
       "      <td>Uncut Gems</td>\n",
       "      <td>Movie</td>\n",
       "      <td>7</td>\n",
       "      <td>59</td>\n",
       "    </tr>\n",
       "    <tr>\n",
       "      <th>4</th>\n",
       "      <td>Avatar the Last Airbender</td>\n",
       "      <td>TV Show</td>\n",
       "      <td>14</td>\n",
       "      <td>117</td>\n",
       "    </tr>\n",
       "  </tbody>\n",
       "</table>\n",
       "</div>"
      ],
      "text/plain": [
       "                          title     type days in top 10 viewership scores\n",
       "0                   Space Force  TV Show              3                30\n",
       "1  Jeffrey Epstein: Filthy Rich  TV Show              5                47\n",
       "2               Sweet Magnolias  TV Show             13               110\n",
       "3                    Uncut Gems    Movie              7                59\n",
       "4     Avatar the Last Airbender  TV Show             14               117"
      ]
     },
     "execution_count": 16,
     "metadata": {},
     "output_type": "execute_result"
    }
   ],
   "source": [
    "# lowercase all columns\n",
    "top_ten.columns = map(str.lower, top_ten.columns)\n",
    "top_ten.head()"
   ]
  },
  {
   "cell_type": "code",
   "execution_count": 17,
   "metadata": {},
   "outputs": [],
   "source": [
    "# Rename columns\n",
    "top_ten.rename(columns={'days in top 10': 'days_in_top10'}, inplace=True)\n"
   ]
  },
  {
   "cell_type": "code",
   "execution_count": 18,
   "metadata": {},
   "outputs": [],
   "source": [
    "top_ten.rename(columns={'viewership scores': 'viewership_score'}, inplace=True)"
   ]
  },
  {
   "cell_type": "code",
   "execution_count": 19,
   "metadata": {},
   "outputs": [
    {
     "data": {
      "text/html": [
       "<div>\n",
       "<style scoped>\n",
       "    .dataframe tbody tr th:only-of-type {\n",
       "        vertical-align: middle;\n",
       "    }\n",
       "\n",
       "    .dataframe tbody tr th {\n",
       "        vertical-align: top;\n",
       "    }\n",
       "\n",
       "    .dataframe thead th {\n",
       "        text-align: right;\n",
       "    }\n",
       "</style>\n",
       "<table border=\"1\" class=\"dataframe\">\n",
       "  <thead>\n",
       "    <tr style=\"text-align: right;\">\n",
       "      <th></th>\n",
       "      <th>title</th>\n",
       "      <th>type</th>\n",
       "      <th>days_in_top10</th>\n",
       "      <th>viewership_score</th>\n",
       "    </tr>\n",
       "  </thead>\n",
       "  <tbody>\n",
       "    <tr>\n",
       "      <th>0</th>\n",
       "      <td>Space Force</td>\n",
       "      <td>TV Show</td>\n",
       "      <td>3</td>\n",
       "      <td>30</td>\n",
       "    </tr>\n",
       "    <tr>\n",
       "      <th>1</th>\n",
       "      <td>Jeffrey Epstein: Filthy Rich</td>\n",
       "      <td>TV Show</td>\n",
       "      <td>5</td>\n",
       "      <td>47</td>\n",
       "    </tr>\n",
       "    <tr>\n",
       "      <th>2</th>\n",
       "      <td>Sweet Magnolias</td>\n",
       "      <td>TV Show</td>\n",
       "      <td>13</td>\n",
       "      <td>110</td>\n",
       "    </tr>\n",
       "    <tr>\n",
       "      <th>3</th>\n",
       "      <td>Uncut Gems</td>\n",
       "      <td>Movie</td>\n",
       "      <td>7</td>\n",
       "      <td>59</td>\n",
       "    </tr>\n",
       "    <tr>\n",
       "      <th>4</th>\n",
       "      <td>Avatar the Last Airbender</td>\n",
       "      <td>TV Show</td>\n",
       "      <td>14</td>\n",
       "      <td>117</td>\n",
       "    </tr>\n",
       "  </tbody>\n",
       "</table>\n",
       "</div>"
      ],
      "text/plain": [
       "                          title     type days_in_top10 viewership_score\n",
       "0                   Space Force  TV Show             3               30\n",
       "1  Jeffrey Epstein: Filthy Rich  TV Show             5               47\n",
       "2               Sweet Magnolias  TV Show            13              110\n",
       "3                    Uncut Gems    Movie             7               59\n",
       "4     Avatar the Last Airbender  TV Show            14              117"
      ]
     },
     "execution_count": 19,
     "metadata": {},
     "output_type": "execute_result"
    }
   ],
   "source": [
    "top_ten.head()"
   ]
  },
  {
   "cell_type": "code",
   "execution_count": 20,
   "metadata": {},
   "outputs": [
    {
     "name": "stdout",
     "output_type": "stream",
     "text": [
      "<class 'pandas.core.frame.DataFrame'>\n",
      "RangeIndex: 1148 entries, 0 to 1147\n",
      "Data columns (total 4 columns):\n",
      "title               1148 non-null object\n",
      "type                1148 non-null object\n",
      "days_in_top10       1148 non-null float64\n",
      "viewership_score    1148 non-null float64\n",
      "dtypes: float64(2), object(2)\n",
      "memory usage: 36.0+ KB\n"
     ]
    }
   ],
   "source": [
    "# Convert both columns from object to float\n",
    "top_ten['days_in_top10'] = top_ten['days_in_top10'].astype(float)\n",
    "top_ten['viewership_score'] = top_ten['viewership_score'].astype(float)\n",
    "top_ten.info()"
   ]
  },
  {
   "cell_type": "code",
   "execution_count": 21,
   "metadata": {},
   "outputs": [
    {
     "data": {
      "text/plain": [
       "1.0     131\n",
       "2.0     127\n",
       "3.0     113\n",
       "4.0     102\n",
       "5.0      92\n",
       "6.0      83\n",
       "7.0      64\n",
       "8.0      56\n",
       "9.0      46\n",
       "10.0     41\n",
       "11.0     35\n",
       "13.0     27\n",
       "12.0     27\n",
       "14.0     24\n",
       "15.0     21\n",
       "16.0     19\n",
       "17.0     19\n",
       "18.0     17\n",
       "19.0     16\n",
       "20.0     14\n",
       "21.0     11\n",
       "22.0      9\n",
       "24.0      8\n",
       "23.0      7\n",
       "25.0      6\n",
       "26.0      5\n",
       "27.0      5\n",
       "29.0      4\n",
       "30.0      4\n",
       "28.0      3\n",
       "31.0      3\n",
       "37.0      2\n",
       "33.0      1\n",
       "32.0      1\n",
       "34.0      1\n",
       "35.0      1\n",
       "38.0      1\n",
       "36.0      1\n",
       "39.0      1\n",
       "Name: days_in_top10, dtype: int64"
      ]
     },
     "execution_count": 21,
     "metadata": {},
     "output_type": "execute_result"
    }
   ],
   "source": [
    "# check for outliers and extraneous values\n",
    "top_ten['days_in_top10'].value_counts()"
   ]
  },
  {
   "cell_type": "markdown",
   "metadata": {},
   "source": [
    "# EDA:"
   ]
  },
  {
   "cell_type": "code",
   "execution_count": 22,
   "metadata": {},
   "outputs": [],
   "source": [
    "# sort values by days in top 10 and create new df\n",
    "new_df2 = top_ten.sort_values(by=['days_in_top10'], ascending=False)"
   ]
  },
  {
   "cell_type": "code",
   "execution_count": 23,
   "metadata": {},
   "outputs": [],
   "source": [
    "# make unique so takes first instance, therefore only leaving the first instance, which has the greatest number of days in top 10\n",
    "new_df2.drop_duplicates(subset=['title'], inplace=True)"
   ]
  },
  {
   "cell_type": "code",
   "execution_count": 24,
   "metadata": {},
   "outputs": [],
   "source": [
    "new_df2.to_csv('df2.csv')"
   ]
  },
  {
   "cell_type": "code",
   "execution_count": 25,
   "metadata": {},
   "outputs": [
    {
     "data": {
      "text/html": [
       "<div>\n",
       "<style scoped>\n",
       "    .dataframe tbody tr th:only-of-type {\n",
       "        vertical-align: middle;\n",
       "    }\n",
       "\n",
       "    .dataframe tbody tr th {\n",
       "        vertical-align: top;\n",
       "    }\n",
       "\n",
       "    .dataframe thead th {\n",
       "        text-align: right;\n",
       "    }\n",
       "</style>\n",
       "<table border=\"1\" class=\"dataframe\">\n",
       "  <thead>\n",
       "    <tr style=\"text-align: right;\">\n",
       "      <th></th>\n",
       "      <th>Unnamed: 0</th>\n",
       "      <th>title</th>\n",
       "      <th>type</th>\n",
       "      <th>days_in_top10</th>\n",
       "      <th>viewership_score</th>\n",
       "    </tr>\n",
       "  </thead>\n",
       "  <tbody>\n",
       "    <tr>\n",
       "      <th>0</th>\n",
       "      <td>307</td>\n",
       "      <td>Avatar the Last Airbender</td>\n",
       "      <td>TV Show</td>\n",
       "      <td>39.0</td>\n",
       "      <td>196.0</td>\n",
       "    </tr>\n",
       "    <tr>\n",
       "      <th>1</th>\n",
       "      <td>19</td>\n",
       "      <td>Outer Banks</td>\n",
       "      <td>TV Show</td>\n",
       "      <td>37.0</td>\n",
       "      <td>259.0</td>\n",
       "    </tr>\n",
       "    <tr>\n",
       "      <th>2</th>\n",
       "      <td>886</td>\n",
       "      <td>The Umbrella Academy</td>\n",
       "      <td>TV Show</td>\n",
       "      <td>31.0</td>\n",
       "      <td>235.0</td>\n",
       "    </tr>\n",
       "    <tr>\n",
       "      <th>3</th>\n",
       "      <td>1146</td>\n",
       "      <td>Cobra Kai</td>\n",
       "      <td>TV Show</td>\n",
       "      <td>31.0</td>\n",
       "      <td>216.0</td>\n",
       "    </tr>\n",
       "    <tr>\n",
       "      <th>4</th>\n",
       "      <td>477</td>\n",
       "      <td>Jeffrey Epstein: Filthy Rich</td>\n",
       "      <td>TV Show</td>\n",
       "      <td>30.0</td>\n",
       "      <td>165.0</td>\n",
       "    </tr>\n",
       "  </tbody>\n",
       "</table>\n",
       "</div>"
      ],
      "text/plain": [
       "   Unnamed: 0                         title     type  days_in_top10  \\\n",
       "0         307     Avatar the Last Airbender  TV Show           39.0   \n",
       "1          19                   Outer Banks  TV Show           37.0   \n",
       "2         886          The Umbrella Academy  TV Show           31.0   \n",
       "3        1146                     Cobra Kai  TV Show           31.0   \n",
       "4         477  Jeffrey Epstein: Filthy Rich  TV Show           30.0   \n",
       "\n",
       "   viewership_score  \n",
       "0             196.0  \n",
       "1             259.0  \n",
       "2             235.0  \n",
       "3             216.0  \n",
       "4             165.0  "
      ]
     },
     "execution_count": 25,
     "metadata": {},
     "output_type": "execute_result"
    }
   ],
   "source": [
    "df2 = pd.read_csv('df2.csv')\n",
    "df2.head()"
   ]
  },
  {
   "cell_type": "code",
   "execution_count": 26,
   "metadata": {},
   "outputs": [
    {
     "data": {
      "text/plain": [
       "TV Show            80\n",
       "Movie              64\n",
       "Stand-Up Comedy     1\n",
       "Name: type, dtype: int64"
      ]
     },
     "execution_count": 26,
     "metadata": {},
     "output_type": "execute_result"
    }
   ],
   "source": [
    "df2['type'].value_counts()"
   ]
  },
  {
   "cell_type": "markdown",
   "metadata": {},
   "source": [
    "# VISUALIZATIONS"
   ]
  },
  {
   "cell_type": "code",
   "execution_count": 27,
   "metadata": {},
   "outputs": [],
   "source": [
    "import seaborn as sns\n",
    "import matplotlib.pyplot as plt\n",
    "%matplotlib inline"
   ]
  },
  {
   "cell_type": "code",
   "execution_count": 28,
   "metadata": {},
   "outputs": [
    {
     "data": {
      "text/plain": [
       "Text(0, 0.5, 'Count by Type')"
      ]
     },
     "execution_count": 28,
     "metadata": {},
     "output_type": "execute_result"
    },
    {
     "data": {
      "image/png": "[encoded data removed]",
      "text/plain": [
       "<Figure size 432x288 with 1 Axes>"
      ]
     },
     "metadata": {
      "needs_background": "light"
     },
     "output_type": "display_data"
    }
   ],
   "source": [
    "sns.countplot(x=\"type\", data=df2, palette='inferno').set_title(\"Number of TV Show vs. Movies in Top 10\")\n",
    "plt.xlabel('Type')\n",
    "plt.ylabel('Count by Type')"
   ]
  },
  {
   "cell_type": "markdown",
   "metadata": {},
   "source": [
    "# IMPORT 2ND DB"
   ]
  },
  {
   "cell_type": "code",
   "execution_count": 29,
   "metadata": {},
   "outputs": [
    {
     "ename": "FileNotFoundError",
     "evalue": "[Errno 2] File b'zippedData/netflix_titles.csv' does not exist: b'zippedData/netflix_titles.csv'",
     "output_type": "error",
     "traceback": [
      "\u001b[1;31m---------------------------------------------------------------------------\u001b[0m",
      "\u001b[1;31mFileNotFoundError\u001b[0m                         Traceback (most recent call last)",
      "\u001b[1;32m<ipython-input-29-f4ececd924b2>\u001b[0m in \u001b[0;36m<module>\u001b[1;34m\u001b[0m\n\u001b[0;32m      1\u001b[0m \u001b[1;31m# Import Kaggle Netflix DB\u001b[0m\u001b[1;33m\u001b[0m\u001b[1;33m\u001b[0m\u001b[1;33m\u001b[0m\u001b[0m\n\u001b[1;32m----> 2\u001b[1;33m \u001b[0mkaggle\u001b[0m \u001b[1;33m=\u001b[0m \u001b[0mpd\u001b[0m\u001b[1;33m.\u001b[0m\u001b[0mread_csv\u001b[0m\u001b[1;33m(\u001b[0m\u001b[1;34m\"zippedData/netflix_titles.csv\"\u001b[0m\u001b[1;33m)\u001b[0m\u001b[1;33m\u001b[0m\u001b[1;33m\u001b[0m\u001b[0m\n\u001b[0m\u001b[0;32m      3\u001b[0m \u001b[0mkaggle\u001b[0m\u001b[1;33m.\u001b[0m\u001b[0mhead\u001b[0m\u001b[1;33m(\u001b[0m\u001b[1;33m)\u001b[0m\u001b[1;33m\u001b[0m\u001b[1;33m\u001b[0m\u001b[0m\n",
      "\u001b[1;32m~\\anaconda3\\envs\\learn-env\\lib\\site-packages\\pandas\\io\\parsers.py\u001b[0m in \u001b[0;36mparser_f\u001b[1;34m(filepath_or_buffer, sep, delimiter, header, names, index_col, usecols, squeeze, prefix, mangle_dupe_cols, dtype, engine, converters, true_values, false_values, skipinitialspace, skiprows, skipfooter, nrows, na_values, keep_default_na, na_filter, verbose, skip_blank_lines, parse_dates, infer_datetime_format, keep_date_col, date_parser, dayfirst, cache_dates, iterator, chunksize, compression, thousands, decimal, lineterminator, quotechar, quoting, doublequote, escapechar, comment, encoding, dialect, error_bad_lines, warn_bad_lines, delim_whitespace, low_memory, memory_map, float_precision)\u001b[0m\n\u001b[0;32m    683\u001b[0m         )\n\u001b[0;32m    684\u001b[0m \u001b[1;33m\u001b[0m\u001b[0m\n\u001b[1;32m--> 685\u001b[1;33m         \u001b[1;32mreturn\u001b[0m \u001b[0m_read\u001b[0m\u001b[1;33m(\u001b[0m\u001b[0mfilepath_or_buffer\u001b[0m\u001b[1;33m,\u001b[0m \u001b[0mkwds\u001b[0m\u001b[1;33m)\u001b[0m\u001b[1;33m\u001b[0m\u001b[1;33m\u001b[0m\u001b[0m\n\u001b[0m\u001b[0;32m    686\u001b[0m \u001b[1;33m\u001b[0m\u001b[0m\n\u001b[0;32m    687\u001b[0m     \u001b[0mparser_f\u001b[0m\u001b[1;33m.\u001b[0m\u001b[0m__name__\u001b[0m \u001b[1;33m=\u001b[0m \u001b[0mname\u001b[0m\u001b[1;33m\u001b[0m\u001b[1;33m\u001b[0m\u001b[0m\n",
      "\u001b[1;32m~\\anaconda3\\envs\\learn-env\\lib\\site-packages\\pandas\\io\\parsers.py\u001b[0m in \u001b[0;36m_read\u001b[1;34m(filepath_or_buffer, kwds)\u001b[0m\n\u001b[0;32m    455\u001b[0m \u001b[1;33m\u001b[0m\u001b[0m\n\u001b[0;32m    456\u001b[0m     \u001b[1;31m# Create the parser.\u001b[0m\u001b[1;33m\u001b[0m\u001b[1;33m\u001b[0m\u001b[1;33m\u001b[0m\u001b[0m\n\u001b[1;32m--> 457\u001b[1;33m     \u001b[0mparser\u001b[0m \u001b[1;33m=\u001b[0m \u001b[0mTextFileReader\u001b[0m\u001b[1;33m(\u001b[0m\u001b[0mfp_or_buf\u001b[0m\u001b[1;33m,\u001b[0m \u001b[1;33m**\u001b[0m\u001b[0mkwds\u001b[0m\u001b[1;33m)\u001b[0m\u001b[1;33m\u001b[0m\u001b[1;33m\u001b[0m\u001b[0m\n\u001b[0m\u001b[0;32m    458\u001b[0m \u001b[1;33m\u001b[0m\u001b[0m\n\u001b[0;32m    459\u001b[0m     \u001b[1;32mif\u001b[0m \u001b[0mchunksize\u001b[0m \u001b[1;32mor\u001b[0m \u001b[0miterator\u001b[0m\u001b[1;33m:\u001b[0m\u001b[1;33m\u001b[0m\u001b[1;33m\u001b[0m\u001b[0m\n",
      "\u001b[1;32m~\\anaconda3\\envs\\learn-env\\lib\\site-packages\\pandas\\io\\parsers.py\u001b[0m in \u001b[0;36m__init__\u001b[1;34m(self, f, engine, **kwds)\u001b[0m\n\u001b[0;32m    893\u001b[0m             \u001b[0mself\u001b[0m\u001b[1;33m.\u001b[0m\u001b[0moptions\u001b[0m\u001b[1;33m[\u001b[0m\u001b[1;34m\"has_index_names\"\u001b[0m\u001b[1;33m]\u001b[0m \u001b[1;33m=\u001b[0m \u001b[0mkwds\u001b[0m\u001b[1;33m[\u001b[0m\u001b[1;34m\"has_index_names\"\u001b[0m\u001b[1;33m]\u001b[0m\u001b[1;33m\u001b[0m\u001b[1;33m\u001b[0m\u001b[0m\n\u001b[0;32m    894\u001b[0m \u001b[1;33m\u001b[0m\u001b[0m\n\u001b[1;32m--> 895\u001b[1;33m         \u001b[0mself\u001b[0m\u001b[1;33m.\u001b[0m\u001b[0m_make_engine\u001b[0m\u001b[1;33m(\u001b[0m\u001b[0mself\u001b[0m\u001b[1;33m.\u001b[0m\u001b[0mengine\u001b[0m\u001b[1;33m)\u001b[0m\u001b[1;33m\u001b[0m\u001b[1;33m\u001b[0m\u001b[0m\n\u001b[0m\u001b[0;32m    896\u001b[0m \u001b[1;33m\u001b[0m\u001b[0m\n\u001b[0;32m    897\u001b[0m     \u001b[1;32mdef\u001b[0m \u001b[0mclose\u001b[0m\u001b[1;33m(\u001b[0m\u001b[0mself\u001b[0m\u001b[1;33m)\u001b[0m\u001b[1;33m:\u001b[0m\u001b[1;33m\u001b[0m\u001b[1;33m\u001b[0m\u001b[0m\n",
      "\u001b[1;32m~\\anaconda3\\envs\\learn-env\\lib\\site-packages\\pandas\\io\\parsers.py\u001b[0m in \u001b[0;36m_make_engine\u001b[1;34m(self, engine)\u001b[0m\n\u001b[0;32m   1133\u001b[0m     \u001b[1;32mdef\u001b[0m \u001b[0m_make_engine\u001b[0m\u001b[1;33m(\u001b[0m\u001b[0mself\u001b[0m\u001b[1;33m,\u001b[0m \u001b[0mengine\u001b[0m\u001b[1;33m=\u001b[0m\u001b[1;34m\"c\"\u001b[0m\u001b[1;33m)\u001b[0m\u001b[1;33m:\u001b[0m\u001b[1;33m\u001b[0m\u001b[1;33m\u001b[0m\u001b[0m\n\u001b[0;32m   1134\u001b[0m         \u001b[1;32mif\u001b[0m \u001b[0mengine\u001b[0m \u001b[1;33m==\u001b[0m \u001b[1;34m\"c\"\u001b[0m\u001b[1;33m:\u001b[0m\u001b[1;33m\u001b[0m\u001b[1;33m\u001b[0m\u001b[0m\n\u001b[1;32m-> 1135\u001b[1;33m             \u001b[0mself\u001b[0m\u001b[1;33m.\u001b[0m\u001b[0m_engine\u001b[0m \u001b[1;33m=\u001b[0m \u001b[0mCParserWrapper\u001b[0m\u001b[1;33m(\u001b[0m\u001b[0mself\u001b[0m\u001b[1;33m.\u001b[0m\u001b[0mf\u001b[0m\u001b[1;33m,\u001b[0m \u001b[1;33m**\u001b[0m\u001b[0mself\u001b[0m\u001b[1;33m.\u001b[0m\u001b[0moptions\u001b[0m\u001b[1;33m)\u001b[0m\u001b[1;33m\u001b[0m\u001b[1;33m\u001b[0m\u001b[0m\n\u001b[0m\u001b[0;32m   1136\u001b[0m         \u001b[1;32melse\u001b[0m\u001b[1;33m:\u001b[0m\u001b[1;33m\u001b[0m\u001b[1;33m\u001b[0m\u001b[0m\n\u001b[0;32m   1137\u001b[0m             \u001b[1;32mif\u001b[0m \u001b[0mengine\u001b[0m \u001b[1;33m==\u001b[0m \u001b[1;34m\"python\"\u001b[0m\u001b[1;33m:\u001b[0m\u001b[1;33m\u001b[0m\u001b[1;33m\u001b[0m\u001b[0m\n",
      "\u001b[1;32m~\\anaconda3\\envs\\learn-env\\lib\\site-packages\\pandas\\io\\parsers.py\u001b[0m in \u001b[0;36m__init__\u001b[1;34m(self, src, **kwds)\u001b[0m\n\u001b[0;32m   1915\u001b[0m         \u001b[0mkwds\u001b[0m\u001b[1;33m[\u001b[0m\u001b[1;34m\"usecols\"\u001b[0m\u001b[1;33m]\u001b[0m \u001b[1;33m=\u001b[0m \u001b[0mself\u001b[0m\u001b[1;33m.\u001b[0m\u001b[0musecols\u001b[0m\u001b[1;33m\u001b[0m\u001b[1;33m\u001b[0m\u001b[0m\n\u001b[0;32m   1916\u001b[0m \u001b[1;33m\u001b[0m\u001b[0m\n\u001b[1;32m-> 1917\u001b[1;33m         \u001b[0mself\u001b[0m\u001b[1;33m.\u001b[0m\u001b[0m_reader\u001b[0m \u001b[1;33m=\u001b[0m \u001b[0mparsers\u001b[0m\u001b[1;33m.\u001b[0m\u001b[0mTextReader\u001b[0m\u001b[1;33m(\u001b[0m\u001b[0msrc\u001b[0m\u001b[1;33m,\u001b[0m \u001b[1;33m**\u001b[0m\u001b[0mkwds\u001b[0m\u001b[1;33m)\u001b[0m\u001b[1;33m\u001b[0m\u001b[1;33m\u001b[0m\u001b[0m\n\u001b[0m\u001b[0;32m   1918\u001b[0m         \u001b[0mself\u001b[0m\u001b[1;33m.\u001b[0m\u001b[0munnamed_cols\u001b[0m \u001b[1;33m=\u001b[0m \u001b[0mself\u001b[0m\u001b[1;33m.\u001b[0m\u001b[0m_reader\u001b[0m\u001b[1;33m.\u001b[0m\u001b[0munnamed_cols\u001b[0m\u001b[1;33m\u001b[0m\u001b[1;33m\u001b[0m\u001b[0m\n\u001b[0;32m   1919\u001b[0m \u001b[1;33m\u001b[0m\u001b[0m\n",
      "\u001b[1;32mpandas/_libs/parsers.pyx\u001b[0m in \u001b[0;36mpandas._libs.parsers.TextReader.__cinit__\u001b[1;34m()\u001b[0m\n",
      "\u001b[1;32mpandas/_libs/parsers.pyx\u001b[0m in \u001b[0;36mpandas._libs.parsers.TextReader._setup_parser_source\u001b[1;34m()\u001b[0m\n",
      "\u001b[1;31mFileNotFoundError\u001b[0m: [Errno 2] File b'zippedData/netflix_titles.csv' does not exist: b'zippedData/netflix_titles.csv'"
     ]
    }
   ],
   "source": [
    "# Import Kaggle Netflix DB\n",
    "kaggle = pd.read_csv(\"zippedData/netflix_titles.csv\")\n",
    "kaggle.head()"
   ]
  },
  {
   "cell_type": "code",
   "execution_count": null,
   "metadata": {},
   "outputs": [],
   "source": [
    "kaggle.info()"
   ]
  },
  {
   "cell_type": "code",
   "execution_count": null,
   "metadata": {
    "scrolled": true
   },
   "outputs": [],
   "source": [
    "kaggle.describe()"
   ]
  },
  {
   "cell_type": "markdown",
   "metadata": {},
   "source": [
    "# Cleaning"
   ]
  },
  {
   "cell_type": "code",
   "execution_count": null,
   "metadata": {},
   "outputs": [],
   "source": [
    "# Check for duplicates\n",
    "duplicates = kaggle[kaggle.duplicated()]\n",
    "print(len(duplicates))\n",
    "duplicates.head()"
   ]
  },
  {
   "cell_type": "code",
   "execution_count": null,
   "metadata": {},
   "outputs": [],
   "source": [
    "# Check and get count of Null values per column\n",
    "kaggle.isna().sum()"
   ]
  },
  {
   "cell_type": "code",
   "execution_count": null,
   "metadata": {},
   "outputs": [],
   "source": [
    "kaggle.value_count('type')"
   ]
  },
  {
   "cell_type": "code",
   "execution_count": null,
   "metadata": {},
   "outputs": [],
   "source": [
    "# percent and counts of nulls per column\n",
    "print('% of nulls director:', len(kaggle[kaggle.director.isna()])/len(kaggle))\n",
    "print('number of unique director values:', kaggle.director.nunique())\n",
    "\n",
    "print('% of nulls cast:', len(kaggle[kaggle.cast.isna()])/len(kaggle))\n",
    "print('number of unique cast values:', kaggle.cast.nunique())\n",
    "\n",
    "print('% of nulls country:', len(kaggle[kaggle.country.isna()])/len(kaggle))\n",
    "print('number of unique country values:', kaggle.country.nunique())\n",
    "\n",
    "print('% of nulls date_added:', len(kaggle[kaggle.date_added.isna()])/len(kaggle))\n",
    "print('number of unique date_added values:', kaggle.date_added.nunique())\n",
    "\n",
    "print('% of nulls rating:', len(kaggle[kaggle.rating.isna()])/len(kaggle))\n",
    "print('number of unique rating values:', kaggle.rating.nunique())"
   ]
  },
  {
   "cell_type": "code",
   "execution_count": null,
   "metadata": {},
   "outputs": [],
   "source": [
    "# Drop Director column: 32% null\n",
    "kaggle.drop(['director'], axis=1)"
   ]
  },
  {
   "cell_type": "code",
   "execution_count": null,
   "metadata": {},
   "outputs": [],
   "source": [
    "# replace nulls\n",
    "kaggle['director'] = kaggle['director'].fillna('unknown')\n",
    "kaggle['cast'] = kaggle['cast'].fillna('unknown')\n",
    "kaggle['country'] = kaggle['country'].fillna('unknown')\n",
    "kaggle['date_added'] = kaggle['date_added'].fillna('unknown')\n",
    "kaggle['rating'] = kaggle['rating'].fillna('unknown')"
   ]
  },
  {
   "cell_type": "code",
   "execution_count": null,
   "metadata": {},
   "outputs": [],
   "source": [
    "# Check nulls were replaced\n",
    "kaggle.isna().sum()"
   ]
  },
  {
   "cell_type": "markdown",
   "metadata": {},
   "source": [
    "# VISUALIZATIONS"
   ]
  },
  {
   "cell_type": "code",
   "execution_count": null,
   "metadata": {},
   "outputs": [],
   "source": [
    "kaggle_grouped = kaggle.groupby(['release_year','type'])['title'].count().reset_index()\n",
    "kaggle_grouped.tail(10)"
   ]
  },
  {
   "cell_type": "code",
   "execution_count": null,
   "metadata": {},
   "outputs": [],
   "source": [
    "# TV Shows vs. Movies on Netflix 2007 - 2019 . 2007 is when they started streaming. filter out 2020\n",
    "kaggle_filtered = kaggle_grouped.loc[(kaggle_grouped['release_year']>2006) & (kaggle_grouped['release_year']<2020)]\n",
    "kaggle_filtered.head()"
   ]
  },
  {
   "cell_type": "code",
   "execution_count": null,
   "metadata": {},
   "outputs": [],
   "source": [
    "fig,ax = plt.subplots(figsize=(10,6))\n",
    "ax.set(xlabel='Year of Release', ylabel='Number of Titles')\n",
    "ax = sns.lineplot(x='release_year', y='title', data=kaggle_filtered, hue='type', markers=True, palette='inferno').set_title(\"TV Show vs. Movies (2007-2019)\")"
   ]
  },
  {
   "cell_type": "code",
   "execution_count": null,
   "metadata": {},
   "outputs": [],
   "source": [
    "# show 2017 - 2019 for better visual\n",
    "kaggle_filtered2 = kaggle_grouped.loc[(kaggle_grouped['release_year']>2016) & (kaggle_grouped['release_year']<2020)]\n",
    "kaggle_filtered2"
   ]
  },
  {
   "cell_type": "code",
   "execution_count": null,
   "metadata": {},
   "outputs": [],
   "source": [
    "fig,ax = plt.subplots(figsize=(10,6))\n",
    "ax.set(xlabel='Year of Release', ylabel='Number of Titles')\n",
    "ax = sns.lineplot(x='release_year', y='title', data=kaggle_filtered2, hue='type', markers=True, palette='inferno').set_title(\"TV Show vs. Movies (2017-2019)\")"
   ]
  },
  {
   "cell_type": "code",
   "execution_count": null,
   "metadata": {},
   "outputs": [],
   "source": []
  }
 ],
 "metadata": {
  "kernelspec": {
   "display_name": "Python 3",
   "language": "python",
   "name": "python3"
  },
  "language_info": {
   "codemirror_mode": {
    "name": "ipython",
    "version": 3
   },
   "file_extension": ".py",
   "mimetype": "text/x-python",
   "name": "python",
   "nbconvert_exporter": "python",
   "pygments_lexer": "ipython3",
   "version": "3.6.9"
  }
 },
 "nbformat": 4,
 "nbformat_minor": 4
}
