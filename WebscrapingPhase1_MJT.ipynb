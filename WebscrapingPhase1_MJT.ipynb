{
 "cells": [
  {
   "cell_type": "markdown",
   "metadata": {},
   "source": [
    "List of links possibly worth investigating:\n",
    "https://rapidapi.com/collection/tv-api\n",
    "https://tvlistings.ctvdigital.net/service/metadata\n",
    "https://tvlistings.gracenote.com/grid-affiliates.html?aid=orbebb\n",
    "https://www.the-numbers.com/tv-show/That-70s-Show#tab=summary\n",
    "https://www.businessofapps.com/data/netflix-statistics/#1\n",
    "https://www.statista.com/chart/10311/netflix-subscriptions-usa-international/\n",
    "https://www.lafabbricadellarealta.com/open-data-entertainment/"
   ]
  },
  {
   "cell_type": "code",
   "execution_count": 1,
   "metadata": {},
   "outputs": [],
   "source": [
    "import pandas as pd\n",
    "from bs4 import BeautifulSoup\n",
    "import requests"
   ]
  },
  {
   "cell_type": "code",
   "execution_count": 2,
   "metadata": {},
   "outputs": [],
   "source": [
    "url3 = 'https://www.emmys.com/awards/nominees-winners'\n",
    "html3 = requests.get(url3)\n",
    "soup3 = BeautifulSoup(html3.content, 'html.parser')"
   ]
  },
  {
   "cell_type": "code",
   "execution_count": 3,
   "metadata": {},
   "outputs": [],
   "source": [
    "award_titles_container = soup3.find('div', class_ = 'section-content item-list pt-3 row')"
   ]
  },
  {
   "cell_type": "code",
   "execution_count": 4,
   "metadata": {},
   "outputs": [],
   "source": [
    "titles = award_titles_container.findAll('h5', class_ = 'mb-1')"
   ]
  },
  {
   "cell_type": "code",
   "execution_count": 5,
   "metadata": {},
   "outputs": [],
   "source": [
    "nominated_shows = []\n",
    "for tag in titles[:7]:\n",
    "    nominated_shows.append(tag.text.strip())\n",
    "#nominated_shows"
   ]
  },
  {
   "cell_type": "code",
   "execution_count": 6,
   "metadata": {},
   "outputs": [],
   "source": [
    "actors = []\n",
    "for tag in titles[8:]:\n",
    "    actors.append(tag.text.strip())\n",
    "#actors"
   ]
  },
  {
   "cell_type": "code",
   "execution_count": 7,
   "metadata": {},
   "outputs": [],
   "source": [
    "show_names_for_actors = award_titles_container.findAll('div', class_ = 'p1 show-title')\n",
    "#show_names_for_actors"
   ]
  },
  {
   "cell_type": "code",
   "execution_count": 8,
   "metadata": {},
   "outputs": [],
   "source": [
    "shows_nominated_actors = []\n",
    "for tag in show_names_for_actors:\n",
    "    shows_nominated_actors.append(tag.text.strip())\n",
    "#shows_nominated_actors"
   ]
  },
  {
   "cell_type": "code",
   "execution_count": 9,
   "metadata": {},
   "outputs": [],
   "source": [
    "url4 = 'https://www.emmys.com/awards/nominees-winners?page=1'\n",
    "html4 = requests.get(url4)\n",
    "soup4 = BeautifulSoup(html4.content, 'html.parser')\n",
    "#soup"
   ]
  },
  {
   "cell_type": "code",
   "execution_count": 10,
   "metadata": {},
   "outputs": [],
   "source": [
    "award_titles_container2 = soup4.find('div', class_ = 'section-content item-list pt-3 row')\n",
    "#award_titles_container2"
   ]
  },
  {
   "cell_type": "code",
   "execution_count": 11,
   "metadata": {},
   "outputs": [],
   "source": [
    "titles2 = award_titles_container2.findAll('h5', class_ = 'mb-1')\n",
    "#titles2"
   ]
  },
  {
   "cell_type": "code",
   "execution_count": 12,
   "metadata": {},
   "outputs": [],
   "source": [
    "for tag in titles2[5:28]:\n",
    "    nominated_shows.append(tag.text.strip())\n",
    "#nominated_shows"
   ]
  },
  {
   "cell_type": "code",
   "execution_count": 13,
   "metadata": {},
   "outputs": [],
   "source": [
    "for tag in titles2[:6]:\n",
    "    actors.append(tag.text.strip())"
   ]
  },
  {
   "cell_type": "code",
   "execution_count": 14,
   "metadata": {},
   "outputs": [],
   "source": [
    "for tag in titles2[28:]:\n",
    "    actors.append(tag.text.strip())"
   ]
  },
  {
   "cell_type": "code",
   "execution_count": 15,
   "metadata": {
    "scrolled": false
   },
   "outputs": [],
   "source": [
    "#actors"
   ]
  },
  {
   "cell_type": "code",
   "execution_count": 16,
   "metadata": {},
   "outputs": [],
   "source": [
    "show_names_for_actors2 = award_titles_container2.findAll('div', class_ = 'p1 show-title')"
   ]
  },
  {
   "cell_type": "code",
   "execution_count": 17,
   "metadata": {},
   "outputs": [],
   "source": [
    "for tag in show_names_for_actors2:\n",
    "    shows_nominated_actors.append(tag.text.strip())"
   ]
  },
  {
   "cell_type": "code",
   "execution_count": 18,
   "metadata": {},
   "outputs": [],
   "source": [
    "url5 = 'https://www.emmys.com/awards/nominees-winners?page=2'\n",
    "html5 = requests.get(url5)\n",
    "soup5 = BeautifulSoup(html5.content, 'html.parser')"
   ]
  },
  {
   "cell_type": "code",
   "execution_count": 19,
   "metadata": {},
   "outputs": [],
   "source": [
    "award_titles_container3 = soup5.find('div', class_ = 'section-content item-list pt-3 row')"
   ]
  },
  {
   "cell_type": "code",
   "execution_count": 20,
   "metadata": {},
   "outputs": [],
   "source": [
    "titles3 = award_titles_container3.findAll('h5', class_ = 'mb-1')"
   ]
  },
  {
   "cell_type": "code",
   "execution_count": 21,
   "metadata": {},
   "outputs": [],
   "source": [
    "for tag in titles3[:-6]:\n",
    "    actors.append(tag.text.strip())"
   ]
  },
  {
   "cell_type": "code",
   "execution_count": 22,
   "metadata": {},
   "outputs": [],
   "source": [
    "shows_nominated_actors3 = soup5.findAll('div', class_ = 'p1 show-title')"
   ]
  },
  {
   "cell_type": "code",
   "execution_count": 23,
   "metadata": {
    "scrolled": true
   },
   "outputs": [],
   "source": [
    "for tag in shows_nominated_actors3[:-1]:\n",
    "    shows_nominated_actors.append(tag.text.strip())\n",
    "#shows_nominated_actors"
   ]
  },
  {
   "cell_type": "code",
   "execution_count": 24,
   "metadata": {},
   "outputs": [
    {
     "name": "stdout",
     "output_type": "stream",
     "text": [
      "80\n",
      "80\n"
     ]
    }
   ],
   "source": [
    "#make sure lists are same length before creating a dictionary \n",
    "print(len(actors))\n",
    "print(len(shows_nominated_actors))"
   ]
  },
  {
   "cell_type": "code",
   "execution_count": 25,
   "metadata": {},
   "outputs": [],
   "source": [
    "#dictionary pairing nominated actors and the shows they were nominated for \n",
    "nominated_actors = dict(zip(actors, shows_nominated_actors))\n",
    "#nominated_actors"
   ]
  },
  {
   "cell_type": "code",
   "execution_count": 26,
   "metadata": {},
   "outputs": [],
   "source": [
    "nominated_shows_dict = dict((x,nominated_shows.count(x)) for x in nominated_shows)"
   ]
  },
  {
   "cell_type": "code",
   "execution_count": 27,
   "metadata": {},
   "outputs": [],
   "source": [
    "#nominated_shows_dict"
   ]
  },
  {
   "cell_type": "code",
   "execution_count": 28,
   "metadata": {},
   "outputs": [
    {
     "data": {
      "text/plain": [
       "21"
      ]
     },
     "execution_count": 28,
     "metadata": {},
     "output_type": "execute_result"
    }
   ],
   "source": [
    "df = pd.DataFrame.from_dict(nominated_shows_dict, 'index')\n",
    "df.columns = ['Nominations']\n",
    "len(df)                                                          "
   ]
  },
  {
   "cell_type": "code",
   "execution_count": 29,
   "metadata": {},
   "outputs": [],
   "source": [
    "actor_show_noms = dict((x,shows_nominated_actors.count(x)) for x in shows_nominated_actors)\n",
    "#actor_show_noms"
   ]
  },
  {
   "cell_type": "code",
   "execution_count": 30,
   "metadata": {},
   "outputs": [
    {
     "data": {
      "text/html": [
       "<div>\n",
       "<style scoped>\n",
       "    .dataframe tbody tr th:only-of-type {\n",
       "        vertical-align: middle;\n",
       "    }\n",
       "\n",
       "    .dataframe tbody tr th {\n",
       "        vertical-align: top;\n",
       "    }\n",
       "\n",
       "    .dataframe thead th {\n",
       "        text-align: right;\n",
       "    }\n",
       "</style>\n",
       "<table border=\"1\" class=\"dataframe\">\n",
       "  <thead>\n",
       "    <tr style=\"text-align: right;\">\n",
       "      <th></th>\n",
       "      <th>Actor Nominations</th>\n",
       "    </tr>\n",
       "  </thead>\n",
       "  <tbody>\n",
       "    <tr>\n",
       "      <th>Black Monday</th>\n",
       "      <td>1</td>\n",
       "    </tr>\n",
       "    <tr>\n",
       "      <th>black-ish</th>\n",
       "      <td>2</td>\n",
       "    </tr>\n",
       "    <tr>\n",
       "      <th>Ramy</th>\n",
       "      <td>2</td>\n",
       "    </tr>\n",
       "    <tr>\n",
       "      <th>Schitt's Creek</th>\n",
       "      <td>4</td>\n",
       "    </tr>\n",
       "    <tr>\n",
       "      <th>The Good Place</th>\n",
       "      <td>4</td>\n",
       "    </tr>\n",
       "  </tbody>\n",
       "</table>\n",
       "</div>"
      ],
      "text/plain": [
       "                Actor Nominations\n",
       "Black Monday                    1\n",
       "black-ish                       2\n",
       "Ramy                            2\n",
       "Schitt's Creek                  4\n",
       "The Good Place                  4"
      ]
     },
     "execution_count": 30,
     "metadata": {},
     "output_type": "execute_result"
    }
   ],
   "source": [
    "df2 = pd.DataFrame.from_dict(actor_show_noms,'index')\n",
    "df2.columns = ['Actor Nominations']\n",
    "df2.head()"
   ]
  },
  {
   "cell_type": "code",
   "execution_count": 31,
   "metadata": {},
   "outputs": [],
   "source": [
    "joined_df = df.join(df2,how = 'outer')\n",
    "joined_df.fillna(0, inplace=True)\n",
    "#joined_df"
   ]
  },
  {
   "cell_type": "code",
   "execution_count": 32,
   "metadata": {},
   "outputs": [
    {
     "name": "stdout",
     "output_type": "stream",
     "text": [
      "<class 'pandas.core.frame.DataFrame'>\n",
      "Index: 39 entries, A Black Lady Sketch Show to black-ish\n",
      "Data columns (total 2 columns):\n",
      "Nominations          39 non-null float64\n",
      "Actor Nominations    39 non-null float64\n",
      "dtypes: float64(2)\n",
      "memory usage: 936.0+ bytes\n"
     ]
    }
   ],
   "source": [
    "joined_df.info()"
   ]
  },
  {
   "cell_type": "code",
   "execution_count": 33,
   "metadata": {},
   "outputs": [],
   "source": [
    "pd.options.display.float_format = '{:,.0f}'.format"
   ]
  },
  {
   "cell_type": "code",
   "execution_count": 34,
   "metadata": {},
   "outputs": [],
   "source": [
    "#joined_df"
   ]
  },
  {
   "cell_type": "markdown",
   "metadata": {},
   "source": [
    "Next steps: \n",
    "1. pull in network from Emmy's page\n",
    "2. find genre \n",
    "3. look into other awards shows/ international awards"
   ]
  },
  {
   "cell_type": "code",
   "execution_count": 35,
   "metadata": {},
   "outputs": [],
   "source": [
    "joined_df['Award Year'] = '2020'"
   ]
  },
  {
   "cell_type": "code",
   "execution_count": 36,
   "metadata": {},
   "outputs": [
    {
     "data": {
      "text/html": [
       "<div>\n",
       "<style scoped>\n",
       "    .dataframe tbody tr th:only-of-type {\n",
       "        vertical-align: middle;\n",
       "    }\n",
       "\n",
       "    .dataframe tbody tr th {\n",
       "        vertical-align: top;\n",
       "    }\n",
       "\n",
       "    .dataframe thead th {\n",
       "        text-align: right;\n",
       "    }\n",
       "</style>\n",
       "<table border=\"1\" class=\"dataframe\">\n",
       "  <thead>\n",
       "    <tr style=\"text-align: right;\">\n",
       "      <th></th>\n",
       "      <th>Nominations</th>\n",
       "      <th>Actor Nominations</th>\n",
       "      <th>Award Year</th>\n",
       "    </tr>\n",
       "  </thead>\n",
       "  <tbody>\n",
       "    <tr>\n",
       "      <th>A Black Lady Sketch Show</th>\n",
       "      <td>0</td>\n",
       "      <td>1</td>\n",
       "      <td>2020</td>\n",
       "    </tr>\n",
       "    <tr>\n",
       "      <th>Bette Midler</th>\n",
       "      <td>1</td>\n",
       "      <td>0</td>\n",
       "      <td>2020</td>\n",
       "    </tr>\n",
       "    <tr>\n",
       "      <th>Better Call Saul</th>\n",
       "      <td>1</td>\n",
       "      <td>1</td>\n",
       "      <td>2020</td>\n",
       "    </tr>\n",
       "    <tr>\n",
       "      <th>Big Little Lies</th>\n",
       "      <td>0</td>\n",
       "      <td>2</td>\n",
       "      <td>2020</td>\n",
       "    </tr>\n",
       "    <tr>\n",
       "      <th>Black Mirror</th>\n",
       "      <td>0</td>\n",
       "      <td>1</td>\n",
       "      <td>2020</td>\n",
       "    </tr>\n",
       "    <tr>\n",
       "      <th>Black Monday</th>\n",
       "      <td>0</td>\n",
       "      <td>1</td>\n",
       "      <td>2020</td>\n",
       "    </tr>\n",
       "    <tr>\n",
       "      <th>Brooklyn Nine-Nine</th>\n",
       "      <td>0</td>\n",
       "      <td>1</td>\n",
       "      <td>2020</td>\n",
       "    </tr>\n",
       "    <tr>\n",
       "      <th>Curb Your Enthusiasm</th>\n",
       "      <td>1</td>\n",
       "      <td>0</td>\n",
       "      <td>2020</td>\n",
       "    </tr>\n",
       "    <tr>\n",
       "      <th>Dead To Me</th>\n",
       "      <td>1</td>\n",
       "      <td>2</td>\n",
       "      <td>2020</td>\n",
       "    </tr>\n",
       "    <tr>\n",
       "      <th>Euphoria</th>\n",
       "      <td>0</td>\n",
       "      <td>1</td>\n",
       "      <td>2020</td>\n",
       "    </tr>\n",
       "    <tr>\n",
       "      <th>GLOW</th>\n",
       "      <td>0</td>\n",
       "      <td>1</td>\n",
       "      <td>2020</td>\n",
       "    </tr>\n",
       "    <tr>\n",
       "      <th>How To Get Away With Murder</th>\n",
       "      <td>0</td>\n",
       "      <td>1</td>\n",
       "      <td>2020</td>\n",
       "    </tr>\n",
       "    <tr>\n",
       "      <th>Insecure</th>\n",
       "      <td>1</td>\n",
       "      <td>2</td>\n",
       "      <td>2020</td>\n",
       "    </tr>\n",
       "    <tr>\n",
       "      <th>Killing Eve</th>\n",
       "      <td>1</td>\n",
       "      <td>3</td>\n",
       "      <td>2020</td>\n",
       "    </tr>\n",
       "    <tr>\n",
       "      <th>Modern Family</th>\n",
       "      <td>1</td>\n",
       "      <td>1</td>\n",
       "      <td>2020</td>\n",
       "    </tr>\n",
       "    <tr>\n",
       "      <th>Modern Love</th>\n",
       "      <td>0</td>\n",
       "      <td>1</td>\n",
       "      <td>2020</td>\n",
       "    </tr>\n",
       "    <tr>\n",
       "      <th>Orange Is The New Black</th>\n",
       "      <td>0</td>\n",
       "      <td>1</td>\n",
       "      <td>2020</td>\n",
       "    </tr>\n",
       "    <tr>\n",
       "      <th>Ozark</th>\n",
       "      <td>1</td>\n",
       "      <td>3</td>\n",
       "      <td>2020</td>\n",
       "    </tr>\n",
       "    <tr>\n",
       "      <th>Pose</th>\n",
       "      <td>0</td>\n",
       "      <td>1</td>\n",
       "      <td>2020</td>\n",
       "    </tr>\n",
       "    <tr>\n",
       "      <th>Ramy</th>\n",
       "      <td>1</td>\n",
       "      <td>2</td>\n",
       "      <td>2020</td>\n",
       "    </tr>\n",
       "    <tr>\n",
       "      <th>Saturday Night Live</th>\n",
       "      <td>0</td>\n",
       "      <td>8</td>\n",
       "      <td>2020</td>\n",
       "    </tr>\n",
       "    <tr>\n",
       "      <th>Schitt's Creek</th>\n",
       "      <td>4</td>\n",
       "      <td>4</td>\n",
       "      <td>2020</td>\n",
       "    </tr>\n",
       "    <tr>\n",
       "      <th>Stranger Things</th>\n",
       "      <td>1</td>\n",
       "      <td>0</td>\n",
       "      <td>2020</td>\n",
       "    </tr>\n",
       "    <tr>\n",
       "      <th>Succession</th>\n",
       "      <td>1</td>\n",
       "      <td>9</td>\n",
       "      <td>2020</td>\n",
       "    </tr>\n",
       "    <tr>\n",
       "      <th>The Crown</th>\n",
       "      <td>1</td>\n",
       "      <td>2</td>\n",
       "      <td>2020</td>\n",
       "    </tr>\n",
       "    <tr>\n",
       "      <th>The Good Place</th>\n",
       "      <td>2</td>\n",
       "      <td>4</td>\n",
       "      <td>2020</td>\n",
       "    </tr>\n",
       "    <tr>\n",
       "      <th>The Great</th>\n",
       "      <td>2</td>\n",
       "      <td>0</td>\n",
       "      <td>2020</td>\n",
       "    </tr>\n",
       "    <tr>\n",
       "      <th>The Handmaid's Tale</th>\n",
       "      <td>1</td>\n",
       "      <td>3</td>\n",
       "      <td>2020</td>\n",
       "    </tr>\n",
       "    <tr>\n",
       "      <th>The Kominsky Method</th>\n",
       "      <td>1</td>\n",
       "      <td>2</td>\n",
       "      <td>2020</td>\n",
       "    </tr>\n",
       "    <tr>\n",
       "      <th>The Mandalorian</th>\n",
       "      <td>1</td>\n",
       "      <td>1</td>\n",
       "      <td>2020</td>\n",
       "    </tr>\n",
       "    <tr>\n",
       "      <th>The Marvelous Mrs. Maisel</th>\n",
       "      <td>3</td>\n",
       "      <td>7</td>\n",
       "      <td>2020</td>\n",
       "    </tr>\n",
       "    <tr>\n",
       "      <th>The Morning Show</th>\n",
       "      <td>0</td>\n",
       "      <td>5</td>\n",
       "      <td>2020</td>\n",
       "    </tr>\n",
       "    <tr>\n",
       "      <th>The Outsider</th>\n",
       "      <td>0</td>\n",
       "      <td>1</td>\n",
       "      <td>2020</td>\n",
       "    </tr>\n",
       "    <tr>\n",
       "      <th>The Politician</th>\n",
       "      <td>0</td>\n",
       "      <td>1</td>\n",
       "      <td>2020</td>\n",
       "    </tr>\n",
       "    <tr>\n",
       "      <th>This Is Us</th>\n",
       "      <td>0</td>\n",
       "      <td>3</td>\n",
       "      <td>2020</td>\n",
       "    </tr>\n",
       "    <tr>\n",
       "      <th>Westworld</th>\n",
       "      <td>0</td>\n",
       "      <td>2</td>\n",
       "      <td>2020</td>\n",
       "    </tr>\n",
       "    <tr>\n",
       "      <th>What We Do In The Shadows</th>\n",
       "      <td>3</td>\n",
       "      <td>0</td>\n",
       "      <td>2020</td>\n",
       "    </tr>\n",
       "    <tr>\n",
       "      <th>Will &amp; Grace</th>\n",
       "      <td>1</td>\n",
       "      <td>0</td>\n",
       "      <td>2020</td>\n",
       "    </tr>\n",
       "    <tr>\n",
       "      <th>black-ish</th>\n",
       "      <td>0</td>\n",
       "      <td>2</td>\n",
       "      <td>2020</td>\n",
       "    </tr>\n",
       "  </tbody>\n",
       "</table>\n",
       "</div>"
      ],
      "text/plain": [
       "                             Nominations  Actor Nominations Award Year\n",
       "A Black Lady Sketch Show               0                  1       2020\n",
       "Bette Midler                           1                  0       2020\n",
       "Better Call Saul                       1                  1       2020\n",
       "Big Little Lies                        0                  2       2020\n",
       "Black Mirror                           0                  1       2020\n",
       "Black Monday                           0                  1       2020\n",
       "Brooklyn Nine-Nine                     0                  1       2020\n",
       "Curb Your Enthusiasm                   1                  0       2020\n",
       "Dead To Me                             1                  2       2020\n",
       "Euphoria                               0                  1       2020\n",
       "GLOW                                   0                  1       2020\n",
       "How To Get Away With Murder            0                  1       2020\n",
       "Insecure                               1                  2       2020\n",
       "Killing Eve                            1                  3       2020\n",
       "Modern Family                          1                  1       2020\n",
       "Modern Love                            0                  1       2020\n",
       "Orange Is The New Black                0                  1       2020\n",
       "Ozark                                  1                  3       2020\n",
       "Pose                                   0                  1       2020\n",
       "Ramy                                   1                  2       2020\n",
       "Saturday Night Live                    0                  8       2020\n",
       "Schitt's Creek                         4                  4       2020\n",
       "Stranger Things                        1                  0       2020\n",
       "Succession                             1                  9       2020\n",
       "The Crown                              1                  2       2020\n",
       "The Good Place                         2                  4       2020\n",
       "The Great                              2                  0       2020\n",
       "The Handmaid's Tale                    1                  3       2020\n",
       "The Kominsky Method                    1                  2       2020\n",
       "The Mandalorian                        1                  1       2020\n",
       "The Marvelous Mrs. Maisel              3                  7       2020\n",
       "The Morning Show                       0                  5       2020\n",
       "The Outsider                           0                  1       2020\n",
       "The Politician                         0                  1       2020\n",
       "This Is Us                             0                  3       2020\n",
       "Westworld                              0                  2       2020\n",
       "What We Do In The Shadows              3                  0       2020\n",
       "Will & Grace                           1                  0       2020\n",
       "black-ish                              0                  2       2020"
      ]
     },
     "execution_count": 36,
     "metadata": {},
     "output_type": "execute_result"
    }
   ],
   "source": [
    "joined_df"
   ]
  },
  {
   "cell_type": "code",
   "execution_count": 37,
   "metadata": {},
   "outputs": [],
   "source": [
    "url2019 = 'https://www.emmys.com/awards/nominees-winners/2019'\n",
    "html2019 = requests.get(url2019)\n",
    "soup2019 = BeautifulSoup(html2019.content, 'html.parser')"
   ]
  },
  {
   "cell_type": "code",
   "execution_count": 38,
   "metadata": {},
   "outputs": [],
   "source": [
    "award_titles_container2019 = soup2019.find('div', class_ = 'section-content item-list pt-3 row')"
   ]
  },
  {
   "cell_type": "code",
   "execution_count": 39,
   "metadata": {},
   "outputs": [],
   "source": [
    "titles2019 = award_titles_container2019.findAll('h5', class_ = 'mb-1')"
   ]
  },
  {
   "cell_type": "code",
   "execution_count": 40,
   "metadata": {},
   "outputs": [],
   "source": [
    "shows2019 = []\n",
    "for tag in titles2019[:7]:\n",
    "    shows2019.append(tag.text.strip())\n",
    "\n",
    "actors2019 = []\n",
    "for tag in titles2019[7:]:\n",
    "    actors2019.append(tag.text.strip())\n",
    "\n",
    "show_names_for_actors2019 = award_titles_container2019.findAll('div', class_ = 'p1 show-title')\n",
    "\n",
    "shows_nominated_actors2019 = []\n",
    "for tag in show_names_for_actors2019:\n",
    "    shows_nominated_actors2019.append(tag.text.strip())"
   ]
  },
  {
   "cell_type": "code",
   "execution_count": 41,
   "metadata": {
    "scrolled": true
   },
   "outputs": [
    {
     "name": "stdout",
     "output_type": "stream",
     "text": [
      "33\n",
      "33\n"
     ]
    }
   ],
   "source": [
    "print(len(shows_nominated_actors2019))\n",
    "print(len(actors2019))"
   ]
  },
  {
   "cell_type": "code",
   "execution_count": 42,
   "metadata": {},
   "outputs": [],
   "source": [
    "url2019_1 = 'https://www.emmys.com/awards/nominees-winners/2019?page=1'\n",
    "html2019_1 = requests.get(url2019_1)\n",
    "soup2019_1 = BeautifulSoup(html2019_1.content, 'html.parser')"
   ]
  },
  {
   "cell_type": "code",
   "execution_count": 43,
   "metadata": {},
   "outputs": [],
   "source": [
    "award_titles_container2019_1 = soup2019_1.find('div', class_ = 'section-content item-list pt-3 row')\n",
    "\n",
    "titles2019_1 = award_titles_container2019_1.findAll('h5', class_ = 'mb-1')\n",
    "\n",
    "for tag in titles2019_1[6:27]:\n",
    "    shows2019.append(tag.text.strip())\n",
    "    \n",
    "for tag in titles2019_1[-13:]:\n",
    "    actors2019.append(tag.text.strip())\n",
    "    \n",
    "for tag in titles2019_1[:6]:\n",
    "    actors2019.append(tag.text.strip())\n",
    "\n",
    "show_names_for_actors2019_1 = award_titles_container2019_1.findAll('div', class_ = 'p1 show-title')\n",
    "\n",
    "for tag in show_names_for_actors2019_1:\n",
    "    shows_nominated_actors2019.append(tag.text.strip())"
   ]
  },
  {
   "cell_type": "code",
   "execution_count": 44,
   "metadata": {},
   "outputs": [],
   "source": [
    "url2019_2 = 'https://www.emmys.com/awards/nominees-winners/2019?page=2'\n",
    "html2019_2 = requests.get(url2019_2)\n",
    "soup2019_2 = BeautifulSoup(html2019_2.content, 'html.parser')"
   ]
  },
  {
   "cell_type": "code",
   "execution_count": 45,
   "metadata": {},
   "outputs": [],
   "source": [
    "award_titles_container2019_2 = soup2019_2.find('div', class_ = 'section-content item-list pt-3 row')\n",
    "\n",
    "titles2019_2 = award_titles_container2019_2.findAll('h5', class_ = 'mb-1')\n",
    "\n",
    "for tag in titles2019_2[:13]:\n",
    "    actors2019.append(tag.text.strip())\n",
    "\n",
    "show_names_for_actors2019_2 = award_titles_container2019_2.findAll('div', class_ = 'p1 show-title')\n",
    "\n",
    "for tag in show_names_for_actors2019_2[:13]:\n",
    "    shows_nominated_actors2019.append(tag.text.strip())"
   ]
  },
  {
   "cell_type": "code",
   "execution_count": 46,
   "metadata": {},
   "outputs": [],
   "source": [
    "actor_show_noms2019 = dict((x, shows_nominated_actors2019.count(x)) for x in shows_nominated_actors2019)\n",
    "#actor_show_noms2019"
   ]
  },
  {
   "cell_type": "code",
   "execution_count": 47,
   "metadata": {},
   "outputs": [],
   "source": [
    "nominated_shows2019 = dict((x,shows2019.count(x)) for x in shows2019)"
   ]
  },
  {
   "cell_type": "code",
   "execution_count": 48,
   "metadata": {},
   "outputs": [],
   "source": [
    "df2019 = pd.DataFrame.from_dict(nominated_shows2019, 'index')\n",
    "df2019.columns = ['Nominations']"
   ]
  },
  {
   "cell_type": "code",
   "execution_count": 49,
   "metadata": {},
   "outputs": [],
   "source": [
    "df2019_actors = pd.DataFrame.from_dict(actor_show_noms2019,'index')\n",
    "df2019_actors.columns = ['Actor Nominations']\n"
   ]
  },
  {
   "cell_type": "code",
   "execution_count": 50,
   "metadata": {},
   "outputs": [
    {
     "data": {
      "text/html": [
       "<div>\n",
       "<style scoped>\n",
       "    .dataframe tbody tr th:only-of-type {\n",
       "        vertical-align: middle;\n",
       "    }\n",
       "\n",
       "    .dataframe tbody tr th {\n",
       "        vertical-align: top;\n",
       "    }\n",
       "\n",
       "    .dataframe thead th {\n",
       "        text-align: right;\n",
       "    }\n",
       "</style>\n",
       "<table border=\"1\" class=\"dataframe\">\n",
       "  <thead>\n",
       "    <tr style=\"text-align: right;\">\n",
       "      <th></th>\n",
       "      <th>Nominations</th>\n",
       "      <th>Actor Nominations</th>\n",
       "    </tr>\n",
       "  </thead>\n",
       "  <tbody>\n",
       "    <tr>\n",
       "      <th>Barry</th>\n",
       "      <td>4</td>\n",
       "      <td>5</td>\n",
       "    </tr>\n",
       "    <tr>\n",
       "      <th>Better Call Saul</th>\n",
       "      <td>1</td>\n",
       "      <td>3</td>\n",
       "    </tr>\n",
       "    <tr>\n",
       "      <th>Black Monday</th>\n",
       "      <td>nan</td>\n",
       "      <td>1</td>\n",
       "    </tr>\n",
       "  </tbody>\n",
       "</table>\n",
       "</div>"
      ],
      "text/plain": [
       "                  Nominations  Actor Nominations\n",
       "Barry                       4                  5\n",
       "Better Call Saul            1                  3\n",
       "Black Monday              nan                  1"
      ]
     },
     "execution_count": 50,
     "metadata": {},
     "output_type": "execute_result"
    }
   ],
   "source": [
    "joined_df_2019 = df2019.join(df2019_actors, how='outer')\n",
    "joined_df_2019.head(3)"
   ]
  },
  {
   "cell_type": "code",
   "execution_count": 51,
   "metadata": {},
   "outputs": [],
   "source": [
    "joined_df_2019['Award Year'] = '2019'"
   ]
  },
  {
   "cell_type": "code",
   "execution_count": 52,
   "metadata": {},
   "outputs": [],
   "source": [
    "url2018 = 'https://www.emmys.com/awards/nominees-winners/2018'\n",
    "html2018 = requests.get(url2018)\n",
    "soup2018 = BeautifulSoup(html2018.content, 'html.parser')"
   ]
  },
  {
   "cell_type": "code",
   "execution_count": 53,
   "metadata": {},
   "outputs": [],
   "source": [
    "award_titles_container2018 = soup2018.find('div', class_ = 'section-content item-list pt-3 row')\n",
    "\n",
    "titles2018 = award_titles_container2018.findAll('h5', class_ = 'mb-1')\n",
    "\n",
    "show_names_for_actors2018 = award_titles_container2018.findAll('div', class_ = 'p1 show-title')"
   ]
  },
  {
   "cell_type": "code",
   "execution_count": 54,
   "metadata": {},
   "outputs": [],
   "source": [
    "actors2018 = []\n",
    "shows2018 =  []\n",
    "shows_nominated_actors2018 = []\n",
    "\n",
    "for tag in titles2018[8:]:\n",
    "    actors2018.append(tag.text.strip())\n",
    "\n",
    "for tag in titles2018[:8]:\n",
    "    shows2018.append(tag.text.strip())\n",
    "\n",
    "show_names_for_actors2018 = award_titles_container2018.findAll('div', class_ = 'p1 show-title')\n",
    "\n",
    "for tag in show_names_for_actors2018:\n",
    "    shows_nominated_actors2018.append(tag.text.strip())"
   ]
  },
  {
   "cell_type": "code",
   "execution_count": 55,
   "metadata": {},
   "outputs": [],
   "source": [
    "url2018_1 = 'https://www.emmys.com/awards/nominees-winners/2018?page=1'\n",
    "html2018_1 = requests.get(url2018_1)\n",
    "soup2018_1 = BeautifulSoup(html2018_1.content, 'html.parser')"
   ]
  },
  {
   "cell_type": "code",
   "execution_count": 56,
   "metadata": {},
   "outputs": [],
   "source": [
    "award_titles_container2018_1 = soup2018_1.find('div', class_ = 'section-content item-list pt-3 row')\n",
    "\n",
    "titles2018_1 = award_titles_container2018_1.findAll('h5', class_ = 'mb-1')\n",
    "\n",
    "show_names_for_actors2018_1 = award_titles_container2018_1.findAll('div', class_ = 'p1 show-title')"
   ]
  },
  {
   "cell_type": "code",
   "execution_count": 57,
   "metadata": {},
   "outputs": [],
   "source": [
    "for tag in titles2018_1[:5]:\n",
    "    actors2018.append(tag.text.strip())\n",
    "    \n",
    "for tag in titles2018_1[-12:]:\n",
    "    actors2018.append(tag.text.strip())\n",
    "\n",
    "for tag in titles2018_1[6:-12]:\n",
    "    shows2018.append(tag.text.strip())\n",
    "\n",
    "show_names_for_actors2018_1 = award_titles_container2018_1.findAll('div', class_ = 'p1 show-title')\n",
    "\n",
    "for tag in show_names_for_actors2018_1:\n",
    "    shows_nominated_actors2018.append(tag.text.strip())"
   ]
  },
  {
   "cell_type": "code",
   "execution_count": 58,
   "metadata": {},
   "outputs": [],
   "source": [
    "url2018_2 = 'https://www.emmys.com/awards/nominees-winners/2018?page=2'\n",
    "html2018_2 = requests.get(url2018_2)\n",
    "soup2018_2 = BeautifulSoup(html2018_2.content, 'html.parser')"
   ]
  },
  {
   "cell_type": "code",
   "execution_count": 59,
   "metadata": {},
   "outputs": [],
   "source": [
    "award_titles_container2018_2 = soup2018_2.find('div', class_ = 'section-content item-list pt-3 row')\n",
    "\n",
    "show_names_for_actors2018_2 = award_titles_container2018_2.findAll('div', class_ = 'p1 show-title')"
   ]
  },
  {
   "cell_type": "code",
   "execution_count": 60,
   "metadata": {},
   "outputs": [],
   "source": [
    "show_names_for_actors2018_2 = award_titles_container2018_2.findAll('div', class_ = 'p1 show-title')\n",
    "\n",
    "for tag in show_names_for_actors2018_2[:13]:\n",
    "    shows_nominated_actors2018.append(tag.text.strip())"
   ]
  },
  {
   "cell_type": "code",
   "execution_count": 61,
   "metadata": {},
   "outputs": [
    {
     "data": {
      "text/plain": [
       "16"
      ]
     },
     "execution_count": 61,
     "metadata": {},
     "output_type": "execute_result"
    }
   ],
   "source": [
    "nominated_shows2018 = dict((x,shows2018.count(x)) for x in shows2018)\n",
    "len(nominated_shows2018)"
   ]
  },
  {
   "cell_type": "code",
   "execution_count": 62,
   "metadata": {},
   "outputs": [
    {
     "data": {
      "text/html": [
       "<div>\n",
       "<style scoped>\n",
       "    .dataframe tbody tr th:only-of-type {\n",
       "        vertical-align: middle;\n",
       "    }\n",
       "\n",
       "    .dataframe tbody tr th {\n",
       "        vertical-align: top;\n",
       "    }\n",
       "\n",
       "    .dataframe thead th {\n",
       "        text-align: right;\n",
       "    }\n",
       "</style>\n",
       "<table border=\"1\" class=\"dataframe\">\n",
       "  <thead>\n",
       "    <tr style=\"text-align: right;\">\n",
       "      <th></th>\n",
       "      <th>Nominations</th>\n",
       "    </tr>\n",
       "  </thead>\n",
       "  <tbody>\n",
       "    <tr>\n",
       "      <th>Atlanta</th>\n",
       "      <td>5</td>\n",
       "    </tr>\n",
       "    <tr>\n",
       "      <th>Barry</th>\n",
       "      <td>4</td>\n",
       "    </tr>\n",
       "    <tr>\n",
       "      <th>black-ish</th>\n",
       "      <td>1</td>\n",
       "    </tr>\n",
       "    <tr>\n",
       "      <th>Curb Your Enthusiasm</th>\n",
       "      <td>1</td>\n",
       "    </tr>\n",
       "    <tr>\n",
       "      <th>GLOW</th>\n",
       "      <td>2</td>\n",
       "    </tr>\n",
       "  </tbody>\n",
       "</table>\n",
       "</div>"
      ],
      "text/plain": [
       "                      Nominations\n",
       "Atlanta                         5\n",
       "Barry                           4\n",
       "black-ish                       1\n",
       "Curb Your Enthusiasm            1\n",
       "GLOW                            2"
      ]
     },
     "execution_count": 62,
     "metadata": {},
     "output_type": "execute_result"
    }
   ],
   "source": [
    "df2018 = pd.DataFrame.from_dict(nominated_shows2018, 'index')\n",
    "df2018.columns = ['Nominations']\n",
    "df2018.head()"
   ]
  },
  {
   "cell_type": "code",
   "execution_count": 63,
   "metadata": {},
   "outputs": [
    {
     "data": {
      "text/plain": [
       "29"
      ]
     },
     "execution_count": 63,
     "metadata": {},
     "output_type": "execute_result"
    }
   ],
   "source": [
    "shows_actors_nom2018 = dict((x, shows_nominated_actors2018.count(x)) for x in shows_nominated_actors2018)\n",
    "len(shows_actors_nom2018)"
   ]
  },
  {
   "cell_type": "code",
   "execution_count": 64,
   "metadata": {},
   "outputs": [],
   "source": [
    "df_2018_1 = pd.DataFrame.from_dict(shows_actors_nom2018, 'index')\n",
    "df_2018_1.columns = ['Actor Nominations']"
   ]
  },
  {
   "cell_type": "code",
   "execution_count": 65,
   "metadata": {},
   "outputs": [
    {
     "data": {
      "text/plain": [
       "31"
      ]
     },
     "execution_count": 65,
     "metadata": {},
     "output_type": "execute_result"
    }
   ],
   "source": [
    "joined_df_2018 = df2018.join(df_2018_1,how='outer')\n",
    "len(joined_df_2018)"
   ]
  },
  {
   "cell_type": "code",
   "execution_count": 66,
   "metadata": {
    "scrolled": true
   },
   "outputs": [
    {
     "data": {
      "text/html": [
       "<div>\n",
       "<style scoped>\n",
       "    .dataframe tbody tr th:only-of-type {\n",
       "        vertical-align: middle;\n",
       "    }\n",
       "\n",
       "    .dataframe tbody tr th {\n",
       "        vertical-align: top;\n",
       "    }\n",
       "\n",
       "    .dataframe thead th {\n",
       "        text-align: right;\n",
       "    }\n",
       "</style>\n",
       "<table border=\"1\" class=\"dataframe\">\n",
       "  <thead>\n",
       "    <tr style=\"text-align: right;\">\n",
       "      <th></th>\n",
       "      <th>Nominations</th>\n",
       "      <th>Actor Nominations</th>\n",
       "      <th>Award Year</th>\n",
       "    </tr>\n",
       "  </thead>\n",
       "  <tbody>\n",
       "    <tr>\n",
       "      <th>Atlanta</th>\n",
       "      <td>5</td>\n",
       "      <td>4</td>\n",
       "      <td>2018</td>\n",
       "    </tr>\n",
       "    <tr>\n",
       "      <th>Barry</th>\n",
       "      <td>4</td>\n",
       "      <td>2</td>\n",
       "      <td>2018</td>\n",
       "    </tr>\n",
       "  </tbody>\n",
       "</table>\n",
       "</div>"
      ],
      "text/plain": [
       "         Nominations  Actor Nominations Award Year\n",
       "Atlanta            5                  4       2018\n",
       "Barry              4                  2       2018"
      ]
     },
     "execution_count": 66,
     "metadata": {},
     "output_type": "execute_result"
    }
   ],
   "source": [
    "joined_df_2018['Award Year'] = '2018'\n",
    "joined_df_2018.head(2)"
   ]
  },
  {
   "cell_type": "code",
   "execution_count": 67,
   "metadata": {},
   "outputs": [],
   "source": [
    "url2017 = 'https://www.emmys.com/awards/nominees-winners/2017'\n",
    "html2017 = requests.get(url2017)\n",
    "soup2017 = BeautifulSoup(html2017.content, 'html.parser')"
   ]
  },
  {
   "cell_type": "code",
   "execution_count": 68,
   "metadata": {},
   "outputs": [],
   "source": [
    "award_titles_container2017 = soup2017.find('div', class_ = 'section-content item-list pt-3 row')\n",
    "\n",
    "titles2017 = award_titles_container2017.findAll('h5', class_ = 'mb-1')\n",
    "\n",
    "show_names_for_actors2017 = award_titles_container2017.findAll('div', class_ = 'p1 show-title')"
   ]
  },
  {
   "cell_type": "code",
   "execution_count": 69,
   "metadata": {},
   "outputs": [],
   "source": [
    "shows2017 =  []\n",
    "shows_nominated_actors2017 = []\n",
    "\n",
    "for tag in titles2017[:7]:\n",
    "    shows2017.append(tag.text.strip())\n",
    "\n",
    "show_names_for_actors2017 = award_titles_container2017.findAll('div', class_ = 'p1 show-title')\n",
    "\n",
    "for tag in show_names_for_actors2017:\n",
    "    shows_nominated_actors2017.append(tag.text.strip())"
   ]
  },
  {
   "cell_type": "code",
   "execution_count": 70,
   "metadata": {},
   "outputs": [],
   "source": [
    "url2017_1 = 'https://www.emmys.com/awards/nominees-winners/2017?page=1'\n",
    "html2017_1 = requests.get(url2017_1)\n",
    "soup2017_1 = BeautifulSoup(html2017_1.content, 'html.parser')"
   ]
  },
  {
   "cell_type": "code",
   "execution_count": 71,
   "metadata": {},
   "outputs": [],
   "source": [
    "award_titles_container2017_1 = soup2017_1.find('div', class_ = 'section-content item-list pt-3 row')\n",
    "\n",
    "titles2017_1 = award_titles_container2017_1.findAll('h5', class_ = 'mb-1')\n",
    "\n",
    "show_names_for_actors2017_1 = award_titles_container2017_1.findAll('div', class_ = 'p1 show-title')"
   ]
  },
  {
   "cell_type": "code",
   "execution_count": 72,
   "metadata": {},
   "outputs": [],
   "source": [
    "for tag in titles2017_1[6:-13]:\n",
    "    shows2017.append(tag.text.strip())\n",
    "\n",
    "show_names_for_actors2017_1 = award_titles_container2017_1.findAll('div', class_ = 'p1 show-title')\n",
    "\n",
    "for tag in show_names_for_actors2017_1:\n",
    "    shows_nominated_actors2017.append(tag.text.strip())"
   ]
  },
  {
   "cell_type": "code",
   "execution_count": 73,
   "metadata": {
    "scrolled": true
   },
   "outputs": [],
   "source": [
    "url2017_2 = 'https://www.emmys.com/awards/nominees-winners/2017?page=2'\n",
    "html2017_2 = requests.get(url2017_2)\n",
    "soup2017_2 = BeautifulSoup(html2017_2.content, 'html.parser')"
   ]
  },
  {
   "cell_type": "code",
   "execution_count": 74,
   "metadata": {},
   "outputs": [],
   "source": [
    "award_titles_container2017_2 = soup2017_2.find('div', class_ = 'section-content item-list pt-3 row')\n",
    "\n",
    "show_names_for_actors2017_2 = award_titles_container2017_2.findAll('div', class_ = 'p1 show-title')"
   ]
  },
  {
   "cell_type": "code",
   "execution_count": 75,
   "metadata": {},
   "outputs": [],
   "source": [
    "for tag in show_names_for_actors2017:\n",
    "    shows_nominated_actors2017.append(tag.text.strip())"
   ]
  },
  {
   "cell_type": "code",
   "execution_count": 76,
   "metadata": {},
   "outputs": [],
   "source": [
    "nominated_shows2017 = dict((x, shows2017.count(x)) for x in shows2017)"
   ]
  },
  {
   "cell_type": "code",
   "execution_count": 77,
   "metadata": {},
   "outputs": [],
   "source": [
    "shows_actor_noms2017 = dict((x, shows_nominated_actors2017.count(x)) for x in shows_nominated_actors2017)"
   ]
  },
  {
   "cell_type": "code",
   "execution_count": 78,
   "metadata": {},
   "outputs": [
    {
     "data": {
      "text/html": [
       "<div>\n",
       "<style scoped>\n",
       "    .dataframe tbody tr th:only-of-type {\n",
       "        vertical-align: middle;\n",
       "    }\n",
       "\n",
       "    .dataframe tbody tr th {\n",
       "        vertical-align: top;\n",
       "    }\n",
       "\n",
       "    .dataframe thead th {\n",
       "        text-align: right;\n",
       "    }\n",
       "</style>\n",
       "<table border=\"1\" class=\"dataframe\">\n",
       "  <thead>\n",
       "    <tr style=\"text-align: right;\">\n",
       "      <th></th>\n",
       "      <th>Nominations</th>\n",
       "    </tr>\n",
       "  </thead>\n",
       "  <tbody>\n",
       "    <tr>\n",
       "      <th>Atlanta</th>\n",
       "      <td>4</td>\n",
       "    </tr>\n",
       "    <tr>\n",
       "      <th>black-ish</th>\n",
       "      <td>1</td>\n",
       "    </tr>\n",
       "    <tr>\n",
       "      <th>Master Of None</th>\n",
       "      <td>2</td>\n",
       "    </tr>\n",
       "    <tr>\n",
       "      <th>Modern Family</th>\n",
       "      <td>1</td>\n",
       "    </tr>\n",
       "    <tr>\n",
       "      <th>Silicon Valley</th>\n",
       "      <td>4</td>\n",
       "    </tr>\n",
       "  </tbody>\n",
       "</table>\n",
       "</div>"
      ],
      "text/plain": [
       "                Nominations\n",
       "Atlanta                   4\n",
       "black-ish                 1\n",
       "Master Of None            2\n",
       "Modern Family             1\n",
       "Silicon Valley            4"
      ]
     },
     "execution_count": 78,
     "metadata": {},
     "output_type": "execute_result"
    }
   ],
   "source": [
    "df2017 = pd.DataFrame.from_dict(nominated_shows2017, 'index')\n",
    "df2017.columns = ['Nominations']\n",
    "df2017.head()"
   ]
  },
  {
   "cell_type": "code",
   "execution_count": 79,
   "metadata": {},
   "outputs": [
    {
     "data": {
      "text/html": [
       "<div>\n",
       "<style scoped>\n",
       "    .dataframe tbody tr th:only-of-type {\n",
       "        vertical-align: middle;\n",
       "    }\n",
       "\n",
       "    .dataframe tbody tr th {\n",
       "        vertical-align: top;\n",
       "    }\n",
       "\n",
       "    .dataframe thead th {\n",
       "        text-align: right;\n",
       "    }\n",
       "</style>\n",
       "<table border=\"1\" class=\"dataframe\">\n",
       "  <thead>\n",
       "    <tr style=\"text-align: right;\">\n",
       "      <th></th>\n",
       "      <th>Actor Nominations</th>\n",
       "    </tr>\n",
       "  </thead>\n",
       "  <tbody>\n",
       "    <tr>\n",
       "      <th>Atlanta</th>\n",
       "      <td>2</td>\n",
       "    </tr>\n",
       "    <tr>\n",
       "      <th>Baskets</th>\n",
       "      <td>4</td>\n",
       "    </tr>\n",
       "    <tr>\n",
       "      <th>black-ish</th>\n",
       "      <td>5</td>\n",
       "    </tr>\n",
       "    <tr>\n",
       "      <th>Master Of None</th>\n",
       "      <td>3</td>\n",
       "    </tr>\n",
       "    <tr>\n",
       "      <th>Shameless</th>\n",
       "      <td>2</td>\n",
       "    </tr>\n",
       "  </tbody>\n",
       "</table>\n",
       "</div>"
      ],
      "text/plain": [
       "                Actor Nominations\n",
       "Atlanta                         2\n",
       "Baskets                         4\n",
       "black-ish                       5\n",
       "Master Of None                  3\n",
       "Shameless                       2"
      ]
     },
     "execution_count": 79,
     "metadata": {},
     "output_type": "execute_result"
    }
   ],
   "source": [
    "df2017_1 = pd.DataFrame.from_dict(shows_actor_noms2017, 'index')\n",
    "df2017_1.columns = ['Actor Nominations']\n",
    "df2017_1.head()"
   ]
  },
  {
   "cell_type": "code",
   "execution_count": 80,
   "metadata": {},
   "outputs": [],
   "source": [
    "joined_df_2017 = df2017.join(df2017_1, how = 'outer')"
   ]
  },
  {
   "cell_type": "code",
   "execution_count": 81,
   "metadata": {},
   "outputs": [],
   "source": [
    "joined_df_2017['Award Year'] = '2017'"
   ]
  },
  {
   "cell_type": "code",
   "execution_count": 82,
   "metadata": {},
   "outputs": [],
   "source": [
    "network = soup3.findAll('div', class_ = 'upper show-network mb-1')"
   ]
  },
  {
   "cell_type": "code",
   "execution_count": 83,
   "metadata": {},
   "outputs": [],
   "source": [
    "network2 = soup4.findAll('div', class_ = 'upper show-network mb-1')"
   ]
  },
  {
   "cell_type": "code",
   "execution_count": 84,
   "metadata": {},
   "outputs": [],
   "source": [
    "network3 = soup5.findAll('div', class_ = 'upper show-network mb-1')"
   ]
  },
  {
   "cell_type": "code",
   "execution_count": 85,
   "metadata": {},
   "outputs": [],
   "source": [
    "networks = []\n",
    "for tag in network:\n",
    "    networks.append(tag.text.strip())"
   ]
  },
  {
   "cell_type": "code",
   "execution_count": 86,
   "metadata": {},
   "outputs": [],
   "source": [
    "for tag in network2:\n",
    "    networks.append(tag.text.strip())"
   ]
  },
  {
   "cell_type": "code",
   "execution_count": 87,
   "metadata": {},
   "outputs": [],
   "source": [
    "for tag in network3[:-5]:\n",
    "    networks.append(tag.text.strip())\n",
    "#networks"
   ]
  },
  {
   "cell_type": "code",
   "execution_count": 88,
   "metadata": {},
   "outputs": [],
   "source": [
    "network2019 = soup2019.findAll('div', class_ = 'upper show-network mb-1')\n",
    "network2019_1 = soup2019_1.findAll('div', class_ = 'upper show-network mb-1')\n",
    "network2019_2 = soup2019_2.findAll('div', class_ = 'upper show-network mb-1')"
   ]
  },
  {
   "cell_type": "code",
   "execution_count": 89,
   "metadata": {},
   "outputs": [],
   "source": [
    "for tag in network2019:\n",
    "    networks.append(tag.text.strip())\n",
    "\n",
    "for tag in network2019_1:\n",
    "    networks.append(tag.text.strip())"
   ]
  },
  {
   "cell_type": "code",
   "execution_count": 90,
   "metadata": {},
   "outputs": [],
   "source": [
    "network2018 = soup2018.findAll('div', class_ = 'upper show-network mb-1')\n",
    "network2018_1 = soup2018_1.findAll('div', class_ = 'upper show-network mb-1')"
   ]
  },
  {
   "cell_type": "code",
   "execution_count": 91,
   "metadata": {},
   "outputs": [],
   "source": [
    "for tag in network2018:\n",
    "    networks.append(tag.text.strip())\n",
    "\n",
    "for tag in network2018_1:\n",
    "    networks.append(tag.text.strip())"
   ]
  },
  {
   "cell_type": "code",
   "execution_count": 92,
   "metadata": {},
   "outputs": [],
   "source": [
    "network2017 = soup2017.findAll('div', class_ = 'upper show-network mb-1')\n",
    "network2017_1 = soup2017_1.findAll('div', class_ = 'upper show-network mb-1')"
   ]
  },
  {
   "cell_type": "code",
   "execution_count": 93,
   "metadata": {},
   "outputs": [],
   "source": [
    "for tag in network2017:\n",
    "    networks.append(tag.text.strip())\n",
    "\n",
    "for tag in network2017_1:\n",
    "    networks.append(tag.text.strip())"
   ]
  },
  {
   "cell_type": "code",
   "execution_count": 94,
   "metadata": {},
   "outputs": [],
   "source": [
    "all_nominated_shows = nominated_shows + shows2019 + shows2018 + shows2017"
   ]
  },
  {
   "cell_type": "code",
   "execution_count": 95,
   "metadata": {},
   "outputs": [
    {
     "name": "stdout",
     "output_type": "stream",
     "text": [
      "112\n",
      "112\n"
     ]
    }
   ],
   "source": [
    "print(len(all_nominated_shows))\n",
    "print(len(networks))"
   ]
  },
  {
   "cell_type": "code",
   "execution_count": 96,
   "metadata": {},
   "outputs": [
    {
     "data": {
      "text/html": [
       "<div>\n",
       "<style scoped>\n",
       "    .dataframe tbody tr th:only-of-type {\n",
       "        vertical-align: middle;\n",
       "    }\n",
       "\n",
       "    .dataframe tbody tr th {\n",
       "        vertical-align: top;\n",
       "    }\n",
       "\n",
       "    .dataframe thead th {\n",
       "        text-align: right;\n",
       "    }\n",
       "</style>\n",
       "<table border=\"1\" class=\"dataframe\">\n",
       "  <thead>\n",
       "    <tr style=\"text-align: right;\">\n",
       "      <th></th>\n",
       "      <th>Network</th>\n",
       "    </tr>\n",
       "  </thead>\n",
       "  <tbody>\n",
       "    <tr>\n",
       "      <th>Curb Your Enthusiasm</th>\n",
       "      <td>HBO</td>\n",
       "    </tr>\n",
       "    <tr>\n",
       "      <th>Dead To Me</th>\n",
       "      <td>Netflix</td>\n",
       "    </tr>\n",
       "    <tr>\n",
       "      <th>Insecure</th>\n",
       "      <td>HBO</td>\n",
       "    </tr>\n",
       "    <tr>\n",
       "      <th>Schitt's Creek</th>\n",
       "      <td>Pop TV</td>\n",
       "    </tr>\n",
       "    <tr>\n",
       "      <th>The Good Place</th>\n",
       "      <td>NBC</td>\n",
       "    </tr>\n",
       "  </tbody>\n",
       "</table>\n",
       "</div>"
      ],
      "text/plain": [
       "                      Network\n",
       "Curb Your Enthusiasm      HBO\n",
       "Dead To Me            Netflix\n",
       "Insecure                  HBO\n",
       "Schitt's Creek         Pop TV\n",
       "The Good Place            NBC"
      ]
     },
     "execution_count": 96,
     "metadata": {},
     "output_type": "execute_result"
    }
   ],
   "source": [
    "network_shows = dict(zip(all_nominated_shows, networks))\n",
    "network_df = pd.DataFrame.from_dict(network_shows,'index')\n",
    "network_df.columns = ['Network']\n",
    "network_df.head()"
   ]
  },
  {
   "cell_type": "code",
   "execution_count": 97,
   "metadata": {},
   "outputs": [],
   "source": [
    "all_dfs = [joined_df, joined_df_2019, joined_df_2018, joined_df_2017]\n",
    "combined_df = pd.concat(all_dfs)"
   ]
  },
  {
   "cell_type": "code",
   "execution_count": 98,
   "metadata": {
    "scrolled": false
   },
   "outputs": [
    {
     "data": {
      "text/html": [
       "<div>\n",
       "<style scoped>\n",
       "    .dataframe tbody tr th:only-of-type {\n",
       "        vertical-align: middle;\n",
       "    }\n",
       "\n",
       "    .dataframe tbody tr th {\n",
       "        vertical-align: top;\n",
       "    }\n",
       "\n",
       "    .dataframe thead th {\n",
       "        text-align: right;\n",
       "    }\n",
       "</style>\n",
       "<table border=\"1\" class=\"dataframe\">\n",
       "  <thead>\n",
       "    <tr style=\"text-align: right;\">\n",
       "      <th></th>\n",
       "      <th>Nominations</th>\n",
       "      <th>Actor Nominations</th>\n",
       "      <th>Award Year</th>\n",
       "      <th>Network</th>\n",
       "    </tr>\n",
       "  </thead>\n",
       "  <tbody>\n",
       "    <tr>\n",
       "      <th>A Black Lady Sketch Show</th>\n",
       "      <td>0</td>\n",
       "      <td>1</td>\n",
       "      <td>2020</td>\n",
       "      <td>0</td>\n",
       "    </tr>\n",
       "    <tr>\n",
       "      <th>Atlanta</th>\n",
       "      <td>5</td>\n",
       "      <td>4</td>\n",
       "      <td>2018</td>\n",
       "      <td>FX Networks</td>\n",
       "    </tr>\n",
       "    <tr>\n",
       "      <th>Atlanta</th>\n",
       "      <td>4</td>\n",
       "      <td>2</td>\n",
       "      <td>2017</td>\n",
       "      <td>FX Networks</td>\n",
       "    </tr>\n",
       "    <tr>\n",
       "      <th>Barry</th>\n",
       "      <td>4</td>\n",
       "      <td>5</td>\n",
       "      <td>2019</td>\n",
       "      <td>HBO</td>\n",
       "    </tr>\n",
       "    <tr>\n",
       "      <th>Barry</th>\n",
       "      <td>4</td>\n",
       "      <td>2</td>\n",
       "      <td>2018</td>\n",
       "      <td>HBO</td>\n",
       "    </tr>\n",
       "    <tr>\n",
       "      <th>...</th>\n",
       "      <td>...</td>\n",
       "      <td>...</td>\n",
       "      <td>...</td>\n",
       "      <td>...</td>\n",
       "    </tr>\n",
       "    <tr>\n",
       "      <th>Will &amp; Grace</th>\n",
       "      <td>0</td>\n",
       "      <td>2</td>\n",
       "      <td>2018</td>\n",
       "      <td>NBC</td>\n",
       "    </tr>\n",
       "    <tr>\n",
       "      <th>black-ish</th>\n",
       "      <td>0</td>\n",
       "      <td>2</td>\n",
       "      <td>2020</td>\n",
       "      <td>ABC</td>\n",
       "    </tr>\n",
       "    <tr>\n",
       "      <th>black-ish</th>\n",
       "      <td>0</td>\n",
       "      <td>1</td>\n",
       "      <td>2019</td>\n",
       "      <td>ABC</td>\n",
       "    </tr>\n",
       "    <tr>\n",
       "      <th>black-ish</th>\n",
       "      <td>1</td>\n",
       "      <td>3</td>\n",
       "      <td>2018</td>\n",
       "      <td>ABC</td>\n",
       "    </tr>\n",
       "    <tr>\n",
       "      <th>black-ish</th>\n",
       "      <td>1</td>\n",
       "      <td>5</td>\n",
       "      <td>2017</td>\n",
       "      <td>ABC</td>\n",
       "    </tr>\n",
       "  </tbody>\n",
       "</table>\n",
       "<p>121 rows × 4 columns</p>\n",
       "</div>"
      ],
      "text/plain": [
       "                          Nominations  Actor Nominations Award Year  \\\n",
       "A Black Lady Sketch Show            0                  1       2020   \n",
       "Atlanta                             5                  4       2018   \n",
       "Atlanta                             4                  2       2017   \n",
       "Barry                               4                  5       2019   \n",
       "Barry                               4                  2       2018   \n",
       "...                               ...                ...        ...   \n",
       "Will & Grace                        0                  2       2018   \n",
       "black-ish                           0                  2       2020   \n",
       "black-ish                           0                  1       2019   \n",
       "black-ish                           1                  3       2018   \n",
       "black-ish                           1                  5       2017   \n",
       "\n",
       "                              Network  \n",
       "A Black Lady Sketch Show            0  \n",
       "Atlanta                   FX Networks  \n",
       "Atlanta                   FX Networks  \n",
       "Barry                             HBO  \n",
       "Barry                             HBO  \n",
       "...                               ...  \n",
       "Will & Grace                      NBC  \n",
       "black-ish                         ABC  \n",
       "black-ish                         ABC  \n",
       "black-ish                         ABC  \n",
       "black-ish                         ABC  \n",
       "\n",
       "[121 rows x 4 columns]"
      ]
     },
     "execution_count": 98,
     "metadata": {},
     "output_type": "execute_result"
    }
   ],
   "source": [
    "awards_df = combined_df.join(network_df, how = 'left')\n",
    "awards_df.fillna(0,inplace=True)\n",
    "awards_df"
   ]
  },
  {
   "cell_type": "code",
   "execution_count": 99,
   "metadata": {},
   "outputs": [],
   "source": [
    "url_netflix = 'https://www.the-numbers.com/home-market/netflix-daily-chart/2020/06/01'\n",
    "response_ntflx = requests.get(url_netflix)\n",
    "soup = BeautifulSoup(response_ntflx.content, 'html.parser')\n",
    "\n",
    "z = soup.find_all('td')"
   ]
  },
  {
   "cell_type": "code",
   "execution_count": 100,
   "metadata": {
    "scrolled": false
   },
   "outputs": [
    {
     "data": {
      "text/plain": [
       "[<td class=\"previous\"><a href=\"/home-market/netflix-daily-chart/2020/05/31\">← Previous Chart</a></td>,\n",
       " <td class=\"index\"><a href=\"/home-market/netflix-chart-archive\">Chart Index</a></td>,\n",
       " <td class=\"next\"><a href=\"/home-market/netflix-daily-chart/2020/06/02\">Next Chart →</a></td>,\n",
       " <td class=\"data\" data-sort=\"1\">1</td>,\n",
       " <td class=\"data\" data-sort=\"1\">(1)</td>,\n",
       " <td class=\"data\" data-sort=\"999\">(-)</td>,\n",
       " <td><b><a href=\"/tv-show/Space-Force#tab=netflix\">Space Force</a></b></td>,\n",
       " <td>TV Show</td>,\n",
       " <td class=\"data\">Yes</td>,\n",
       " <td><a href=\"/home-market/netflix-daily-chart/2020/05/29\">May 29, 2020</a></td>,\n",
       " <td class=\"data\">3</td>,\n",
       " <td class=\"data\">30</td>,\n",
       " <td><a href=\"https://www.netflix.com/title/81021929\" rel=\"nofollow\" target=\"_NewWindow\">Watch Now</a></td>,\n",
       " <td class=\"data\" data-sort=\"2\">2</td>,\n",
       " <td class=\"data\" data-sort=\"2\">(2)</td>,\n",
       " <td class=\"data\" data-sort=\"999\">(-)</td>,\n",
       " <td><b><a href=\"/tv-show/Jeffrey-Epstein-Filthy-Rich#tab=netflix\">Jeffrey Epstein: Filthy Rich</a></b></td>,\n",
       " <td>TV Show</td>,\n",
       " <td class=\"data\">Yes</td>,\n",
       " <td><a href=\"/home-market/netflix-daily-chart/2020/05/27\">May 27, 2020</a></td>,\n",
       " <td class=\"data\">5</td>,\n",
       " <td class=\"data\">47</td>,\n",
       " <td><a href=\"https://www.netflix.com/title/80224905\" rel=\"nofollow\" target=\"_NewWindow\">Watch Now</a></td>,\n",
       " <td class=\"data chart_up\" data-sort=\"3\"><b>3</b></td>,\n",
       " <td class=\"data\" data-sort=\"4\">(4)</td>,\n",
       " <td class=\"data\" data-sort=\"1\">(1)</td>,\n",
       " <td><b><a href=\"/tv-show/Sweet-Magnolias#tab=netflix\">Sweet Magnolias</a></b></td>,\n",
       " <td>TV Show</td>,\n",
       " <td class=\"data\">Yes</td>,\n",
       " <td><a href=\"/home-market/netflix-daily-chart/2020/05/19\">May 19, 2020</a></td>,\n",
       " <td class=\"data\">13</td>,\n",
       " <td class=\"data\">110</td>,\n",
       " <td><a href=\"https://www.netflix.com/title/80239866\" rel=\"nofollow\" target=\"_NewWindow\">Watch Now</a></td>,\n",
       " <td class=\"data chart_down\" data-sort=\"4\">4</td>,\n",
       " <td class=\"data\" data-sort=\"3\">(3)</td>,\n",
       " <td class=\"data\" data-sort=\"999\">(-)</td>,\n",
       " <td><b><a href=\"/movie/Uncut-Gems#tab=video-sales\">Uncut Gems</a></b></td>,\n",
       " <td>Movie</td>,\n",
       " <td></td>,\n",
       " <td></td>,\n",
       " <td class=\"data\">7</td>,\n",
       " <td class=\"data\">59</td>,\n",
       " <td></td>,\n",
       " <td class=\"data\" data-sort=\"5\">5</td>,\n",
       " <td class=\"data\" data-sort=\"5\">(5)</td>,\n",
       " <td class=\"data\" data-sort=\"2\">(2)</td>,\n",
       " <td><b><a href=\"/tv-show/Avatar-the-Last-Airbender#tab=netflix\">Avatar the Last Airbender</a></b></td>,\n",
       " <td>TV Show</td>,\n",
       " <td></td>,\n",
       " <td></td>,\n",
       " <td class=\"data\">14</td>,\n",
       " <td class=\"data\">117</td>,\n",
       " <td><a href=\"https://www.netflix.com/title/80237957\" rel=\"nofollow\" target=\"_NewWindow\">Watch Now</a></td>,\n",
       " <td class=\"data\" data-sort=\"6\">6</td>,\n",
       " <td class=\"data\" data-sort=\"6\">(6)</td>,\n",
       " <td class=\"data\" data-sort=\"6\">(6)</td>,\n",
       " <td><b><a href=\"/tv-show/Dead-to-Me#tab=netflix\">Dead to Me</a></b></td>,\n",
       " <td>TV Show</td>,\n",
       " <td class=\"data\">Yes</td>,\n",
       " <td><a href=\"/home-market/netflix-daily-chart/2020/05/08\">May 8, 2020</a></td>,\n",
       " <td class=\"data\">24</td>,\n",
       " <td class=\"data\">175</td>,\n",
       " <td><a href=\"https://www.netflix.com/title/80219707\" rel=\"nofollow\" target=\"_NewWindow\">Watch Now</a></td>,\n",
       " <td class=\"data chart_up\" data-sort=\"7\"><b>7</b></td>,\n",
       " <td class=\"data\" data-sort=\"8\">(8)</td>,\n",
       " <td class=\"data\" data-sort=\"9\">(9)</td>,\n",
       " <td><b><a href=\"/tv-show/Riverdale#tab=netflix\">Riverdale</a></b></td>,\n",
       " <td>TV Show</td>,\n",
       " <td></td>,\n",
       " <td></td>,\n",
       " <td class=\"data\">18</td>,\n",
       " <td class=\"data\">103</td>,\n",
       " <td><a href=\"https://www.netflix.com/title/80133311\" rel=\"nofollow\" target=\"_NewWindow\">Watch Now</a></td>,\n",
       " <td class=\"data chart_down\" data-sort=\"8\">8</td>,\n",
       " <td class=\"data\" data-sort=\"7\">(7)</td>,\n",
       " <td class=\"data\" data-sort=\"5\">(5)</td>,\n",
       " <td><b><a href=\"/movie/Just-Go-With-It#tab=video-sales\">Just Go With It</a></b></td>,\n",
       " <td>Movie</td>,\n",
       " <td></td>,\n",
       " <td></td>,\n",
       " <td class=\"data\">10</td>,\n",
       " <td class=\"data\">38</td>,\n",
       " <td></td>,\n",
       " <td class=\"data chart_up\" data-sort=\"9\"><b>9</b></td>,\n",
       " <td class=\"data\" data-sort=\"10\">(10)</td>,\n",
       " <td class=\"data\" data-sort=\"8\">(8)</td>,\n",
       " <td><b><a href=\"/tv-show/History-101#tab=netflix\">History 101</a></b></td>,\n",
       " <td>TV Show</td>,\n",
       " <td class=\"data\">Yes</td>,\n",
       " <td><a href=\"/home-market/netflix-daily-chart/2020/05/22\">May 22, 2020</a></td>,\n",
       " <td class=\"data\">8</td>,\n",
       " <td class=\"data\">28</td>,\n",
       " <td><a href=\"https://www.netflix.com/title/81116168\" rel=\"nofollow\" target=\"_NewWindow\">Watch Now</a></td>,\n",
       " <td class=\"data chart_down\" data-sort=\"10\">10</td>,\n",
       " <td class=\"data\" data-sort=\"9\">(9)</td>,\n",
       " <td class=\"data\" data-sort=\"7\">(7)</td>,\n",
       " <td><b><a href=\"/tv-show/Flash-The#tab=netflix\">The Flash</a></b></td>,\n",
       " <td>TV Show</td>,\n",
       " <td></td>,\n",
       " <td></td>,\n",
       " <td class=\"data\">12</td>,\n",
       " <td class=\"data\">36</td>,\n",
       " <td><a href=\"https://www.netflix.com/title/80027042\" rel=\"nofollow\" target=\"_NewWindow\">Watch Now</a></td>]"
      ]
     },
     "execution_count": 100,
     "metadata": {},
     "output_type": "execute_result"
    }
   ],
   "source": [
    "z"
   ]
  },
  {
   "cell_type": "code",
   "execution_count": 101,
   "metadata": {},
   "outputs": [],
   "source": [
    "title1 = []\n",
    "types1 = []\n",
    "days1 = []\n",
    "scores1 = []\n",
    "\n",
    "for i in range(1,30):\n",
    "    url_netflix = 'https://www.the-numbers.com/home-market/netflix-daily-chart/2020/06/{}'.format(i)\n",
    "    response_ntflx = requests.get(url_netflix)\n",
    "    soup = BeautifulSoup(response_ntflx.content, 'html.parser')\n",
    "    \n",
    "    z = soup.find_all('td')\n",
    "    \n",
    "    z.pop(0)\n",
    "    z.pop(0)\n",
    "    z.pop(0)\n",
    "    \n",
    "    # TITLE - FIRST INSTANCE\n",
    "    title = z[3::10]\n",
    "    \n",
    "    for titl in title:\n",
    "        title1.append(titl.text)\n",
    "    \n",
    "    # TYPE - FIRST INSTANCE\n",
    "    types = z[4::10]\n",
    "    \n",
    "    for typ in types:\n",
    "        types1.append(typ.text)\n",
    "    \n",
    "    days = z[7::10]\n",
    "    \n",
    "    for day in days: \n",
    "        days1.append(day.text)\n",
    "        \n",
    "    scores = z[8::10]\n",
    "    \n",
    "    for score in scores:\n",
    "        scores1.append(score.text)"
   ]
  },
  {
   "cell_type": "code",
   "execution_count": 102,
   "metadata": {},
   "outputs": [],
   "source": [
    "for i in range(1,31):\n",
    "    url_netflix = 'https://www.the-numbers.com/home-market/netflix-daily-chart/2020/07/{}'.format(i)\n",
    "    response_ntflx = requests.get(url_netflix)\n",
    "    soup = BeautifulSoup(response_ntflx.content, 'html.parser')\n",
    "    \n",
    "    z = soup.find_all('td')\n",
    "\n",
    "    z.pop(0)\n",
    "    z.pop(0)\n",
    "    z.pop(0)\n",
    "    \n",
    "    # TITLE - FIRST INSTANCE\n",
    "    title = (z[3::10])\n",
    "    \n",
    "    for titl in title:\n",
    "        title1.append(titl.text)\n",
    "    \n",
    "    # TYPE - FIRST INSTANCE\n",
    "    types = (z[4::10])\n",
    "    \n",
    "    for typ in types:\n",
    "        types1.append(typ.text)\n",
    "    \n",
    "    days = z[7::10]\n",
    "    \n",
    "    for day in days: \n",
    "        days1.append(day.text)\n",
    "        \n",
    "    scores = z[8::10]\n",
    "    \n",
    "    for score in scores:\n",
    "        scores1.append(score.text)"
   ]
  },
  {
   "cell_type": "code",
   "execution_count": 103,
   "metadata": {
    "scrolled": true
   },
   "outputs": [],
   "source": [
    "for i in range(1,31):\n",
    "    url_netflix = 'https://www.the-numbers.com/home-market/netflix-daily-chart/2020/08/{}'.format(i)\n",
    "    response_ntflx = requests.get(url_netflix)\n",
    "    soup = BeautifulSoup(response_ntflx.content, 'html.parser')\n",
    "    \n",
    "\n",
    "    z = soup.find_all('td')\n",
    "\n",
    "    \n",
    "    try:\n",
    "        z.pop(0) \n",
    "    except IndexError:\n",
    "        continue \n",
    "    z.pop(0)\n",
    "    z.pop(0)\n",
    "    \n",
    "    # TITLE - FIRST INSTANCE\n",
    "    title = (z[3::10])\n",
    "    \n",
    "    for titl in title:\n",
    "         title1.append(titl.text)\n",
    "    \n",
    "    # TYPE - FIRST INSTANCE\n",
    "    types = (z[4::10])\n",
    "    \n",
    "    for typ in types:\n",
    "         types1.append(typ.text)\n",
    "    \n",
    "    days = z[7::10]\n",
    "    \n",
    "    for day in days: \n",
    "        days1.append(day.text)\n",
    "        \n",
    "    scores = z[8::10]\n",
    "    \n",
    "    for score in scores:\n",
    "        scores1.append(score.text)"
   ]
  },
  {
   "cell_type": "code",
   "execution_count": 104,
   "metadata": {},
   "outputs": [],
   "source": [
    "for i in range(1,30):\n",
    "    url_netflix = 'https://www.the-numbers.com/home-market/netflix-daily-chart/2020/09/{}'.format(i)\n",
    "    response_ntflx = requests.get(url_netflix)\n",
    "    soup = BeautifulSoup(response_ntflx.content, 'html.parser')\n",
    "    \n",
    "    z = soup.find_all('td')\n",
    "    \n",
    "    z.pop(0)\n",
    "    z.pop(0)\n",
    "    z.pop(0)\n",
    "    \n",
    "    # TITLE - FIRST INSTANCE\n",
    "    title = (z[3::10])\n",
    "    \n",
    "    for titl in title:\n",
    "        title1.append(titl.text)\n",
    "    \n",
    "    # TYPE - FIRST INSTANCE\n",
    "    types = (z[4::10])\n",
    "    \n",
    "    for typ in types:\n",
    "        types1.append(typ.text)\n",
    "    \n",
    "    days = z[7::10]\n",
    "    \n",
    "    for day in days: \n",
    "        days1.append(day.text)\n",
    "        \n",
    "    scores = z[8::10]\n",
    "    \n",
    "    for score in scores:\n",
    "        scores1.append(score.text)"
   ]
  },
  {
   "cell_type": "code",
   "execution_count": 105,
   "metadata": {},
   "outputs": [
    {
     "data": {
      "text/plain": [
       "<generator object <genexpr> at 0x0000017A31BEC518>"
      ]
     },
     "execution_count": 105,
     "metadata": {},
     "output_type": "execute_result"
    }
   ],
   "source": [
    "show_count = ((x, title1.count(x)) for x in title1)\n",
    "show_count"
   ]
  },
  {
   "cell_type": "code",
   "execution_count": 106,
   "metadata": {},
   "outputs": [],
   "source": [
    "top_ten_data = dict(zip(title1, zip(types1, days1)))\n"
   ]
  },
  {
   "cell_type": "code",
   "execution_count": 107,
   "metadata": {
    "scrolled": true
   },
   "outputs": [
    {
     "name": "stdout",
     "output_type": "stream",
     "text": [
      "1148\n",
      "1148\n",
      "1148\n",
      "1148\n"
     ]
    }
   ],
   "source": [
    "print(len(title1))\n",
    "print(len(types1))\n",
    "print(len(days1))\n",
    "print(len(scores1))"
   ]
  },
  {
   "cell_type": "code",
   "execution_count": 108,
   "metadata": {},
   "outputs": [
    {
     "data": {
      "text/html": [
       "<div>\n",
       "<style scoped>\n",
       "    .dataframe tbody tr th:only-of-type {\n",
       "        vertical-align: middle;\n",
       "    }\n",
       "\n",
       "    .dataframe tbody tr th {\n",
       "        vertical-align: top;\n",
       "    }\n",
       "\n",
       "    .dataframe thead th {\n",
       "        text-align: right;\n",
       "    }\n",
       "</style>\n",
       "<table border=\"1\" class=\"dataframe\">\n",
       "  <thead>\n",
       "    <tr style=\"text-align: right;\">\n",
       "      <th></th>\n",
       "      <th>Title</th>\n",
       "    </tr>\n",
       "  </thead>\n",
       "  <tbody>\n",
       "    <tr>\n",
       "      <th>0</th>\n",
       "      <td>Space Force</td>\n",
       "    </tr>\n",
       "    <tr>\n",
       "      <th>1</th>\n",
       "      <td>Jeffrey Epstein: Filthy Rich</td>\n",
       "    </tr>\n",
       "    <tr>\n",
       "      <th>2</th>\n",
       "      <td>Sweet Magnolias</td>\n",
       "    </tr>\n",
       "    <tr>\n",
       "      <th>3</th>\n",
       "      <td>Uncut Gems</td>\n",
       "    </tr>\n",
       "    <tr>\n",
       "      <th>4</th>\n",
       "      <td>Avatar the Last Airbender</td>\n",
       "    </tr>\n",
       "    <tr>\n",
       "      <th>...</th>\n",
       "      <td>...</td>\n",
       "    </tr>\n",
       "    <tr>\n",
       "      <th>1143</th>\n",
       "      <td>Jurassic World: Camp Cretac…</td>\n",
       "    </tr>\n",
       "    <tr>\n",
       "      <th>1144</th>\n",
       "      <td>Sneakerheads</td>\n",
       "    </tr>\n",
       "    <tr>\n",
       "      <th>1145</th>\n",
       "      <td>Cocomelon</td>\n",
       "    </tr>\n",
       "    <tr>\n",
       "      <th>1146</th>\n",
       "      <td>Cobra Kai</td>\n",
       "    </tr>\n",
       "    <tr>\n",
       "      <th>1147</th>\n",
       "      <td>The Blacklist</td>\n",
       "    </tr>\n",
       "  </tbody>\n",
       "</table>\n",
       "<p>1148 rows × 1 columns</p>\n",
       "</div>"
      ],
      "text/plain": [
       "                             Title\n",
       "0                      Space Force\n",
       "1     Jeffrey Epstein: Filthy Rich\n",
       "2                  Sweet Magnolias\n",
       "3                       Uncut Gems\n",
       "4        Avatar the Last Airbender\n",
       "...                            ...\n",
       "1143  Jurassic World: Camp Cretac…\n",
       "1144                  Sneakerheads\n",
       "1145                     Cocomelon\n",
       "1146                     Cobra Kai\n",
       "1147                 The Blacklist\n",
       "\n",
       "[1148 rows x 1 columns]"
      ]
     },
     "execution_count": 108,
     "metadata": {},
     "output_type": "execute_result"
    }
   ],
   "source": [
    "top_ten = pd.DataFrame(title1)\n",
    "top_ten.columns = ['Title']\n",
    "top_ten"
   ]
  },
  {
   "cell_type": "code",
   "execution_count": 109,
   "metadata": {},
   "outputs": [],
   "source": [
    "top_ten['Type'] = types1\n",
    "top_ten['Days in Top 10'] = days1\n",
    "top_ten['Viewership Scores'] = scores1"
   ]
  },
  {
   "cell_type": "code",
   "execution_count": 110,
   "metadata": {},
   "outputs": [
    {
     "data": {
      "text/html": [
       "<div>\n",
       "<style scoped>\n",
       "    .dataframe tbody tr th:only-of-type {\n",
       "        vertical-align: middle;\n",
       "    }\n",
       "\n",
       "    .dataframe tbody tr th {\n",
       "        vertical-align: top;\n",
       "    }\n",
       "\n",
       "    .dataframe thead th {\n",
       "        text-align: right;\n",
       "    }\n",
       "</style>\n",
       "<table border=\"1\" class=\"dataframe\">\n",
       "  <thead>\n",
       "    <tr style=\"text-align: right;\">\n",
       "      <th></th>\n",
       "      <th>Title</th>\n",
       "      <th>Type</th>\n",
       "      <th>Days in Top 10</th>\n",
       "      <th>Viewership Scores</th>\n",
       "    </tr>\n",
       "  </thead>\n",
       "  <tbody>\n",
       "    <tr>\n",
       "      <th>0</th>\n",
       "      <td>Space Force</td>\n",
       "      <td>TV Show</td>\n",
       "      <td>3</td>\n",
       "      <td>30</td>\n",
       "    </tr>\n",
       "    <tr>\n",
       "      <th>1</th>\n",
       "      <td>Jeffrey Epstein: Filthy Rich</td>\n",
       "      <td>TV Show</td>\n",
       "      <td>5</td>\n",
       "      <td>47</td>\n",
       "    </tr>\n",
       "    <tr>\n",
       "      <th>2</th>\n",
       "      <td>Sweet Magnolias</td>\n",
       "      <td>TV Show</td>\n",
       "      <td>13</td>\n",
       "      <td>110</td>\n",
       "    </tr>\n",
       "    <tr>\n",
       "      <th>3</th>\n",
       "      <td>Uncut Gems</td>\n",
       "      <td>Movie</td>\n",
       "      <td>7</td>\n",
       "      <td>59</td>\n",
       "    </tr>\n",
       "    <tr>\n",
       "      <th>4</th>\n",
       "      <td>Avatar the Last Airbender</td>\n",
       "      <td>TV Show</td>\n",
       "      <td>14</td>\n",
       "      <td>117</td>\n",
       "    </tr>\n",
       "    <tr>\n",
       "      <th>...</th>\n",
       "      <td>...</td>\n",
       "      <td>...</td>\n",
       "      <td>...</td>\n",
       "      <td>...</td>\n",
       "    </tr>\n",
       "    <tr>\n",
       "      <th>1143</th>\n",
       "      <td>Jurassic World: Camp Cretac…</td>\n",
       "      <td>TV Show</td>\n",
       "      <td>11</td>\n",
       "      <td>84</td>\n",
       "    </tr>\n",
       "    <tr>\n",
       "      <th>1144</th>\n",
       "      <td>Sneakerheads</td>\n",
       "      <td>TV Show</td>\n",
       "      <td>3</td>\n",
       "      <td>9</td>\n",
       "    </tr>\n",
       "    <tr>\n",
       "      <th>1145</th>\n",
       "      <td>Cocomelon</td>\n",
       "      <td>TV Show</td>\n",
       "      <td>19</td>\n",
       "      <td>43</td>\n",
       "    </tr>\n",
       "    <tr>\n",
       "      <th>1146</th>\n",
       "      <td>Cobra Kai</td>\n",
       "      <td>TV Show</td>\n",
       "      <td>31</td>\n",
       "      <td>216</td>\n",
       "    </tr>\n",
       "    <tr>\n",
       "      <th>1147</th>\n",
       "      <td>The Blacklist</td>\n",
       "      <td>TV Show</td>\n",
       "      <td>7</td>\n",
       "      <td>22</td>\n",
       "    </tr>\n",
       "  </tbody>\n",
       "</table>\n",
       "<p>1148 rows × 4 columns</p>\n",
       "</div>"
      ],
      "text/plain": [
       "                             Title     Type Days in Top 10 Viewership Scores\n",
       "0                      Space Force  TV Show              3                30\n",
       "1     Jeffrey Epstein: Filthy Rich  TV Show              5                47\n",
       "2                  Sweet Magnolias  TV Show             13               110\n",
       "3                       Uncut Gems    Movie              7                59\n",
       "4        Avatar the Last Airbender  TV Show             14               117\n",
       "...                            ...      ...            ...               ...\n",
       "1143  Jurassic World: Camp Cretac…  TV Show             11                84\n",
       "1144                  Sneakerheads  TV Show              3                 9\n",
       "1145                     Cocomelon  TV Show             19                43\n",
       "1146                     Cobra Kai  TV Show             31               216\n",
       "1147                 The Blacklist  TV Show              7                22\n",
       "\n",
       "[1148 rows x 4 columns]"
      ]
     },
     "execution_count": 110,
     "metadata": {},
     "output_type": "execute_result"
    }
   ],
   "source": [
    "top_ten"
   ]
  },
  {
   "cell_type": "markdown",
   "metadata": {},
   "source": [
    "# CLEANING DATA"
   ]
  },
  {
   "cell_type": "code",
   "execution_count": 111,
   "metadata": {},
   "outputs": [
    {
     "data": {
      "text/plain": [
       "{'TV Show': 703, 'Movie': 440, 'Stand-Up Comedy': 5}"
      ]
     },
     "execution_count": 111,
     "metadata": {},
     "output_type": "execute_result"
    }
   ],
   "source": [
    "# Count of each type\n",
    "type_count = dict((x, types1.count(x)) for x in types1)\n",
    "type_count"
   ]
  },
  {
   "cell_type": "code",
   "execution_count": 112,
   "metadata": {},
   "outputs": [
    {
     "name": "stdout",
     "output_type": "stream",
     "text": [
      "<class 'pandas.core.frame.DataFrame'>\n",
      "RangeIndex: 1148 entries, 0 to 1147\n",
      "Data columns (total 4 columns):\n",
      "Title                1148 non-null object\n",
      "Type                 1148 non-null object\n",
      "Days in Top 10       1148 non-null object\n",
      "Viewership Scores    1148 non-null object\n",
      "dtypes: object(4)\n",
      "memory usage: 36.0+ KB\n"
     ]
    }
   ],
   "source": [
    "top_ten.info()"
   ]
  },
  {
   "cell_type": "code",
   "execution_count": 113,
   "metadata": {},
   "outputs": [
    {
     "name": "stdout",
     "output_type": "stream",
     "text": [
      "0\n"
     ]
    },
    {
     "data": {
      "text/html": [
       "<div>\n",
       "<style scoped>\n",
       "    .dataframe tbody tr th:only-of-type {\n",
       "        vertical-align: middle;\n",
       "    }\n",
       "\n",
       "    .dataframe tbody tr th {\n",
       "        vertical-align: top;\n",
       "    }\n",
       "\n",
       "    .dataframe thead th {\n",
       "        text-align: right;\n",
       "    }\n",
       "</style>\n",
       "<table border=\"1\" class=\"dataframe\">\n",
       "  <thead>\n",
       "    <tr style=\"text-align: right;\">\n",
       "      <th></th>\n",
       "      <th>Title</th>\n",
       "      <th>Type</th>\n",
       "      <th>Days in Top 10</th>\n",
       "      <th>Viewership Scores</th>\n",
       "    </tr>\n",
       "  </thead>\n",
       "  <tbody>\n",
       "  </tbody>\n",
       "</table>\n",
       "</div>"
      ],
      "text/plain": [
       "Empty DataFrame\n",
       "Columns: [Title, Type, Days in Top 10, Viewership Scores]\n",
       "Index: []"
      ]
     },
     "execution_count": 113,
     "metadata": {},
     "output_type": "execute_result"
    }
   ],
   "source": [
    "# Check for duplicates\n",
    "duplicates = top_ten[top_ten.duplicated()]\n",
    "print(len(duplicates))\n",
    "duplicates.head()"
   ]
  },
  {
   "cell_type": "code",
   "execution_count": 114,
   "metadata": {},
   "outputs": [
    {
     "data": {
      "text/html": [
       "<div>\n",
       "<style scoped>\n",
       "    .dataframe tbody tr th:only-of-type {\n",
       "        vertical-align: middle;\n",
       "    }\n",
       "\n",
       "    .dataframe tbody tr th {\n",
       "        vertical-align: top;\n",
       "    }\n",
       "\n",
       "    .dataframe thead th {\n",
       "        text-align: right;\n",
       "    }\n",
       "</style>\n",
       "<table border=\"1\" class=\"dataframe\">\n",
       "  <thead>\n",
       "    <tr style=\"text-align: right;\">\n",
       "      <th></th>\n",
       "      <th>title</th>\n",
       "      <th>type</th>\n",
       "      <th>days in top 10</th>\n",
       "      <th>viewership scores</th>\n",
       "    </tr>\n",
       "  </thead>\n",
       "  <tbody>\n",
       "    <tr>\n",
       "      <th>0</th>\n",
       "      <td>Space Force</td>\n",
       "      <td>TV Show</td>\n",
       "      <td>3</td>\n",
       "      <td>30</td>\n",
       "    </tr>\n",
       "    <tr>\n",
       "      <th>1</th>\n",
       "      <td>Jeffrey Epstein: Filthy Rich</td>\n",
       "      <td>TV Show</td>\n",
       "      <td>5</td>\n",
       "      <td>47</td>\n",
       "    </tr>\n",
       "    <tr>\n",
       "      <th>2</th>\n",
       "      <td>Sweet Magnolias</td>\n",
       "      <td>TV Show</td>\n",
       "      <td>13</td>\n",
       "      <td>110</td>\n",
       "    </tr>\n",
       "    <tr>\n",
       "      <th>3</th>\n",
       "      <td>Uncut Gems</td>\n",
       "      <td>Movie</td>\n",
       "      <td>7</td>\n",
       "      <td>59</td>\n",
       "    </tr>\n",
       "    <tr>\n",
       "      <th>4</th>\n",
       "      <td>Avatar the Last Airbender</td>\n",
       "      <td>TV Show</td>\n",
       "      <td>14</td>\n",
       "      <td>117</td>\n",
       "    </tr>\n",
       "  </tbody>\n",
       "</table>\n",
       "</div>"
      ],
      "text/plain": [
       "                          title     type days in top 10 viewership scores\n",
       "0                   Space Force  TV Show              3                30\n",
       "1  Jeffrey Epstein: Filthy Rich  TV Show              5                47\n",
       "2               Sweet Magnolias  TV Show             13               110\n",
       "3                    Uncut Gems    Movie              7                59\n",
       "4     Avatar the Last Airbender  TV Show             14               117"
      ]
     },
     "execution_count": 114,
     "metadata": {},
     "output_type": "execute_result"
    }
   ],
   "source": [
    "# lowercase all columns\n",
    "top_ten.columns = map(str.lower, top_ten.columns)\n",
    "top_ten.head()"
   ]
  },
  {
   "cell_type": "code",
   "execution_count": 115,
   "metadata": {},
   "outputs": [],
   "source": [
    "# Rename columns\n",
    "top_ten.rename(columns={'days in top 10': 'days_in_top10'}, inplace=True)\n"
   ]
  },
  {
   "cell_type": "code",
   "execution_count": 116,
   "metadata": {},
   "outputs": [],
   "source": [
    "top_ten.rename(columns={'viewership scores': 'viewership_score'}, inplace=True)"
   ]
  },
  {
   "cell_type": "code",
   "execution_count": 117,
   "metadata": {},
   "outputs": [
    {
     "data": {
      "text/html": [
       "<div>\n",
       "<style scoped>\n",
       "    .dataframe tbody tr th:only-of-type {\n",
       "        vertical-align: middle;\n",
       "    }\n",
       "\n",
       "    .dataframe tbody tr th {\n",
       "        vertical-align: top;\n",
       "    }\n",
       "\n",
       "    .dataframe thead th {\n",
       "        text-align: right;\n",
       "    }\n",
       "</style>\n",
       "<table border=\"1\" class=\"dataframe\">\n",
       "  <thead>\n",
       "    <tr style=\"text-align: right;\">\n",
       "      <th></th>\n",
       "      <th>title</th>\n",
       "      <th>type</th>\n",
       "      <th>days_in_top10</th>\n",
       "      <th>viewership_score</th>\n",
       "    </tr>\n",
       "  </thead>\n",
       "  <tbody>\n",
       "    <tr>\n",
       "      <th>0</th>\n",
       "      <td>Space Force</td>\n",
       "      <td>TV Show</td>\n",
       "      <td>3</td>\n",
       "      <td>30</td>\n",
       "    </tr>\n",
       "    <tr>\n",
       "      <th>1</th>\n",
       "      <td>Jeffrey Epstein: Filthy Rich</td>\n",
       "      <td>TV Show</td>\n",
       "      <td>5</td>\n",
       "      <td>47</td>\n",
       "    </tr>\n",
       "    <tr>\n",
       "      <th>2</th>\n",
       "      <td>Sweet Magnolias</td>\n",
       "      <td>TV Show</td>\n",
       "      <td>13</td>\n",
       "      <td>110</td>\n",
       "    </tr>\n",
       "    <tr>\n",
       "      <th>3</th>\n",
       "      <td>Uncut Gems</td>\n",
       "      <td>Movie</td>\n",
       "      <td>7</td>\n",
       "      <td>59</td>\n",
       "    </tr>\n",
       "    <tr>\n",
       "      <th>4</th>\n",
       "      <td>Avatar the Last Airbender</td>\n",
       "      <td>TV Show</td>\n",
       "      <td>14</td>\n",
       "      <td>117</td>\n",
       "    </tr>\n",
       "  </tbody>\n",
       "</table>\n",
       "</div>"
      ],
      "text/plain": [
       "                          title     type days_in_top10 viewership_score\n",
       "0                   Space Force  TV Show             3               30\n",
       "1  Jeffrey Epstein: Filthy Rich  TV Show             5               47\n",
       "2               Sweet Magnolias  TV Show            13              110\n",
       "3                    Uncut Gems    Movie             7               59\n",
       "4     Avatar the Last Airbender  TV Show            14              117"
      ]
     },
     "execution_count": 117,
     "metadata": {},
     "output_type": "execute_result"
    }
   ],
   "source": [
    "top_ten.head()"
   ]
  },
  {
   "cell_type": "code",
   "execution_count": 118,
   "metadata": {},
   "outputs": [
    {
     "name": "stdout",
     "output_type": "stream",
     "text": [
      "<class 'pandas.core.frame.DataFrame'>\n",
      "RangeIndex: 1148 entries, 0 to 1147\n",
      "Data columns (total 4 columns):\n",
      "title               1148 non-null object\n",
      "type                1148 non-null object\n",
      "days_in_top10       1148 non-null float64\n",
      "viewership_score    1148 non-null float64\n",
      "dtypes: float64(2), object(2)\n",
      "memory usage: 36.0+ KB\n"
     ]
    }
   ],
   "source": [
    "# Convert both columns from object to float\n",
    "top_ten['days_in_top10'] = top_ten['days_in_top10'].astype(float)\n",
    "top_ten['viewership_score'] = top_ten['viewership_score'].astype(float)\n",
    "top_ten.info()"
   ]
  },
  {
   "cell_type": "code",
   "execution_count": 119,
   "metadata": {},
   "outputs": [
    {
     "data": {
      "text/plain": [
       "1     131\n",
       "2     127\n",
       "3     113\n",
       "4     102\n",
       "5      92\n",
       "6      83\n",
       "7      64\n",
       "8      56\n",
       "9      46\n",
       "10     41\n",
       "11     35\n",
       "13     27\n",
       "12     27\n",
       "14     24\n",
       "15     21\n",
       "16     19\n",
       "17     19\n",
       "18     17\n",
       "19     16\n",
       "20     14\n",
       "21     11\n",
       "22      9\n",
       "24      8\n",
       "23      7\n",
       "25      6\n",
       "26      5\n",
       "27      5\n",
       "29      4\n",
       "30      4\n",
       "28      3\n",
       "31      3\n",
       "37      2\n",
       "33      1\n",
       "32      1\n",
       "34      1\n",
       "35      1\n",
       "38      1\n",
       "36      1\n",
       "39      1\n",
       "Name: days_in_top10, dtype: int64"
      ]
     },
     "execution_count": 119,
     "metadata": {},
     "output_type": "execute_result"
    }
   ],
   "source": [
    "# check for outliers and extraneous values\n",
    "top_ten['days_in_top10'].value_counts()"
   ]
  },
  {
   "cell_type": "markdown",
   "metadata": {},
   "source": [
    "# EDA:"
   ]
  },
  {
   "cell_type": "code",
   "execution_count": 120,
   "metadata": {},
   "outputs": [],
   "source": [
    "new_df2 = top_ten.sort_values(by=['days_in_top10'], ascending=False)"
   ]
  },
  {
   "cell_type": "code",
   "execution_count": 121,
   "metadata": {},
   "outputs": [],
   "source": [
    "new_df2.drop_duplicates(subset=['title'], inplace=True)"
   ]
  },
  {
   "cell_type": "code",
   "execution_count": 122,
   "metadata": {},
   "outputs": [],
   "source": [
    "new_df2.to_csv('df2.csv')"
   ]
  },
  {
   "cell_type": "code",
   "execution_count": 123,
   "metadata": {},
   "outputs": [
    {
     "data": {
      "text/html": [
       "<div>\n",
       "<style scoped>\n",
       "    .dataframe tbody tr th:only-of-type {\n",
       "        vertical-align: middle;\n",
       "    }\n",
       "\n",
       "    .dataframe tbody tr th {\n",
       "        vertical-align: top;\n",
       "    }\n",
       "\n",
       "    .dataframe thead th {\n",
       "        text-align: right;\n",
       "    }\n",
       "</style>\n",
       "<table border=\"1\" class=\"dataframe\">\n",
       "  <thead>\n",
       "    <tr style=\"text-align: right;\">\n",
       "      <th></th>\n",
       "      <th>Unnamed: 0</th>\n",
       "      <th>title</th>\n",
       "      <th>type</th>\n",
       "      <th>days_in_top10</th>\n",
       "      <th>viewership_score</th>\n",
       "    </tr>\n",
       "  </thead>\n",
       "  <tbody>\n",
       "    <tr>\n",
       "      <th>0</th>\n",
       "      <td>307</td>\n",
       "      <td>Avatar the Last Airbender</td>\n",
       "      <td>TV Show</td>\n",
       "      <td>39</td>\n",
       "      <td>196</td>\n",
       "    </tr>\n",
       "    <tr>\n",
       "      <th>1</th>\n",
       "      <td>19</td>\n",
       "      <td>Outer Banks</td>\n",
       "      <td>TV Show</td>\n",
       "      <td>37</td>\n",
       "      <td>259</td>\n",
       "    </tr>\n",
       "    <tr>\n",
       "      <th>2</th>\n",
       "      <td>886</td>\n",
       "      <td>The Umbrella Academy</td>\n",
       "      <td>TV Show</td>\n",
       "      <td>31</td>\n",
       "      <td>235</td>\n",
       "    </tr>\n",
       "    <tr>\n",
       "      <th>3</th>\n",
       "      <td>1146</td>\n",
       "      <td>Cobra Kai</td>\n",
       "      <td>TV Show</td>\n",
       "      <td>31</td>\n",
       "      <td>216</td>\n",
       "    </tr>\n",
       "    <tr>\n",
       "      <th>4</th>\n",
       "      <td>477</td>\n",
       "      <td>Jeffrey Epstein: Filthy Rich</td>\n",
       "      <td>TV Show</td>\n",
       "      <td>30</td>\n",
       "      <td>165</td>\n",
       "    </tr>\n",
       "  </tbody>\n",
       "</table>\n",
       "</div>"
      ],
      "text/plain": [
       "   Unnamed: 0                         title     type  days_in_top10  \\\n",
       "0         307     Avatar the Last Airbender  TV Show             39   \n",
       "1          19                   Outer Banks  TV Show             37   \n",
       "2         886          The Umbrella Academy  TV Show             31   \n",
       "3        1146                     Cobra Kai  TV Show             31   \n",
       "4         477  Jeffrey Epstein: Filthy Rich  TV Show             30   \n",
       "\n",
       "   viewership_score  \n",
       "0               196  \n",
       "1               259  \n",
       "2               235  \n",
       "3               216  \n",
       "4               165  "
      ]
     },
     "execution_count": 123,
     "metadata": {},
     "output_type": "execute_result"
    }
   ],
   "source": [
    "df2 = pd.read_csv('df2.csv')\n",
    "df2.head()"
   ]
  },
  {
   "cell_type": "code",
   "execution_count": 124,
   "metadata": {},
   "outputs": [
    {
     "data": {
      "text/plain": [
       "TV Show            80\n",
       "Movie              64\n",
       "Stand-Up Comedy     1\n",
       "Name: type, dtype: int64"
      ]
     },
     "execution_count": 124,
     "metadata": {},
     "output_type": "execute_result"
    }
   ],
   "source": [
    "df2['type'].value_counts()"
   ]
  },
  {
   "cell_type": "markdown",
   "metadata": {},
   "source": [
    "# VISUALIZATIONS"
   ]
  },
  {
   "cell_type": "code",
   "execution_count": 125,
   "metadata": {},
   "outputs": [],
   "source": [
    "import seaborn as sns\n",
    "import matplotlib.pyplot as plt\n",
    "%matplotlib inline"
   ]
  },
  {
   "cell_type": "code",
   "execution_count": 126,
   "metadata": {},
   "outputs": [
    {
     "data": {
      "text/plain": [
       "Text(0, 0.5, 'Count by Type')"
      ]
     },
     "execution_count": 126,
     "metadata": {},
     "output_type": "execute_result"
    },
    {
     "data": {
      "image/png": "[encoded data removed]",
      "text/plain": [
       "<Figure size 432x288 with 1 Axes>"
      ]
     },
     "metadata": {
      "needs_background": "light"
     },
     "output_type": "display_data"
    }
   ],
   "source": [
    "sns.countplot(x=\"type\", data=df2, palette='inferno').set_title(\"Number of TV Show vs. Movies in Top 10\")\n",
    "plt.xlabel('Type')\n",
    "plt.ylabel('Count by Type')"
   ]
  },
  {
   "cell_type": "markdown",
   "metadata": {},
   "source": [
    "# IMPORT 2ND DB"
   ]
  },
  {
   "cell_type": "code",
   "execution_count": 127,
   "metadata": {},
   "outputs": [
    {
     "data": {
      "text/html": [
       "<div>\n",
       "<style scoped>\n",
       "    .dataframe tbody tr th:only-of-type {\n",
       "        vertical-align: middle;\n",
       "    }\n",
       "\n",
       "    .dataframe tbody tr th {\n",
       "        vertical-align: top;\n",
       "    }\n",
       "\n",
       "    .dataframe thead th {\n",
       "        text-align: right;\n",
       "    }\n",
       "</style>\n",
       "<table border=\"1\" class=\"dataframe\">\n",
       "  <thead>\n",
       "    <tr style=\"text-align: right;\">\n",
       "      <th></th>\n",
       "      <th></th>\n",
       "      <th></th>\n",
       "      <th></th>\n",
       "      <th></th>\n",
       "      <th></th>\n",
       "      <th></th>\n",
       "      <th></th>\n",
       "      <th></th>\n",
       "      <th></th>\n",
       "      <th></th>\n",
       "      <th>&lt;&lt;&lt;&lt;&lt;&lt;&lt; HEAD</th>\n",
       "    </tr>\n",
       "  </thead>\n",
       "  <tbody>\n",
       "    <tr>\n",
       "      <th>show_id</th>\n",
       "      <th>type</th>\n",
       "      <th>title</th>\n",
       "      <th>director</th>\n",
       "      <th>cast</th>\n",
       "      <th>country</th>\n",
       "      <th>date_added</th>\n",
       "      <th>release_year</th>\n",
       "      <th>rating</th>\n",
       "      <th>duration</th>\n",
       "      <th>listed_in</th>\n",
       "      <td>description</td>\n",
       "    </tr>\n",
       "    <tr>\n",
       "      <th>81145628</th>\n",
       "      <th>Movie</th>\n",
       "      <th>Norm of the North: King Sized Adventure</th>\n",
       "      <th>Richard Finn, Tim Maltby</th>\n",
       "      <th>Alan Marriott, Andrew Toth, Brian Dobson, Cole Howard, Jennifer Cameron, Jonathan Holmes, Lee Tockar, Lisa Durupt, Maya Kay, Michael Dobson</th>\n",
       "      <th>United States, India, South Korea, China</th>\n",
       "      <th>September 9, 2019</th>\n",
       "      <th>2019</th>\n",
       "      <th>TV-PG</th>\n",
       "      <th>90 min</th>\n",
       "      <th>Children &amp; Family Movies, Comedies</th>\n",
       "      <td>Before planning an awesome wedding for his gra...</td>\n",
       "    </tr>\n",
       "    <tr>\n",
       "      <th>80117401</th>\n",
       "      <th>Movie</th>\n",
       "      <th>Jandino: Whatever it Takes</th>\n",
       "      <th>NaN</th>\n",
       "      <th>Jandino Asporaat</th>\n",
       "      <th>United Kingdom</th>\n",
       "      <th>September 9, 2016</th>\n",
       "      <th>2016</th>\n",
       "      <th>TV-MA</th>\n",
       "      <th>94 min</th>\n",
       "      <th>Stand-Up Comedy</th>\n",
       "      <td>Jandino Asporaat riffs on the challenges of ra...</td>\n",
       "    </tr>\n",
       "    <tr>\n",
       "      <th>70234439</th>\n",
       "      <th>TV Show</th>\n",
       "      <th>Transformers Prime</th>\n",
       "      <th>NaN</th>\n",
       "      <th>Peter Cullen, Sumalee Montano, Frank Welker, Jeffrey Combs, Kevin Michael Richardson, Tania Gunadi, Josh Keaton, Steve Blum, Andy Pessoa, Ernie Hudson, Daran Norris, Will Friedle</th>\n",
       "      <th>United States</th>\n",
       "      <th>September 8, 2018</th>\n",
       "      <th>2013</th>\n",
       "      <th>TV-Y7-FV</th>\n",
       "      <th>1 Season</th>\n",
       "      <th>Kids' TV</th>\n",
       "      <td>With the help of three human allies, the Autob...</td>\n",
       "    </tr>\n",
       "    <tr>\n",
       "      <th>80058654</th>\n",
       "      <th>TV Show</th>\n",
       "      <th>Transformers: Robots in Disguise</th>\n",
       "      <th>NaN</th>\n",
       "      <th>Will Friedle, Darren Criss, Constance Zimmer, Khary Payton, Mitchell Whitfield, Stuart Allan, Ted McGinley, Peter Cullen</th>\n",
       "      <th>United States</th>\n",
       "      <th>September 8, 2018</th>\n",
       "      <th>2016</th>\n",
       "      <th>TV-Y7</th>\n",
       "      <th>1 Season</th>\n",
       "      <th>Kids' TV</th>\n",
       "      <td>When a prison ship crash unleashes hundreds of...</td>\n",
       "    </tr>\n",
       "  </tbody>\n",
       "</table>\n",
       "</div>"
      ],
      "text/plain": [
       "                                                                                                                                                                                                                                                                                                        <<<<<<< HEAD\n",
       "show_id  type    title                                   director                 cast                                               country                                  date_added        release_year rating   duration listed_in                                                                 description\n",
       "81145628 Movie   Norm of the North: King Sized Adventure Richard Finn, Tim Maltby Alan Marriott, Andrew Toth, Brian Dobson, Cole ... United States, India, South Korea, China September 9, 2019 2019         TV-PG    90 min   Children & Family Movies, Comedies  Before planning an awesome wedding for his gra...\n",
       "80117401 Movie   Jandino: Whatever it Takes              NaN                      Jandino Asporaat                                   United Kingdom                           September 9, 2016 2016         TV-MA    94 min   Stand-Up Comedy                     Jandino Asporaat riffs on the challenges of ra...\n",
       "70234439 TV Show Transformers Prime                      NaN                      Peter Cullen, Sumalee Montano, Frank Welker, Je... United States                            September 8, 2018 2013         TV-Y7-FV 1 Season Kids' TV                            With the help of three human allies, the Autob...\n",
       "80058654 TV Show Transformers: Robots in Disguise        NaN                      Will Friedle, Darren Criss, Constance Zimmer, K... United States                            September 8, 2018 2016         TV-Y7    1 Season Kids' TV                            When a prison ship crash unleashes hundreds of..."
      ]
     },
     "execution_count": 127,
     "metadata": {},
     "output_type": "execute_result"
    }
   ],
   "source": [
    "# Import Kaggle Netflix DB\n",
    "kaggle = pd.read_csv(\"zippedData/netflix_titles.csv\")\n",
    "kaggle.head()"
   ]
  },
  {
   "cell_type": "code",
   "execution_count": 128,
   "metadata": {},
   "outputs": [
    {
     "name": "stdout",
     "output_type": "stream",
     "text": [
      "<class 'pandas.core.frame.DataFrame'>\n",
      "MultiIndex: 12471 entries, (show_id, type, title, director, cast, country, date_added, release_year, rating, duration, listed_in) to (70153404, TV Show, Friends, nan, Jennifer Aniston, Courteney Cox, Lisa Kudrow, Matt LeBlanc, Matthew Perry, David Schwimmer, United States, nan, 2003, TV-14, 10 Seasons, Classic & Cult TV, TV Comedies)\n",
      "Data columns (total 1 columns):\n",
      "<<<<<<< HEAD    12469 non-null object\n",
      "dtypes: object(1)\n",
      "memory usage: 516.6+ KB\n"
     ]
    }
   ],
   "source": [
    "kaggle.info()"
   ]
  },
  {
   "cell_type": "code",
   "execution_count": 129,
   "metadata": {},
   "outputs": [
    {
     "data": {
      "text/html": [
       "<div>\n",
       "<style scoped>\n",
       "    .dataframe tbody tr th:only-of-type {\n",
       "        vertical-align: middle;\n",
       "    }\n",
       "\n",
       "    .dataframe tbody tr th {\n",
       "        vertical-align: top;\n",
       "    }\n",
       "\n",
       "    .dataframe thead th {\n",
       "        text-align: right;\n",
       "    }\n",
       "</style>\n",
       "<table border=\"1\" class=\"dataframe\">\n",
       "  <thead>\n",
       "    <tr style=\"text-align: right;\">\n",
       "      <th></th>\n",
       "      <th>&lt;&lt;&lt;&lt;&lt;&lt;&lt; HEAD</th>\n",
       "    </tr>\n",
       "  </thead>\n",
       "  <tbody>\n",
       "    <tr>\n",
       "      <th>count</th>\n",
       "      <td>12469</td>\n",
       "    </tr>\n",
       "    <tr>\n",
       "      <th>unique</th>\n",
       "      <td>6227</td>\n",
       "    </tr>\n",
       "    <tr>\n",
       "      <th>top</th>\n",
       "      <td>A surly septuagenarian gets another chance at ...</td>\n",
       "    </tr>\n",
       "    <tr>\n",
       "      <th>freq</th>\n",
       "      <td>6</td>\n",
       "    </tr>\n",
       "  </tbody>\n",
       "</table>\n",
       "</div>"
      ],
      "text/plain": [
       "                                             <<<<<<< HEAD\n",
       "count                                               12469\n",
       "unique                                               6227\n",
       "top     A surly septuagenarian gets another chance at ...\n",
       "freq                                                    6"
      ]
     },
     "execution_count": 129,
     "metadata": {},
     "output_type": "execute_result"
    }
   ],
   "source": [
    "kaggle.describe()"
   ]
  },
  {
   "cell_type": "markdown",
   "metadata": {},
   "source": [
    "# Cleaning"
   ]
  },
  {
   "cell_type": "code",
   "execution_count": 130,
   "metadata": {},
   "outputs": [
    {
     "name": "stdout",
     "output_type": "stream",
     "text": [
      "6243\n"
     ]
    },
    {
     "data": {
      "text/html": [
       "<div>\n",
       "<style scoped>\n",
       "    .dataframe tbody tr th:only-of-type {\n",
       "        vertical-align: middle;\n",
       "    }\n",
       "\n",
       "    .dataframe tbody tr th {\n",
       "        vertical-align: top;\n",
       "    }\n",
       "\n",
       "    .dataframe thead th {\n",
       "        text-align: right;\n",
       "    }\n",
       "</style>\n",
       "<table border=\"1\" class=\"dataframe\">\n",
       "  <thead>\n",
       "    <tr style=\"text-align: right;\">\n",
       "      <th></th>\n",
       "      <th></th>\n",
       "      <th></th>\n",
       "      <th></th>\n",
       "      <th></th>\n",
       "      <th></th>\n",
       "      <th></th>\n",
       "      <th></th>\n",
       "      <th></th>\n",
       "      <th></th>\n",
       "      <th></th>\n",
       "      <th>&lt;&lt;&lt;&lt;&lt;&lt;&lt; HEAD</th>\n",
       "    </tr>\n",
       "  </thead>\n",
       "  <tbody>\n",
       "    <tr>\n",
       "      <th>81186757</th>\n",
       "      <th>Movie</th>\n",
       "      <th>Oh! Baby (Tamil)</th>\n",
       "      <th>B. V. Nandini Reddy</th>\n",
       "      <th>Samantha Ruth Prabhu, Lakshmi, Rajendraprasad, Naga Shourya, Rao Ramesh, Teja Sajja, Pragathi, Jagapathi Babu, Aishwarya, Urvashi</th>\n",
       "      <th>India</th>\n",
       "      <th>September 25, 2019</th>\n",
       "      <th>2019</th>\n",
       "      <th>TV-14</th>\n",
       "      <th>146 min</th>\n",
       "      <th>Comedies, International Movies, Music &amp; Musicals</th>\n",
       "      <td>A surly septuagenarian gets another chance at ...</td>\n",
       "    </tr>\n",
       "    <tr>\n",
       "      <th>81093951</th>\n",
       "      <th>Movie</th>\n",
       "      <th>Oh! Baby</th>\n",
       "      <th>B. V. Nandini Reddy</th>\n",
       "      <th>Samantha Ruth Prabhu, Lakshmi, Rajendraprasad, Naga Shourya, Rao Ramesh, Teja Sajja, Pragathi, Jagapathi Babu, Aishwarya, Urvashi</th>\n",
       "      <th>India</th>\n",
       "      <th>September 14, 2019</th>\n",
       "      <th>2019</th>\n",
       "      <th>TV-14</th>\n",
       "      <th>157 min</th>\n",
       "      <th>Comedies, International Movies, Music &amp; Musicals</th>\n",
       "      <td>A surly septuagenarian gets another chance at ...</td>\n",
       "    </tr>\n",
       "    <tr>\n",
       "      <th>81072516</th>\n",
       "      <th>Movie</th>\n",
       "      <th>Sarkar</th>\n",
       "      <th>A.R. Murugadoss</th>\n",
       "      <th>Vijay, Varalakshmi Sarathkumar, Keerthi Suresh, Radha Ravi, Pala Karuppaiah, Yogi Babu</th>\n",
       "      <th>India</th>\n",
       "      <th>March 2, 2019</th>\n",
       "      <th>2018</th>\n",
       "      <th>TV-MA</th>\n",
       "      <th>162 min</th>\n",
       "      <th>Action &amp; Adventure, Dramas, International Movies</th>\n",
       "      <td>A ruthless businessman’s mission to expose ele...</td>\n",
       "    </tr>\n",
       "    <tr>\n",
       "      <th>81046962</th>\n",
       "      <th>Movie</th>\n",
       "      <th>Solo: A Star Wars Story (Spanish Version)</th>\n",
       "      <th>Ron Howard</th>\n",
       "      <th>Alden Ehrenreich, Woody Harrelson, Emilia Clarke, Donald Glover, Joonas Suotamo, Thandie Newton, Phoebe Waller-Bridge, Paul Bettany</th>\n",
       "      <th>United States</th>\n",
       "      <th>January 9, 2019</th>\n",
       "      <th>2018</th>\n",
       "      <th>PG-13</th>\n",
       "      <th>135 min</th>\n",
       "      <th>Action &amp; Adventure, Children &amp; Family Movies, Sci-Fi &amp; Fantasy</th>\n",
       "      <td>A young Han Solo tries to settle an old score ...</td>\n",
       "    </tr>\n",
       "    <tr>\n",
       "      <th>81059388</th>\n",
       "      <th>Movie</th>\n",
       "      <th>Incredibles 2 (Spanish Version)</th>\n",
       "      <th>Brad Bird</th>\n",
       "      <th>Víctor Trujillo, Consuelo Duval, Darío T. Pie, Leyla Rangel, Oliver Díaz Barba, Dulce Guerrero, Eli Fucile, Martin Hernandez</th>\n",
       "      <th>United States</th>\n",
       "      <th>February 8, 2019</th>\n",
       "      <th>2018</th>\n",
       "      <th>PG</th>\n",
       "      <th>118 min</th>\n",
       "      <th>Children &amp; Family Movies, Comedies</th>\n",
       "      <td>When Elastigirl gets recruited for a high-prof...</td>\n",
       "    </tr>\n",
       "  </tbody>\n",
       "</table>\n",
       "</div>"
      ],
      "text/plain": [
       "                                                                                                                                                                                                                                                                             <<<<<<< HEAD\n",
       "81186757 Movie Oh! Baby (Tamil)                          B. V. Nandini Reddy Samantha Ruth Prabhu, Lakshmi, Rajendraprasad, ... India         September 25, 2019 2019 TV-14 146 min Comedies, International Movies, Music & Musicals    A surly septuagenarian gets another chance at ...\n",
       "81093951 Movie Oh! Baby                                  B. V. Nandini Reddy Samantha Ruth Prabhu, Lakshmi, Rajendraprasad, ... India         September 14, 2019 2019 TV-14 157 min Comedies, International Movies, Music & Musicals    A surly septuagenarian gets another chance at ...\n",
       "81072516 Movie Sarkar                                    A.R. Murugadoss     Vijay, Varalakshmi Sarathkumar, Keerthi Suresh,... India         March 2, 2019      2018 TV-MA 162 min Action & Adventure, Dramas, International Movies    A ruthless businessman’s mission to expose ele...\n",
       "81046962 Movie Solo: A Star Wars Story (Spanish Version) Ron Howard          Alden Ehrenreich, Woody Harrelson, Emilia Clark... United States January 9, 2019    2018 PG-13 135 min Action & Adventure, Children & Family Movies, S...  A young Han Solo tries to settle an old score ...\n",
       "81059388 Movie Incredibles 2 (Spanish Version)           Brad Bird           Víctor Trujillo, Consuelo Duval, Darío T. Pie, ... United States February 8, 2019   2018 PG    118 min Children & Family Movies, Comedies                  When Elastigirl gets recruited for a high-prof..."
      ]
     },
     "execution_count": 130,
     "metadata": {},
     "output_type": "execute_result"
    }
   ],
   "source": [
    "# Check for duplicates\n",
    "duplicates = kaggle[kaggle.duplicated()]\n",
    "print(len(duplicates))\n",
    "duplicates.head()"
   ]
  },
  {
   "cell_type": "code",
   "execution_count": 131,
   "metadata": {},
   "outputs": [
    {
     "data": {
      "text/plain": [
       "<<<<<<< HEAD    2\n",
       "dtype: int64"
      ]
     },
     "execution_count": 131,
     "metadata": {},
     "output_type": "execute_result"
    }
   ],
   "source": [
    "# Check and get count of Null values per column\n",
    "kaggle.isna().sum()"
   ]
  },
  {
   "cell_type": "code",
   "execution_count": 133,
   "metadata": {},
   "outputs": [
    {
     "ename": "AttributeError",
     "evalue": "'DataFrame' object has no attribute 'value_count'",
     "output_type": "error",
     "traceback": [
      "\u001b[1;31m---------------------------------------------------------------------------\u001b[0m",
      "\u001b[1;31mAttributeError\u001b[0m                            Traceback (most recent call last)",
      "\u001b[1;32m<ipython-input-133-7c69a36aef72>\u001b[0m in \u001b[0;36m<module>\u001b[1;34m\u001b[0m\n\u001b[1;32m----> 1\u001b[1;33m \u001b[0mkaggle\u001b[0m\u001b[1;33m.\u001b[0m\u001b[0mvalue_count\u001b[0m\u001b[1;33m(\u001b[0m\u001b[1;34m'type'\u001b[0m\u001b[1;33m)\u001b[0m\u001b[1;33m\u001b[0m\u001b[1;33m\u001b[0m\u001b[0m\n\u001b[0m",
      "\u001b[1;32m~\\anaconda3\\envs\\learn-env\\lib\\site-packages\\pandas\\core\\generic.py\u001b[0m in \u001b[0;36m__getattr__\u001b[1;34m(self, name)\u001b[0m\n\u001b[0;32m   5177\u001b[0m             \u001b[1;32mif\u001b[0m \u001b[0mself\u001b[0m\u001b[1;33m.\u001b[0m\u001b[0m_info_axis\u001b[0m\u001b[1;33m.\u001b[0m\u001b[0m_can_hold_identifiers_and_holds_name\u001b[0m\u001b[1;33m(\u001b[0m\u001b[0mname\u001b[0m\u001b[1;33m)\u001b[0m\u001b[1;33m:\u001b[0m\u001b[1;33m\u001b[0m\u001b[1;33m\u001b[0m\u001b[0m\n\u001b[0;32m   5178\u001b[0m                 \u001b[1;32mreturn\u001b[0m \u001b[0mself\u001b[0m\u001b[1;33m[\u001b[0m\u001b[0mname\u001b[0m\u001b[1;33m]\u001b[0m\u001b[1;33m\u001b[0m\u001b[1;33m\u001b[0m\u001b[0m\n\u001b[1;32m-> 5179\u001b[1;33m             \u001b[1;32mreturn\u001b[0m \u001b[0mobject\u001b[0m\u001b[1;33m.\u001b[0m\u001b[0m__getattribute__\u001b[0m\u001b[1;33m(\u001b[0m\u001b[0mself\u001b[0m\u001b[1;33m,\u001b[0m \u001b[0mname\u001b[0m\u001b[1;33m)\u001b[0m\u001b[1;33m\u001b[0m\u001b[1;33m\u001b[0m\u001b[0m\n\u001b[0m\u001b[0;32m   5180\u001b[0m \u001b[1;33m\u001b[0m\u001b[0m\n\u001b[0;32m   5181\u001b[0m     \u001b[1;32mdef\u001b[0m \u001b[0m__setattr__\u001b[0m\u001b[1;33m(\u001b[0m\u001b[0mself\u001b[0m\u001b[1;33m,\u001b[0m \u001b[0mname\u001b[0m\u001b[1;33m,\u001b[0m \u001b[0mvalue\u001b[0m\u001b[1;33m)\u001b[0m\u001b[1;33m:\u001b[0m\u001b[1;33m\u001b[0m\u001b[1;33m\u001b[0m\u001b[0m\n",
      "\u001b[1;31mAttributeError\u001b[0m: 'DataFrame' object has no attribute 'value_count'"
     ]
    }
   ],
   "source": [
    "kaggle.value_count('type')"
   ]
  },
  {
   "cell_type": "code",
   "execution_count": 132,
   "metadata": {},
   "outputs": [
    {
     "ename": "AttributeError",
     "evalue": "'DataFrame' object has no attribute 'director'",
     "output_type": "error",
     "traceback": [
      "\u001b[1;31m---------------------------------------------------------------------------\u001b[0m",
      "\u001b[1;31mAttributeError\u001b[0m                            Traceback (most recent call last)",
      "\u001b[1;32m<ipython-input-132-30c59a0a5026>\u001b[0m in \u001b[0;36m<module>\u001b[1;34m\u001b[0m\n\u001b[0;32m      1\u001b[0m \u001b[1;31m# percent and counts of nulls per column\u001b[0m\u001b[1;33m\u001b[0m\u001b[1;33m\u001b[0m\u001b[1;33m\u001b[0m\u001b[0m\n\u001b[1;32m----> 2\u001b[1;33m \u001b[0mprint\u001b[0m\u001b[1;33m(\u001b[0m\u001b[1;34m'% of nulls director:'\u001b[0m\u001b[1;33m,\u001b[0m \u001b[0mlen\u001b[0m\u001b[1;33m(\u001b[0m\u001b[0mkaggle\u001b[0m\u001b[1;33m[\u001b[0m\u001b[0mkaggle\u001b[0m\u001b[1;33m.\u001b[0m\u001b[0mdirector\u001b[0m\u001b[1;33m.\u001b[0m\u001b[0misna\u001b[0m\u001b[1;33m(\u001b[0m\u001b[1;33m)\u001b[0m\u001b[1;33m]\u001b[0m\u001b[1;33m)\u001b[0m\u001b[1;33m/\u001b[0m\u001b[0mlen\u001b[0m\u001b[1;33m(\u001b[0m\u001b[0mkaggle\u001b[0m\u001b[1;33m)\u001b[0m\u001b[1;33m)\u001b[0m\u001b[1;33m\u001b[0m\u001b[1;33m\u001b[0m\u001b[0m\n\u001b[0m\u001b[0;32m      3\u001b[0m \u001b[0mprint\u001b[0m\u001b[1;33m(\u001b[0m\u001b[1;34m'number of unique director values:'\u001b[0m\u001b[1;33m,\u001b[0m \u001b[0mkaggle\u001b[0m\u001b[1;33m.\u001b[0m\u001b[0mdirector\u001b[0m\u001b[1;33m.\u001b[0m\u001b[0mnunique\u001b[0m\u001b[1;33m(\u001b[0m\u001b[1;33m)\u001b[0m\u001b[1;33m)\u001b[0m\u001b[1;33m\u001b[0m\u001b[1;33m\u001b[0m\u001b[0m\n\u001b[0;32m      4\u001b[0m \u001b[1;33m\u001b[0m\u001b[0m\n\u001b[0;32m      5\u001b[0m \u001b[0mprint\u001b[0m\u001b[1;33m(\u001b[0m\u001b[1;34m'% of nulls cast:'\u001b[0m\u001b[1;33m,\u001b[0m \u001b[0mlen\u001b[0m\u001b[1;33m(\u001b[0m\u001b[0mkaggle\u001b[0m\u001b[1;33m[\u001b[0m\u001b[0mkaggle\u001b[0m\u001b[1;33m.\u001b[0m\u001b[0mcast\u001b[0m\u001b[1;33m.\u001b[0m\u001b[0misna\u001b[0m\u001b[1;33m(\u001b[0m\u001b[1;33m)\u001b[0m\u001b[1;33m]\u001b[0m\u001b[1;33m)\u001b[0m\u001b[1;33m/\u001b[0m\u001b[0mlen\u001b[0m\u001b[1;33m(\u001b[0m\u001b[0mkaggle\u001b[0m\u001b[1;33m)\u001b[0m\u001b[1;33m)\u001b[0m\u001b[1;33m\u001b[0m\u001b[1;33m\u001b[0m\u001b[0m\n",
      "\u001b[1;32m~\\anaconda3\\envs\\learn-env\\lib\\site-packages\\pandas\\core\\generic.py\u001b[0m in \u001b[0;36m__getattr__\u001b[1;34m(self, name)\u001b[0m\n\u001b[0;32m   5177\u001b[0m             \u001b[1;32mif\u001b[0m \u001b[0mself\u001b[0m\u001b[1;33m.\u001b[0m\u001b[0m_info_axis\u001b[0m\u001b[1;33m.\u001b[0m\u001b[0m_can_hold_identifiers_and_holds_name\u001b[0m\u001b[1;33m(\u001b[0m\u001b[0mname\u001b[0m\u001b[1;33m)\u001b[0m\u001b[1;33m:\u001b[0m\u001b[1;33m\u001b[0m\u001b[1;33m\u001b[0m\u001b[0m\n\u001b[0;32m   5178\u001b[0m                 \u001b[1;32mreturn\u001b[0m \u001b[0mself\u001b[0m\u001b[1;33m[\u001b[0m\u001b[0mname\u001b[0m\u001b[1;33m]\u001b[0m\u001b[1;33m\u001b[0m\u001b[1;33m\u001b[0m\u001b[0m\n\u001b[1;32m-> 5179\u001b[1;33m             \u001b[1;32mreturn\u001b[0m \u001b[0mobject\u001b[0m\u001b[1;33m.\u001b[0m\u001b[0m__getattribute__\u001b[0m\u001b[1;33m(\u001b[0m\u001b[0mself\u001b[0m\u001b[1;33m,\u001b[0m \u001b[0mname\u001b[0m\u001b[1;33m)\u001b[0m\u001b[1;33m\u001b[0m\u001b[1;33m\u001b[0m\u001b[0m\n\u001b[0m\u001b[0;32m   5180\u001b[0m \u001b[1;33m\u001b[0m\u001b[0m\n\u001b[0;32m   5181\u001b[0m     \u001b[1;32mdef\u001b[0m \u001b[0m__setattr__\u001b[0m\u001b[1;33m(\u001b[0m\u001b[0mself\u001b[0m\u001b[1;33m,\u001b[0m \u001b[0mname\u001b[0m\u001b[1;33m,\u001b[0m \u001b[0mvalue\u001b[0m\u001b[1;33m)\u001b[0m\u001b[1;33m:\u001b[0m\u001b[1;33m\u001b[0m\u001b[1;33m\u001b[0m\u001b[0m\n",
      "\u001b[1;31mAttributeError\u001b[0m: 'DataFrame' object has no attribute 'director'"
     ]
    }
   ],
   "source": [
    "# percent and counts of nulls per column\n",
    "print('% of nulls director:', len(kaggle[kaggle.director.isna()])/len(kaggle))\n",
    "print('number of unique director values:', kaggle.director.nunique())\n",
    "\n",
    "print('% of nulls cast:', len(kaggle[kaggle.cast.isna()])/len(kaggle))\n",
    "print('number of unique cast values:', kaggle.cast.nunique())\n",
    "\n",
    "print('% of nulls country:', len(kaggle[kaggle.country.isna()])/len(kaggle))\n",
    "print('number of unique country values:', kaggle.country.nunique())\n",
    "\n",
    "print('% of nulls date_added:', len(kaggle[kaggle.date_added.isna()])/len(kaggle))\n",
    "print('number of unique date_added values:', kaggle.date_added.nunique())\n",
    "\n",
    "print('% of nulls rating:', len(kaggle[kaggle.rating.isna()])/len(kaggle))\n",
    "print('number of unique rating values:', kaggle.rating.nunique())"
   ]
  },
  {
   "cell_type": "code",
   "execution_count": null,
   "metadata": {},
   "outputs": [],
   "source": [
    "# Drop Director column: 32% null\n",
    "kaggle.drop(['director'], axis=1)"
   ]
  },
  {
   "cell_type": "code",
   "execution_count": null,
   "metadata": {},
   "outputs": [],
   "source": [
    "# replace nulls\n",
    "kaggle['director'] = kaggle['director'].fillna('unknown')\n",
    "kaggle['cast'] = kaggle['cast'].fillna('unknown')\n",
    "kaggle['country'] = kaggle['country'].fillna('unknown')\n",
    "kaggle['date_added'] = kaggle['date_added'].fillna('unknown')\n",
    "kaggle['rating'] = kaggle['rating'].fillna('unknown')"
   ]
  },
  {
   "cell_type": "code",
   "execution_count": null,
   "metadata": {},
   "outputs": [],
   "source": [
    "# Check nulls were replaced\n",
    "kaggle.isna().sum()"
   ]
  },
  {
   "cell_type": "markdown",
   "metadata": {},
   "source": [
    "# VISUALIZATIONS"
   ]
  },
  {
   "cell_type": "code",
   "execution_count": null,
   "metadata": {},
   "outputs": [],
   "source": [
    "kaggle_grouped = kaggle.groupby(['release_year','type'])['title'].count().reset_index()\n",
    "kaggle_grouped.tail(10)"
   ]
  },
  {
   "cell_type": "code",
   "execution_count": null,
   "metadata": {},
   "outputs": [],
   "source": [
    "# TV Shows vs. Movies on Netflix 2007 - 2019 . 2007 is when they started streaming. filter out 2020\n",
    "kaggle_filtered = kaggle_grouped.loc[(kaggle_grouped['release_year']>2006) & (kaggle_grouped['release_year']<2020)]\n",
    "kaggle_filtered.head()"
   ]
  },
  {
   "cell_type": "code",
   "execution_count": null,
   "metadata": {},
   "outputs": [],
   "source": [
    "fig,ax = plt.subplots(figsize=(10,6))\n",
    "ax.set(xlabel='Year of Release', ylabel='Number of Titles')\n",
    "ax = sns.lineplot(x='release_year', y='title', data=kaggle_filtered, hue='type', markers=True, palette='inferno').set_title(\"TV Show vs. Movies (2007-2019)\")"
   ]
  },
  {
   "cell_type": "code",
   "execution_count": null,
   "metadata": {},
   "outputs": [],
   "source": [
    "# show 2017 - 2019 for better visual\n",
    "kaggle_filtered2 = kaggle_grouped.loc[(kaggle_grouped['release_year']>2016) & (kaggle_grouped['release_year']<2020)]\n",
    "kaggle_filtered2"
   ]
  },
  {
   "cell_type": "code",
   "execution_count": null,
   "metadata": {},
   "outputs": [],
   "source": [
    "fig,ax = plt.subplots(figsize=(10,6))\n",
    "ax.set(xlabel='Year of Release', ylabel='Number of Titles')\n",
    "ax = sns.lineplot(x='release_year', y='title', data=kaggle_filtered2, hue='type', markers=True, palette='inferno').set_title(\"TV Show vs. Movies (2017-2019)\")"
   ]
  },
  {
   "cell_type": "code",
   "execution_count": null,
   "metadata": {},
   "outputs": [],
   "source": []
  }
 ],
 "metadata": {
  "kernelspec": {
   "display_name": "Python 3",
   "language": "python",
   "name": "python3"
  },
  "language_info": {
   "codemirror_mode": {
    "name": "ipython",
    "version": 3
   },
   "file_extension": ".py",
   "mimetype": "text/x-python",
   "name": "python",
   "nbconvert_exporter": "python",
   "pygments_lexer": "ipython3",
   "version": "3.6.9"
  }
 },
 "nbformat": 4,
 "nbformat_minor": 4
}
